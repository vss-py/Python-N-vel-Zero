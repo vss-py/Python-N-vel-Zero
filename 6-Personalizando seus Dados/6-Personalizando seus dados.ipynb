{
 "cells": [
  {
   "cell_type": "markdown",
   "metadata": {},
   "source": [
    "## Vários tipos diferentes de Dados"
   ]
  },
  {
   "cell_type": "code",
   "execution_count": null,
   "metadata": {},
   "outputs": [],
   "source": [
    "\"\"\"Imagina agora que você queira adicionar informações nesta lista, e estas informações\n",
    "são diferentes, apesar de possivelmente também ser números.\"\"\"\n",
    "\n",
    "\"\"\"victor.txt\n",
    "Victor Santos, 08/11/1993, 2-34,3:21,2.34,2.45,3.01,2:01,2:01,3:10,2-22\n",
    "                \n",
    "suelen.txt\n",
    "Suelen Simões, 06/02/1996, 2:58,2.58,2:39,2-25,2-55,2:54,2.18,2:55,2:55\"\"\""
   ]
  },
  {
   "cell_type": "code",
   "execution_count": 1,
   "metadata": {},
   "outputs": [
    {
     "name": "stdout",
     "output_type": "stream",
     "text": [
      "Informe o caminho do arquivo: dados/victor.txt\n"
     ]
    },
    {
     "data": {
      "text/plain": [
       "['Victor Santos',\n",
       " ' 08/11/1993',\n",
       " ' 2-34',\n",
       " '3:21',\n",
       " '2:34',\n",
       " '2:45',\n",
       " '3:01',\n",
       " '2:01',\n",
       " '2:01']"
      ]
     },
     "execution_count": 1,
     "metadata": {},
     "output_type": "execute_result"
    }
   ],
   "source": [
    "\"\"\"A antiga função padroniza2 ainda continua funcionando:\"\"\"\n",
    "def padroniza2(a=1, b=9):\n",
    "    lista = []\n",
    "    nome = input('Informe o caminho do arquivo: ')\n",
    "    with open(nome) as nome:\n",
    "        dados = nome.readline()\n",
    "    nome_padronizado = dados.strip().split(',')\n",
    "    for cada_valor in nome_padronizado:\n",
    "        if cada_valor[1] == '-':\n",
    "            #print(cada_valor.replace('-', ':'))\n",
    "            lista.append(cada_valor.replace('-', ':'))\n",
    "        elif cada_valor[1] == '.':\n",
    "            #print(cada_valor.replace('.', ':'))\n",
    "            lista.append(cada_valor.replace('.', ':'))\n",
    "        else:\n",
    "            #print(cada_valor)\n",
    "            lista.append(cada_valor)\n",
    "    a = a - 1\n",
    "    return(lista[a:b])\n",
    "padroniza2()"
   ]
  },
  {
   "cell_type": "code",
   "execution_count": null,
   "metadata": {},
   "outputs": [],
   "source": [
    "\"\"\"Mas perceba que estamos exibindo tudo da mesma maneira. Por Deus, são grandezas\n",
    "totalmente diferentes(apesar de ambos serem dados): \n",
    "nome, data de nascimento, tempo de corrida.\"\"\""
   ]
  },
  {
   "cell_type": "code",
   "execution_count": null,
   "metadata": {},
   "outputs": [],
   "source": [
    "\"\"\"As listas são ótimas! Mas nem sempre são a melhor opção para dados complexos!\"\"\""
   ]
  },
  {
   "cell_type": "code",
   "execution_count": 6,
   "metadata": {},
   "outputs": [
    {
     "name": "stdout",
     "output_type": "stream",
     "text": [
      "<class 'dict'>\n",
      "<class 'dict'>\n"
     ]
    }
   ],
   "source": [
    "#Criando dicionários!\n",
    "dicionario1 = {}\n",
    "dicionario2 = dict()\n",
    "#2 maneiras de criar dicionarios\n",
    "print(type(dicionario1))\n",
    "print(type(dicionario2))"
   ]
  },
  {
   "cell_type": "code",
   "execution_count": 7,
   "metadata": {},
   "outputs": [],
   "source": [
    "#Também existem 2 maneiras de se adicionar valores aos dicionários\n",
    "dicionario1['Nome'] = 'Victor Santos'\n",
    "dicionario1['Profissão'] = ['Estudante', 'Desenvolvedor', 'Físico']\n",
    "\n",
    "dicionario2 = {'Nome': 'Suelen Simões', 'Profissão': ['Estudante', 'Designer', 'Física']}\n",
    "\"\"\"Os dados são sempre associados às chaves, em dicionários. Sempre associando, por exemplo,\n",
    "uma grandeza ao seu valor.\"\"\""
   ]
  },
  {
   "cell_type": "code",
   "execution_count": 16,
   "metadata": {},
   "outputs": [
    {
     "name": "stdout",
     "output_type": "stream",
     "text": [
      "{'Nome': 'Victor Santos', 'Profissão': ['Estudante', 'Desenvolvedor', 'Físico']}\n",
      "{'Nome': 'Suelen Simões', 'Profissão': ['Estudante', 'Designer', 'Física']}\n"
     ]
    }
   ],
   "source": [
    "#E para chamar:\n",
    "print(dicionario1)\n",
    "print(dicionario2)"
   ]
  },
  {
   "cell_type": "code",
   "execution_count": 18,
   "metadata": {},
   "outputs": [
    {
     "name": "stdout",
     "output_type": "stream",
     "text": [
      "Suelen Simões\n",
      "['Estudante', 'Desenvolvedor', 'Físico']\n"
     ]
    }
   ],
   "source": [
    "\"\"\"Ou de forma individual, associando a 'grandeza' a seu respectivo 'valor':\"\"\"\n",
    "print(dicionario2['Nome'])\n",
    "print(dicionario1['Profissão'])#aqui podemos brincar como listas"
   ]
  },
  {
   "cell_type": "code",
   "execution_count": 20,
   "metadata": {},
   "outputs": [
    {
     "name": "stdout",
     "output_type": "stream",
     "text": [
      "Físico\n",
      "Estudante\n"
     ]
    }
   ],
   "source": [
    "print(dicionario1['Profissão'][-1])#último valor\n",
    "print(dicionario2['Profissão'][0])#primeiro valor"
   ]
  },
  {
   "cell_type": "code",
   "execution_count": null,
   "metadata": {},
   "outputs": [],
   "source": [
    "\"\"\"Vamos então transformar as listas com os tempos, em dicionários, com nome, data \n",
    "de nascimento e o tempo de cada pessoa.\"\"\""
   ]
  },
  {
   "cell_type": "code",
   "execution_count": 5,
   "metadata": {},
   "outputs": [
    {
     "name": "stdout",
     "output_type": "stream",
     "text": [
      "Victor Santos\n",
      " 08/11/1993\n",
      " 2-34\n",
      "3:21\n",
      "2.34\n",
      "2.45\n",
      "3.01\n",
      "2:01\n",
      "2:01\n",
      "3:10\n",
      "2-22\n"
     ]
    }
   ],
   "source": [
    "#por partes\n",
    "with open('dados/victor.txt') as victor:\n",
    "    dados = victor.readline()\n",
    "padronizado = dados.strip().split(',')\n",
    "for cada_valor in padronizado:\n",
    "        print(cada_valor)\n",
    "\"\"\"Veja que os dois primeiros valores fogem à regra\"\"\"   "
   ]
  },
  {
   "cell_type": "code",
   "execution_count": 12,
   "metadata": {},
   "outputs": [
    {
     "name": "stdout",
     "output_type": "stream",
     "text": [
      "<class 'str'>\n",
      "<class 'str'>\n",
      "<class 'str'>\n",
      "<class 'str'>\n",
      "<class 'str'>\n",
      "<class 'str'>\n",
      "<class 'str'>\n",
      "<class 'str'>\n",
      "<class 'str'>\n",
      "<class 'str'>\n",
      "<class 'str'>\n"
     ]
    }
   ],
   "source": [
    "with open('dados/victor.txt') as victor:\n",
    "    dados = victor.readline()\n",
    "padronizado = dados.strip().split(',')\n",
    "for cada_valor in padronizado:\n",
    "        print(type(cada_valor))\n",
    "        \n",
    "\"\"\"Todos os valores dentro desta lista são strings.\"\"\""
   ]
  },
  {
   "cell_type": "code",
   "execution_count": 16,
   "metadata": {},
   "outputs": [
    {
     "name": "stdout",
     "output_type": "stream",
     "text": [
      "<class 'int'>\n",
      "0\n",
      "<class 'int'>\n",
      "1\n",
      "<class 'int'>\n",
      "2\n",
      "<class 'int'>\n",
      "3\n",
      "<class 'int'>\n",
      "4\n",
      "<class 'int'>\n",
      "5\n",
      "<class 'int'>\n",
      "6\n",
      "<class 'int'>\n",
      "7\n",
      "<class 'int'>\n",
      "8\n",
      "<class 'int'>\n",
      "9\n",
      "<class 'int'>\n",
      "10\n"
     ]
    }
   ],
   "source": [
    "with open('dados/victor.txt') as victor:\n",
    "    dados = victor.readline()\n",
    "padronizado = dados.strip().split(',')\n",
    "for cada_valor in range(len(padronizado)):\n",
    "        print(type(cada_valor))\n",
    "        print(cada_valor)\n",
    "        \n",
    "\"\"\"Agora todos os valores são números inteiros\"\"\""
   ]
  },
  {
   "cell_type": "code",
   "execution_count": 21,
   "metadata": {},
   "outputs": [
    {
     "name": "stdout",
     "output_type": "stream",
     "text": [
      " 2-34\n",
      "3:21\n",
      "2.34\n",
      "2.45\n",
      "3.01\n",
      "2:01\n",
      "2:01\n",
      "3:10\n",
      "2-22\n"
     ]
    }
   ],
   "source": [
    "\"\"\"Então a melhor maneira de fazermos isso é pelo o fato de sabermos que os dois primeiros\n",
    "valores não são tempos.\"\"\"\n",
    "with open('dados/victor.txt') as victor:\n",
    "    dados = victor.readline()\n",
    "padronizado = dados.strip().split(',')\n",
    "for cada_valor in padronizado[2:]:\n",
    "        print(cada_valor)"
   ]
  },
  {
   "cell_type": "code",
   "execution_count": 2,
   "metadata": {},
   "outputs": [
    {
     "name": "stdout",
     "output_type": "stream",
     "text": [
      "{'Nome': 'Victor Santos', 'Nascimento': ' 08/11/1993', 'Tempos': '2-22'}\n"
     ]
    },
    {
     "data": {
      "text/plain": [
       "'Vemos que ele adicionou apenas um tempo, o último, apesar de haver vários no \\ndado intervalo.'"
      ]
     },
     "execution_count": 2,
     "metadata": {},
     "output_type": "execute_result"
    }
   ],
   "source": [
    "dicionario_victor = {}\n",
    "with open('dados/victor.txt') as victor:\n",
    "    dados = victor.readline()\n",
    "padronizado = dados.strip().split(',')\n",
    "for cada_valor in padronizado[0:1]:\n",
    "    dicionario_victor['Nome'] = cada_valor\n",
    "for cada_valor in padronizado[1:2]:\n",
    "    dicionario_victor['Nascimento'] = cada_valor\n",
    "for cada_valor in padronizado[2:]:\n",
    "    dicionario_victor['Tempos'] = cada_valor\n",
    "print(dicionario_victor)\n",
    "\"\"\"Vemos que ele adicionou apenas um tempo, o último, apesar de haver vários no \n",
    "dado intervalo.\"\"\""
   ]
  },
  {
   "cell_type": "code",
   "execution_count": 3,
   "metadata": {},
   "outputs": [
    {
     "name": "stdout",
     "output_type": "stream",
     "text": [
      "{'Nome': 'Victor Santos', 'Nascimento': ' 08/11/1993', 'Tempos': '2-22Victor Santos 08/11/1993 2-343:212.342.453.012:012:013:102-22'}\n"
     ]
    },
    {
     "data": {
      "text/plain": [
       "'E diferente das listas, dicionários são'"
      ]
     },
     "execution_count": 3,
     "metadata": {},
     "output_type": "execute_result"
    }
   ],
   "source": [
    "with open('dados/victor.txt') as victor:\n",
    "    dados = victor.readline()\n",
    "padronizado = dados.strip().split(',')\n",
    "for cada_valor in padronizado[0:1]:\n",
    "    dicionario_victor['Nome'] = cada_valor\n",
    "for cada_valor in padronizado[1:2]:\n",
    "    dicionario_victor['Nascimento'] = cada_valor\n",
    "for cada_valor in padronizado:\n",
    "    dicionario_victor['Tempos'] += cada_valor\n",
    "print(dicionario_victor)\n",
    "\"\"\"E diferente das listas, dicionários são\"\"\""
   ]
  },
  {
   "cell_type": "code",
   "execution_count": 4,
   "metadata": {},
   "outputs": [
    {
     "data": {
      "text/plain": [
       "{'Nome': 'Victor Santos',\n",
       " 'Nascimento': ' 08/11/1993',\n",
       " 'Tempos': '2-22Victor Santos 08/11/1993 2-343:212.342.453.012:012:013:102-22'}"
      ]
     },
     "execution_count": 4,
     "metadata": {},
     "output_type": "execute_result"
    }
   ],
   "source": [
    "dicionario_victor"
   ]
  },
  {
   "cell_type": "code",
   "execution_count": 6,
   "metadata": {},
   "outputs": [
    {
     "data": {
      "text/plain": [
       "{'Nomes': 'João', 'Idade': 25, 'Peso': 65.4}"
      ]
     },
     "execution_count": 6,
     "metadata": {},
     "output_type": "execute_result"
    }
   ],
   "source": [
    "\"\"\"dicionários não armazenam somente strings, mas apenas um tipo para cada chave.\n",
    "Imaginando que vamos adicionar um tempo mas como int ou float, não como string:\"\"\"\n",
    "dicionario_varios = {'Nomes': 'João', 'Idade': 25, 'Peso': 65.4}\n",
    "dicionario_varios"
   ]
  },
  {
   "cell_type": "code",
   "execution_count": 11,
   "metadata": {},
   "outputs": [
    {
     "ename": "TypeError",
     "evalue": "must be str, not int",
     "output_type": "error",
     "traceback": [
      "\u001b[0;31m---------------------------------------------------------------------------\u001b[0m",
      "\u001b[0;31mTypeError\u001b[0m                                 Traceback (most recent call last)",
      "\u001b[0;32m<ipython-input-11-dd1bae88ea61>\u001b[0m in \u001b[0;36m<module>\u001b[0;34m()\u001b[0m\n\u001b[0;32m----> 1\u001b[0;31m \u001b[0mdicionario_varios\u001b[0m\u001b[0;34m[\u001b[0m\u001b[0;34m'Nomes'\u001b[0m\u001b[0;34m]\u001b[0m \u001b[0;34m+=\u001b[0m \u001b[0;36m2\u001b[0m\u001b[0;34m\u001b[0m\u001b[0m\n\u001b[0m",
      "\u001b[0;31mTypeError\u001b[0m: must be str, not int"
     ]
    }
   ],
   "source": [
    "dicionario_varios['Nomes'] += 2#não posso fazer isso"
   ]
  },
  {
   "cell_type": "code",
   "execution_count": 7,
   "metadata": {},
   "outputs": [
    {
     "data": {
      "text/plain": [
       "{'Nomes': 'JoãoPaulo', 'Idade': 40, 'Peso': 65.4}"
      ]
     },
     "execution_count": 7,
     "metadata": {},
     "output_type": "execute_result"
    }
   ],
   "source": [
    "\"\"\"mas posso isso, pois dicionários são mutáveis, ou seja, eu não estou\n",
    "acrescentando novos valores as chaves:\"\"\"\n",
    "dicionario_varios['Nomes'] += 'Paulo'#concatena strings\n",
    "dicionario_varios['Idade'] += 15#operação matemática, pois não é string\n",
    "dicionario_varios"
   ]
  },
  {
   "cell_type": "code",
   "execution_count": 20,
   "metadata": {},
   "outputs": [
    {
     "data": {
      "text/plain": [
       "'J'"
      ]
     },
     "execution_count": 20,
     "metadata": {},
     "output_type": "execute_result"
    }
   ],
   "source": [
    "\"\"\"Acessando os valores como uma lista, ou como uma string mesmo\"\"\"\n",
    "dicionario_varios['Nomes'][0]"
   ]
  },
  {
   "cell_type": "code",
   "execution_count": 21,
   "metadata": {},
   "outputs": [
    {
     "data": {
      "text/plain": [
       "str"
      ]
     },
     "execution_count": 21,
     "metadata": {},
     "output_type": "execute_result"
    }
   ],
   "source": [
    "type(dicionario_varios['Nomes'][0])"
   ]
  },
  {
   "cell_type": "code",
   "execution_count": 22,
   "metadata": {},
   "outputs": [
    {
     "data": {
      "text/plain": [
       "dict_keys(['Nomes', 'Idade', 'Peso'])"
      ]
     },
     "execution_count": 22,
     "metadata": {},
     "output_type": "execute_result"
    }
   ],
   "source": [
    "dicionario_varios.keys()#me retorna as chaves"
   ]
  },
  {
   "cell_type": "code",
   "execution_count": 23,
   "metadata": {},
   "outputs": [
    {
     "data": {
      "text/plain": [
       "dict_values(['JoãoPaulo', 40, 65.4])"
      ]
     },
     "execution_count": 23,
     "metadata": {},
     "output_type": "execute_result"
    }
   ],
   "source": [
    "dicionario_varios.values()#me retorna os valores"
   ]
  },
  {
   "cell_type": "code",
   "execution_count": 4,
   "metadata": {},
   "outputs": [
    {
     "ename": "NameError",
     "evalue": "name 'dicionario_values' is not defined",
     "output_type": "error",
     "traceback": [
      "\u001b[0;31m---------------------------------------------------------------------------\u001b[0m",
      "\u001b[0;31mNameError\u001b[0m                                 Traceback (most recent call last)",
      "\u001b[0;32m<ipython-input-4-4a580a302209>\u001b[0m in \u001b[0;36m<module>\u001b[0;34m()\u001b[0m\n\u001b[0;32m----> 1\u001b[0;31m \u001b[0mdicionario_values\u001b[0m\u001b[0;34m\u001b[0m\u001b[0m\n\u001b[0m",
      "\u001b[0;31mNameError\u001b[0m: name 'dicionario_values' is not defined"
     ]
    }
   ],
   "source": [
    "dicionario_values"
   ]
  },
  {
   "cell_type": "code",
   "execution_count": 18,
   "metadata": {},
   "outputs": [
    {
     "data": {
      "text/plain": [
       "{'Nome': 'Victor', 'Somatória dos tempos': 22.689999999999998}"
      ]
     },
     "execution_count": 18,
     "metadata": {},
     "output_type": "execute_result"
    }
   ],
   "source": [
    "\"\"\"Então vamos criar um dicionário para cada atleta, e nele \n",
    "colocaremos um tempo qualquer:\"\"\"\n",
    "#abrir\n",
    "with open('dados/victor.txt') as victor:\n",
    "    dados = victor.readline()\n",
    "#processar\n",
    "padronizado = dados.replace('-', '.')\n",
    "padronizado2 = padronizado.replace(':', '.')\n",
    "finalizado = padronizado2.strip().split(',')\n",
    "victor_dict = {}#criar o dicionário\n",
    "lista = []\n",
    "for valor in finalizado[2:]:#imprimir\n",
    "    valor2 = float(valor)\n",
    "    lista.append(valor2)\n",
    "#print(sum(lista))\n",
    "victor_dict = {}\n",
    "victor_dict['Nome'] = 'Victor'\n",
    "victor_dict['Somatória dos tempos'] = sum(lista)\n",
    "victor_dict\n",
    "\"\"\"Neste caso, conseguimos dar a chave de somatória dos tempos. Mas e se \n",
    "quiséssemos um tempo aleatório?\"\"\" "
   ]
  },
  {
   "cell_type": "code",
   "execution_count": 37,
   "metadata": {
    "scrolled": true
   },
   "outputs": [
    {
     "data": {
      "text/plain": [
       "{'Nome': 'Victor',\n",
       " 'Somatória dos tempos': 22.689999999999998,\n",
       " 'Tempo aleatório': 3.21}"
      ]
     },
     "execution_count": 37,
     "metadata": {},
     "output_type": "execute_result"
    }
   ],
   "source": [
    "\"\"\"Usando o módulo random, a função randint, pegamos um valor aleatório na nossa \n",
    "lista de tempos\"\"\"\n",
    "from random import randint\n",
    "n = randint(0, len(lista))\n",
    "victor_dict['Tempo aleatório'] = lista[n]\n",
    "victor_dict"
   ]
  },
  {
   "cell_type": "code",
   "execution_count": 47,
   "metadata": {},
   "outputs": [
    {
     "name": "stdout",
     "output_type": "stream",
     "text": [
      "2.01\n"
     ]
    },
    {
     "data": {
      "text/plain": [
       "float"
      ]
     },
     "execution_count": 47,
     "metadata": {},
     "output_type": "execute_result"
    }
   ],
   "source": [
    "\"\"\"Podemos pegar o menor valor desta lista. Ou seja, o menor tempo:\"\"\"\n",
    "print(min(lista))#função pronta no python\n",
    "type(min(lista))#retorna float"
   ]
  },
  {
   "cell_type": "code",
   "execution_count": 48,
   "metadata": {},
   "outputs": [
    {
     "data": {
      "text/plain": [
       "{'Nome': 'Victor',\n",
       " 'Somatória dos tempos': 22.689999999999998,\n",
       " 'Tempo aleatório': 3.21,\n",
       " 'Menor tempo': 2.01}"
      ]
     },
     "execution_count": 48,
     "metadata": {},
     "output_type": "execute_result"
    }
   ],
   "source": [
    "\"\"\"Então para adicionarmos o menor tempo ao nosso dicionário:\"\"\"\n",
    "victor_dict['Menor tempo'] = min(lista)\n",
    "victor_dict"
   ]
  },
  {
   "cell_type": "code",
   "execution_count": 4,
   "metadata": {},
   "outputs": [
    {
     "name": "stdout",
     "output_type": "stream",
     "text": [
      "Entre com o nome do arquivo:victor.txt\n",
      "{'Nome': 'Qualquer', 'Somatória dos tempos': 22.689999999999998, 'Menor tempo': 2.01}\n"
     ]
    }
   ],
   "source": [
    "\"\"\"Agora então, podemos transformar isto numa função:\"\"\"\n",
    "\n",
    "def gera_dicionario(name):\n",
    "    with open(name) as nome:\n",
    "        dados = nome.readline()\n",
    "    padronizado = dados.replace('-', '.')\n",
    "    padronizado2 = padronizado.replace(':', '.')\n",
    "    finalizado = padronizado2.strip().split(',')\n",
    "    dicionario = {}\n",
    "    lista = []\n",
    "    for valor in finalizado[2:]:\n",
    "        valor2 = float(valor)\n",
    "        lista.append(valor2)\n",
    "    dicionario['Nome'] = 'Qualquer'#vamos melhorar esse cara aqui!\n",
    "    dicionario['Somatória dos tempos'] = sum(lista)\n",
    "    dicionario['Menor tempo'] = min(lista)\n",
    "    print(dicionario)\n",
    "\n",
    "x = str(input('Entre com o nome do arquivo:'))\n",
    "y = 'dados/' + x\n",
    "\n",
    "gera_dicionario(y)"
   ]
  },
  {
   "cell_type": "code",
   "execution_count": 5,
   "metadata": {},
   "outputs": [
    {
     "name": "stdout",
     "output_type": "stream",
     "text": [
      "Entre com o nome do arquivo:victor.txt\n",
      "victor\n"
     ]
    }
   ],
   "source": [
    "\"\"\"Podemos substituir a string qualquer, por uma variável. Veja que o caminho informado é \n",
    "a string 'dados/' somado ao nome do atleta.txt. Vamos brincar com isso:\"\"\"\n",
    "x = str(input('Entre com o nome do arquivo:'))\n",
    "y = 'dados/' + x\n",
    "#print(y[6:-4])#retirando dados e .txt da string\n",
    "z = y[6:-4]\n",
    "print(z)"
   ]
  },
  {
   "cell_type": "code",
   "execution_count": 6,
   "metadata": {},
   "outputs": [
    {
     "name": "stdout",
     "output_type": "stream",
     "text": [
      "Entre com o nome do arquivo:suelen.txt\n",
      "{'Nome': 'suelen', 'Somatória dos tempos': 22.17, 'Menor tempo': 2.18}\n"
     ]
    }
   ],
   "source": [
    "\"\"\"Então agora melhorando o nome:\"\"\"\n",
    "def gera_dicionario(name):\n",
    "    name2 = 'dados/' + name\n",
    "    with open(name2) as nome:\n",
    "        dados = nome.readline()\n",
    "    padronizado = dados.replace('-', '.')\n",
    "    padronizado2 = padronizado.replace(':', '.')\n",
    "    finalizado = padronizado2.strip().split(',')\n",
    "    dicionario = {}\n",
    "    lista = []\n",
    "    for valor in finalizado[2:]:\n",
    "        valor2 = float(valor)\n",
    "        lista.append(valor2)\n",
    "    atleta = name2[6:-4]\n",
    "    dicionario['Nome'] = atleta#atribuimos a chave nome, a variável atleta\n",
    "    dicionario['Somatória dos tempos'] = sum(lista)\n",
    "    dicionario['Menor tempo'] = min(lista)\n",
    "    print(dicionario)\n",
    "\n",
    "x = str(input('Entre com o nome do arquivo:'))\n",
    "#y = 'dados/' + x\n",
    "\n",
    "gera_dicionario(x)"
   ]
  },
  {
   "cell_type": "code",
   "execution_count": null,
   "metadata": {},
   "outputs": [],
   "source": [
    "\"\"\"Olha como a nossa gambiarra funcionou:\n",
    "    - o arquivo está em dados, logo acrescentamos a string 'dados/' ao caminho do arquivo;\n",
    "    - tinhamos que pegar somente os valores que são tempos, então começamos a iterar a \n",
    "    partir de 2, pois os os índices 0 e 1 representavam nome e data, respectivamente.\n",
    "    -os valores eram strings, e não números. Então padronizamos todos os valores e criamos\n",
    "    uma variável float que recebia os valores transformando-os em números de ponto flutuante;\n",
    "    -definimos a nossa função. Sim, o python é foda!\n",
    "    -este é o único caminho para se realizar isso? NÃO, porém foi o que EU achei mais fácil;\n",
    "    \"\"\""
   ]
  },
  {
   "cell_type": "code",
   "execution_count": 14,
   "metadata": {},
   "outputs": [
    {
     "name": "stdout",
     "output_type": "stream",
     "text": [
      "Entre com o nome do arquivo:victor.txt\n",
      "{'Nome': 'victor', 'Somatória dos tempos': 22.689999999999998, 'Menor tempo': 2.01}\n",
      "Entre com o nome do arquivo:suelen.txt\n",
      "{'Nome': 'suelen', 'Somatória dos tempos': 22.17, 'Menor tempo': 2.18}\n",
      "Entre com o nome do arquivo:claudia.txt\n",
      "{'Nome': 'claudia', 'Somatória dos tempos': 20.16, 'Menor tempo': 2.38}\n",
      "Entre com o nome do arquivo:marcio.txt\n",
      "{'Nome': 'marcio', 'Somatória dos tempos': 19.19, 'Menor tempo': 2.11}\n"
     ]
    }
   ],
   "source": [
    "\"\"\"Agora vamos fazer isso para todos os 4 atletas:\"\"\"\n",
    "def gera_dicionario(name):\n",
    "    name2 = 'dados/' + name\n",
    "    with open(name2) as nome:\n",
    "        dados = nome.readline()\n",
    "    padronizado = dados.replace('-', '.')\n",
    "    padronizado2 = padronizado.replace(':', '.')\n",
    "    finalizado = padronizado2.strip().split(',')\n",
    "    dicionario = {}\n",
    "    lista = []\n",
    "    for valor in finalizado[2:]:\n",
    "        valor2 = float(valor)\n",
    "        lista.append(valor2)\n",
    "    atleta = name2[6:-4]\n",
    "    dicionario['Nome'] = atleta\n",
    "    dicionario['Somatória dos tempos'] = sum(lista)\n",
    "    dicionario['Menor tempo'] = min(lista)\n",
    "    print(dicionario)\n",
    "a = 0\n",
    "while a < 4:\n",
    "    x = str(input('Entre com o nome do arquivo:'))\n",
    "    gera_dicionario(x)\n",
    "    a += 1"
   ]
  },
  {
   "cell_type": "code",
   "execution_count": 6,
   "metadata": {},
   "outputs": [
    {
     "data": {
      "text/plain": [
       "'Desta maneira, ficou fácil comparar informações entre os atletas.'"
      ]
     },
     "execution_count": 6,
     "metadata": {},
     "output_type": "execute_result"
    }
   ],
   "source": [
    "\"\"\"Desta maneira, ficou fácil comparar informações entre os atletas.\"\"\""
   ]
  },
  {
   "cell_type": "code",
   "execution_count": 13,
   "metadata": {},
   "outputs": [
    {
     "ename": "NameError",
     "evalue": "name 'dicionario' is not defined",
     "output_type": "error",
     "traceback": [
      "\u001b[0;31m---------------------------------------------------------------------------\u001b[0m",
      "\u001b[0;31mNameError\u001b[0m                                 Traceback (most recent call last)",
      "\u001b[0;32m<ipython-input-13-725fdb35af51>\u001b[0m in \u001b[0;36m<module>\u001b[0;34m()\u001b[0m\n\u001b[0;32m----> 1\u001b[0;31m \u001b[0mprint\u001b[0m\u001b[0;34m(\u001b[0m\u001b[0mdicionario\u001b[0m\u001b[0;34m)\u001b[0m\u001b[0;31m#diferente de listas, eu não posso chamar em outro momento\u001b[0m\u001b[0;34m\u001b[0m\u001b[0m\n\u001b[0m",
      "\u001b[0;31mNameError\u001b[0m: name 'dicionario' is not defined"
     ]
    }
   ],
   "source": [
    "print(dicionario)#diferente de listas, eu não posso chamar em outro momento"
   ]
  },
  {
   "cell_type": "code",
   "execution_count": 15,
   "metadata": {
    "scrolled": true
   },
   "outputs": [
    {
     "name": "stdout",
     "output_type": "stream",
     "text": [
      "{'Nome': 'victor', 'Menor tempo': 2.01}\n",
      "Usando dicionario.values: victor\n",
      "--#--\n",
      "Usando dicionario.values: 2.01\n",
      "--#--\n",
      "Usando dicionario.items:('Nome', 'victor')\n",
      "--#--\n",
      "Usando dicionario.items:('Menor tempo', 2.01)\n",
      "--#--\n",
      "Usando dicionario.keys:Nome\n",
      "--#--\n",
      "Usando dicionario.keys:Menor tempo\n",
      "--#--\n"
     ]
    },
    {
     "data": {
      "text/plain": [
       "'Assim nós entendemos como podemos manipular(imprimir) os dicionários.'"
      ]
     },
     "execution_count": 15,
     "metadata": {},
     "output_type": "execute_result"
    }
   ],
   "source": [
    "\"\"\"Corrigir este laço com dicionários\"\"\"\n",
    "def gera_dicionario2(name):\n",
    "    name2 = 'dados/' + name\n",
    "    with open(name2) as nome:\n",
    "        dados = nome.readline()\n",
    "    padronizado = dados.replace('-', '.')\n",
    "    padronizado2 = padronizado.replace(':', '.')\n",
    "    finalizado = padronizado2.strip().split(',')\n",
    "    dicionario = {}\n",
    "    lista = []\n",
    "    for valor in finalizado[2:]:\n",
    "        valor2 = float(valor)\n",
    "        lista.append(valor2)\n",
    "    atleta = name2[6:-4]\n",
    "    dicionario['Nome'] = atleta\n",
    "    #dicionario['Somatória dos tempos'] = sum(lista)\n",
    "    dicionario['Menor tempo'] = min(lista)\n",
    "    print(dicionario)\n",
    "    for valor in dicionario.values():\n",
    "        print('Usando dicionario.values: '+ str(valor))\n",
    "        print('--#--')\n",
    "    for item in dicionario.items():\n",
    "        print('Usando dicionario.items:' + str(item))\n",
    "        print('--#--')\n",
    "    for chave in dicionario.keys():\n",
    "        print('Usando dicionario.keys:' + str(chave))\n",
    "        print('--#--')\n",
    "\n",
    "nome = 'victor.txt'\n",
    "gera_dicionario2(nome)\n",
    "\"\"\"Assim nós entendemos como podemos manipular(imprimir) os dicionários.\"\"\""
   ]
  },
  {
   "cell_type": "code",
   "execution_count": 31,
   "metadata": {},
   "outputs": [
    {
     "name": "stdout",
     "output_type": "stream",
     "text": [
      "victor\n",
      "22.689999999999998\n",
      "2.01\n"
     ]
    }
   ],
   "source": [
    "def gera_dicionario2(name):\n",
    "    name2 = 'dados/' + name\n",
    "    with open(name2) as nome:\n",
    "        dados = nome.readline()\n",
    "    padronizado = dados.replace('-', '.')\n",
    "    padronizado2 = padronizado.replace(':', '.')\n",
    "    finalizado = padronizado2.strip().split(',')\n",
    "    dicionario = {}\n",
    "    lista = []\n",
    "    for valor in finalizado[2:]:\n",
    "        valor2 = float(valor)\n",
    "        lista.append(valor2)\n",
    "    atleta = name2[6:-4]\n",
    "    dicionario['Nome:'] = atleta\n",
    "    dicionario['Somatória dos tempos'] = sum(lista)\n",
    "    dicionario['Menor tempo:'] = min(lista)\n",
    "    #print(dicionario)\n",
    "    for valor in dicionario.values():\n",
    "        print(valor)\n",
    "\n",
    "\n",
    "nome = 'victor.txt'\n",
    "gera_dicionario2(nome)\n"
   ]
  },
  {
   "cell_type": "code",
   "execution_count": 21,
   "metadata": {},
   "outputs": [
    {
     "name": "stdout",
     "output_type": "stream",
     "text": [
      "Nome: victor\n",
      "Somatória dos tempos 22.689999999999998\n",
      "Menor tempo: 2.01\n"
     ]
    }
   ],
   "source": [
    "def gera_dicionario2(name):\n",
    "    name2 = 'dados/' + name\n",
    "    with open(name2) as nome:\n",
    "        dados = nome.readline()\n",
    "    padronizado = dados.replace('-', '.')\n",
    "    padronizado2 = padronizado.replace(':', '.')\n",
    "    finalizado = padronizado2.strip().split(',')\n",
    "    dicionario = {}\n",
    "    lista = []\n",
    "    for valor in finalizado[2:]:\n",
    "        valor2 = float(valor)\n",
    "        lista.append(valor2)\n",
    "    atleta = name2[6:-4]\n",
    "    dicionario['Nome:'] = atleta\n",
    "    dicionario['Somatória dos tempos'] = sum(lista)\n",
    "    dicionario['Menor tempo:'] = min(lista)\n",
    "    \"\"\"Imprime como tuplas:\"\"\"\n",
    "    for item in dicionario.items():\n",
    "        print(item[0], item[1])\n",
    "            \n",
    "nome = 'victor.txt'\n",
    "gera_dicionario2(nome)\n"
   ]
  },
  {
   "cell_type": "code",
   "execution_count": 1,
   "metadata": {},
   "outputs": [
    {
     "name": "stdout",
     "output_type": "stream",
     "text": [
      "Nome: victor\n",
      "Somatória dos tempos:  22.689999999999998\n",
      "Menor tempo: 2.01\n"
     ]
    }
   ],
   "source": [
    "def gera_dicionario2(name):\n",
    "    name2 = 'dados/' + name\n",
    "    with open(name2) as nome:\n",
    "        dados = nome.readline()\n",
    "    padronizado = dados.replace('-', '.')\n",
    "    padronizado2 = padronizado.replace(':', '.')\n",
    "    finalizado = padronizado2.strip().split(',')\n",
    "    dicionario = {}\n",
    "    lista = []\n",
    "    for valor in finalizado[2:]:\n",
    "        valor2 = float(valor)\n",
    "        lista.append(valor2)\n",
    "    atleta = name2[6:-4]\n",
    "    dicionario['Nome:'] = atleta\n",
    "    dicionario['Somatória dos tempos: '] = sum(lista)\n",
    "    dicionario['Menor tempo:'] = min(lista)\n",
    "    \"\"\"Ou fazendo um laço for composto:\"\"\"\n",
    "    for chave, valor  in dicionario.items():\n",
    "        print(chave, valor)\n",
    "            \n",
    "nome = 'victor.txt'\n",
    "gera_dicionario2(nome)\n"
   ]
  },
  {
   "cell_type": "code",
   "execution_count": 2,
   "metadata": {},
   "outputs": [
    {
     "name": "stdout",
     "output_type": "stream",
     "text": [
      "Nome: suelen\n",
      "Somatória dos tempos:  22.17\n",
      "Menor tempo: 2.18\n"
     ]
    }
   ],
   "source": [
    "gera_dicionario2('suelen.txt')"
   ]
  },
  {
   "cell_type": "code",
   "execution_count": 4,
   "metadata": {},
   "outputs": [
    {
     "name": "stdout",
     "output_type": "stream",
     "text": [
      "Nome: marcio\n",
      "Somatória dos tempos:  19.19\n",
      "Menor tempo: 2.11\n",
      "Nome: claudia\n",
      "Somatória dos tempos:  20.16\n",
      "Menor tempo: 2.38\n"
     ]
    }
   ],
   "source": [
    "lista = ['marcio.txt', 'claudia.txt']\n",
    "for nomes in lista:\n",
    "    gera_dicionario2(nomes)\n",
    "\"\"\"Aproveitando para mostrar diferentes maneiras de se executar uma função.\"\"\""
   ]
  },
  {
   "cell_type": "markdown",
   "metadata": {},
   "source": [
    "## Criando classes"
   ]
  },
  {
   "cell_type": "markdown",
   "metadata": {},
   "source": [
    "#### O conceito de Programação Orientada a Objeto: \n",
    "tudo em python é objeto"
   ]
  },
  {
   "cell_type": "code",
   "execution_count": 2,
   "metadata": {},
   "outputs": [],
   "source": [
    "a = []\n",
    "b = {}\n",
    "c = ()\n",
    "d = 1\n",
    "e = 1.2\n",
    "f = 'objeto'"
   ]
  },
  {
   "cell_type": "code",
   "execution_count": 3,
   "metadata": {},
   "outputs": [
    {
     "name": "stdout",
     "output_type": "stream",
     "text": [
      "<class 'list'>\n",
      "<class 'dict'>\n",
      "<class 'tuple'>\n",
      "<class 'int'>\n",
      "<class 'float'>\n",
      "<class 'str'>\n"
     ]
    }
   ],
   "source": [
    "print(type(a))\n",
    "print(type(b))\n",
    "print(type(c))\n",
    "print(type(d))\n",
    "print(type(e))\n",
    "print(type(f))"
   ]
  },
  {
   "cell_type": "markdown",
   "metadata": {},
   "source": [
    "### O python usa a 'classe' para criar objetos. Toda classe inicia com seu método especial __init__(), permitindo controlar como os objetos são inicializados. E, os métodos são como funções próprias das classes."
   ]
  },
  {
   "cell_type": "code",
   "execution_count": 4,
   "metadata": {},
   "outputs": [],
   "source": [
    "class Atleta:\n",
    "    def __init__(self):\n",
    "        print('Atleta criado')\n"
   ]
  },
  {
   "cell_type": "markdown",
   "metadata": {},
   "source": [
    "### Instâncias"
   ]
  },
  {
   "cell_type": "code",
   "execution_count": 5,
   "metadata": {},
   "outputs": [
    {
     "name": "stdout",
     "output_type": "stream",
     "text": [
      "Atleta criado\n",
      "Atleta criado\n",
      "Atleta criado\n",
      "Atleta criado\n"
     ]
    }
   ],
   "source": [
    "victor = Atleta()\n",
    "suelen = Atleta()\n",
    "marcio = Atleta()\n",
    "claudia = Atleta()\n",
    "\"\"\"O self é usado para que o python saiba onde aplicar cada método(qual instância). Por \n",
    "isso ele deve ser o primeiro argumento de TODOS os métodos\"\"\""
   ]
  },
  {
   "cell_type": "code",
   "execution_count": 9,
   "metadata": {},
   "outputs": [
    {
     "name": "stdout",
     "output_type": "stream",
     "text": [
      "Atleta criado\n"
     ]
    }
   ],
   "source": [
    "class Atleta:\n",
    "    def __init__(self, value=0):\n",
    "        self.thing = value\n",
    "        print('Atleta criado')\n",
    "    \n",
    "    def qual_tamanho(self):\n",
    "        return(len(self.thing))\n",
    "    \n",
    "victor = Atleta('Victor Santos')"
   ]
  },
  {
   "cell_type": "code",
   "execution_count": 13,
   "metadata": {},
   "outputs": [
    {
     "name": "stdout",
     "output_type": "stream",
     "text": [
      "13\n",
      "Victor Santos\n"
     ]
    }
   ],
   "source": [
    "print(victor.qual_tamanho())#retorna o tamanho da string\n",
    "print(victor.thing)#retorna a dita string"
   ]
  },
  {
   "cell_type": "markdown",
   "metadata": {},
   "source": [
    "### O que eu escrevi:------------------------------------> O que o python executou:\n",
    "victor = Atleta('Victor Santos')-----------------> Atleta.__init__(victor, 'Victor Santos')\n",
    "\n",
    "\n",
    "victor.qual_tamanho()----------------------------> Atleta.qual_tamanho(victor)"
   ]
  },
  {
   "cell_type": "code",
   "execution_count": 16,
   "metadata": {},
   "outputs": [],
   "source": [
    "\"\"\"Criamos a nossa classe:\"\"\"\n",
    "class Atleta:\n",
    "    def __init__(self, nome, data=None, tempos=[]):\n",
    "        self.nome = nome\n",
    "        self.data = data\n",
    "        self.tempos = tempos\n",
    "\n",
    "\"\"\"Vamos criar as instâncias:\"\"\"\n",
    "victor = Atleta('Victor Santos', '08/11/1993', ['2:34', '3:21', '2:34'])\n",
    "suelen = Atleta('Suelen Simões')"
   ]
  },
  {
   "cell_type": "code",
   "execution_count": 17,
   "metadata": {},
   "outputs": [
    {
     "name": "stdout",
     "output_type": "stream",
     "text": [
      "<class '__main__.Atleta'>\n",
      "<class '__main__.Atleta'>\n"
     ]
    }
   ],
   "source": [
    "print(type(victor))\n",
    "print(type(suelen))\n",
    "\"\"\"Criado as instâncias do objeto.\"\"\" "
   ]
  },
  {
   "cell_type": "code",
   "execution_count": 22,
   "metadata": {},
   "outputs": [
    {
     "name": "stdout",
     "output_type": "stream",
     "text": [
      "Victor Santos 08/11/1993 ['2:34', '3:21', '2:34']\n",
      "Suelen Simões None []\n"
     ]
    }
   ],
   "source": [
    "print(victor.nome, victor.data, victor.tempos)\n",
    "print(suelen.nome, suelen.data, suelen.tempos)\n",
    "\"\"\"Veja que criamos duas instâncias, e somente em victor definimos todos os atributos\"\"\""
   ]
  },
  {
   "cell_type": "markdown",
   "metadata": {},
   "source": [
    "### Então, vamos refazer tudo o que fizemos anteriormente como funções, mas agora melhoraremos o código como uma classe"
   ]
  },
  {
   "cell_type": "code",
   "execution_count": 35,
   "metadata": {},
   "outputs": [
    {
     "name": "stdout",
     "output_type": "stream",
     "text": [
      "Atleta localizado ['Victor Santos', ' 08/11/1993', ' 2.34', '3.21', '2.34', '2.45', '3.01', '2.01', '2.01', '3.10', '2.22']\n",
      "<class '__main__.gera_dicionario'>\n"
     ]
    }
   ],
   "source": [
    "class gera_dicionario:\n",
    "    def __init__(self, name):\n",
    "        self.name = name\n",
    "        name = 'dados/' + name\n",
    "        with open(name) as nome:\n",
    "            dados = nome.readline()\n",
    "        padronizado = dados.replace('-', '.')\n",
    "        padronizado = padronizado.replace(':', '.')\n",
    "        padronizado = padronizado.strip().split(',')\n",
    "        print('Atleta localizado ' + str(padronizado[0:]))\n",
    "\n",
    "        \n",
    "victor = gera_dicionario('victor.txt')\n",
    "print(type(victor))\n",
    "\"\"\"O método de inicialização da classe está funcionando. \n",
    "Agora vamos adicionar novos métodos\"\"\""
   ]
  },
  {
   "cell_type": "code",
   "execution_count": 14,
   "metadata": {},
   "outputs": [
    {
     "name": "stdout",
     "output_type": "stream",
     "text": [
      "Atleta localizado ['Victor Santos', ' 08/11/1993', ' 2.34', '3.21', '2.34', '2.45', '3.01', '2.01', '2.01', '3.10', '2.22']\n",
      "Retornando os tempos:\n",
      "[2.34, 3.21, 2.34, 2.45, 3.01, 2.01, 2.01, 3.1, 2.22]\n"
     ]
    }
   ],
   "source": [
    "class gera_dicionario2:\n",
    "    def __init__(self, name):\n",
    "        self.name = name\n",
    "        #self.tempos = tempos\n",
    "        name = 'dados/' + name\n",
    "        with open(name) as nome:\n",
    "            dados = nome.readline()\n",
    "        self.padronizado = dados.replace('-', '.')\n",
    "        self.padronizado = self.padronizado.replace(':', '.')\n",
    "        self.padronizado = self.padronizado.strip().split(',')\n",
    "        print('Atleta localizado ' + str(self.padronizado[0:]))\n",
    "        \n",
    "    def retorna_tempos(self):\n",
    "        tempos = []\n",
    "        print('Retornando os tempos:')\n",
    "        for valor in self.padronizado[2:]:\n",
    "            valor2 = float(valor)\n",
    "            tempos.append(valor2)\n",
    "        print(tempos)\n",
    "\n",
    "victor = gera_dicionario2('victor.txt')\n",
    "victor.retorna_tempos()\n",
    "\"\"\"O método para retornar os tempos está funcionando!\"\"\""
   ]
  },
  {
   "cell_type": "code",
   "execution_count": 16,
   "metadata": {},
   "outputs": [
    {
     "name": "stdout",
     "output_type": "stream",
     "text": [
      "Atleta localizado ['Suelen Simões', ' 06/02/1996', ' 2.58', '2.58', '2.39', '2.25', '2.55', '2.54', '2.18', '2.55', '2.55']\n",
      "Retornando os tempos:\n",
      "[2.58, 2.58, 2.39, 2.25, 2.55, 2.54, 2.18, 2.55, 2.55]\n"
     ]
    }
   ],
   "source": [
    "suelen = gera_dicionario2('suelen.txt')\n",
    "suelen.retorna_tempos()"
   ]
  },
  {
   "cell_type": "code",
   "execution_count": 4,
   "metadata": {},
   "outputs": [
    {
     "name": "stdout",
     "output_type": "stream",
     "text": [
      "Atleta localizado ['Victor Santos', ' 08/11/1993', ' 2.34', '3.21', '2.34', '2.45', '3.01', '2.01', '2.01', '3.10', '2.22']\n",
      "\n",
      "Retornando o menor tempo:\n",
      "2.01\n",
      "\n",
      "Retornando os tempos:\n",
      "[2.34, 3.21, 2.34, 2.45, 3.01, 2.01, 2.01, 3.1, 2.22]\n",
      "\n"
     ]
    },
    {
     "data": {
      "text/plain": [
       "'Método menor tempo aplicado com sucesso'"
      ]
     },
     "execution_count": 4,
     "metadata": {},
     "output_type": "execute_result"
    }
   ],
   "source": [
    "class gera_dicionario2:\n",
    "    def __init__(self, name):\n",
    "        self.name = name\n",
    "        #self.tempos = tempos\n",
    "        name = 'dados/' + name\n",
    "        with open(name) as nome:\n",
    "            dados = nome.readline()\n",
    "        self.padronizado = dados.replace('-', '.')\n",
    "        self.padronizado = self.padronizado.replace(':', '.')\n",
    "        self.padronizado = self.padronizado.strip().split(',')\n",
    "        print('Atleta localizado ' + str(self.padronizado[0:]) + '\\n')\n",
    "        \n",
    "        \n",
    "    def retorna_tempos(self):\n",
    "        tempos = []\n",
    "        print('Retornando os tempos:')\n",
    "        for valor in self.padronizado[2:]:\n",
    "            valor2 = float(valor)\n",
    "            tempos.append(valor2)\n",
    "        print(str(tempos) + '\\n')\n",
    "        \n",
    "    def menor_tempo(self):\n",
    "        tempos = []\n",
    "        print('Retornando o menor tempo:')\n",
    "        for valor in self.padronizado[2:]:\n",
    "            valor2 = float(valor)\n",
    "            tempos.append(valor2)\n",
    "        menor = min(tempos)\n",
    "        print(str(menor) + '\\n')\n",
    "\n",
    "\n",
    "victor = gera_dicionario2('victor.txt')\n",
    "victor.menor_tempo()\n",
    "victor.retorna_tempos()\n",
    "\"\"\"Método menor tempo aplicado com sucesso\"\"\""
   ]
  },
  {
   "cell_type": "code",
   "execution_count": 9,
   "metadata": {},
   "outputs": [
    {
     "name": "stdout",
     "output_type": "stream",
     "text": [
      "Atleta localizado ['Suelen Simões', ' 06/02/1996', ' 2.58', '2.58', '2.39', '2.25', '2.55', '2.54', '2.18', '2.55', '2.55']\n",
      "\n",
      "Atleta localizado ['2.59', '2.11', '2.11', '2.23', '3.10', '2.23', '3.10', '3.21', '3.21']\n",
      "\n",
      "Atleta localizado ['2.22', '3.01', '3.01', '3.02', '3.02', '3.02', '3.22', '2.49', '2.38']\n",
      "\n"
     ]
    }
   ],
   "source": [
    "\"\"\"Então vamos criar outros atletas hipotéticos\"\"\"\n",
    "suelen = gera_dicionario2('suelen.txt')\n",
    "marcio = gera_dicionario2('marcio.txt')\n",
    "claudia = gera_dicionario2('claudia.txt')\n",
    "\"\"\"Veja que exceto a Suelen, os outros atletas não possuem nomes\"\"\""
   ]
  },
  {
   "cell_type": "code",
   "execution_count": 12,
   "metadata": {},
   "outputs": [
    {
     "name": "stdout",
     "output_type": "stream",
     "text": [
      "suelen.txt\n",
      "claudia.txt\n",
      "marcio.txt\n"
     ]
    }
   ],
   "source": [
    "print(suelen.name)\n",
    "print(claudia.name)\n",
    "print(marcio.name)\n",
    "\"\"\"Na verdade nenhum atleta possui nome, pois não criamos ainda esta variável.\"\"\""
   ]
  },
  {
   "cell_type": "code",
   "execution_count": 1,
   "metadata": {},
   "outputs": [
    {
     "name": "stdout",
     "output_type": "stream",
     "text": [
      "Atleta localizado ['Victor Santos', ' 08/11/1993', ' 2.34', '3.21', '2.34', '2.45', '3.01', '2.01', '2.01', '3.10', '2.22']\n",
      "\n",
      "Retornando o menor tempo:\n",
      "2.01\n",
      "\n",
      "Retornando os tempos:\n",
      "[2.34, 3.21, 2.34, 2.45, 3.01, 2.01, 2.01, 3.1, 2.22]\n",
      "\n"
     ]
    },
    {
     "data": {
      "text/plain": [
       "'Veja que não precisamos adicionar este nome_atleta, a lista padronizada. Pois o\\nestamos chamando pela instância'"
      ]
     },
     "execution_count": 1,
     "metadata": {},
     "output_type": "execute_result"
    }
   ],
   "source": [
    "\"\"\"Vamos consertar isto, dar a cada atleta o seu nome\"\"\"\n",
    "class gera_dicionario3:\n",
    "    def __init__(self, name, nome_atleta='Nome não informado'):\n",
    "        self.name = name\n",
    "        #self.tempos = tempos\n",
    "        self.nome_atleta = nome_atleta\n",
    "        name = 'dados/' + name\n",
    "        with open(name) as nome:\n",
    "            dados = nome.readline()\n",
    "        self.padronizado = dados.replace('-', '.')\n",
    "        self.padronizado = self.padronizado.replace(':', '.')\n",
    "        self.padronizado = self.padronizado.strip().split(',')\n",
    "        print('Atleta localizado ' + str(self.padronizado[0:]) + '\\n')\n",
    "        \n",
    "        \n",
    "    def retorna_tempos(self):\n",
    "        tempos = []\n",
    "        print('Retornando os tempos:')\n",
    "        for valor in self.padronizado[2:]:\n",
    "            valor2 = float(valor)\n",
    "            tempos.append(valor2)\n",
    "        print(str(tempos) + '\\n')\n",
    "        \n",
    "    def menor_tempo(self):\n",
    "        tempos = []\n",
    "        print('Retornando o menor tempo:')\n",
    "        for valor in self.padronizado[2:]:\n",
    "            valor2 = float(valor)\n",
    "            tempos.append(valor2)\n",
    "        menor = min(tempos)\n",
    "        print(str(menor) + '\\n')\n",
    "\n",
    "    def add_nome(self, nome_atleta='Nome não informado'):\n",
    "        self.nome_atleta = nome_atleta\n",
    "        #self.padronizado.insert(0, self.nome_atleta)\n",
    "        #print(self.padronizado[0])\n",
    "\n",
    "victor = gera_dicionario3('victor.txt')\n",
    "victor.menor_tempo()\n",
    "victor.retorna_tempos()\n",
    "\"\"\"Veja que não precisamos adicionar este nome_atleta, a lista padronizada. Pois o\n",
    "estamos chamando pela instância\"\"\""
   ]
  },
  {
   "cell_type": "code",
   "execution_count": 18,
   "metadata": {},
   "outputs": [
    {
     "name": "stdout",
     "output_type": "stream",
     "text": [
      "Atleta localizado ['2.22', '3.01', '3.01', '3.02', '3.02', '3.02', '3.22', '2.49', '2.38']\n",
      "\n",
      "Claudia Simões\n"
     ]
    }
   ],
   "source": [
    "claudia = gera_dicionario3('claudia.txt')\n",
    "claudia.add_nome('Claudia Simões')"
   ]
  },
  {
   "cell_type": "code",
   "execution_count": 22,
   "metadata": {},
   "outputs": [
    {
     "name": "stdout",
     "output_type": "stream",
     "text": [
      "Claudia Simões\n"
     ]
    }
   ],
   "source": [
    "\"\"\"Agora podemos verificar o nome do atleta\"\"\"\n",
    "print(claudia.nome_atleta)"
   ]
  },
  {
   "cell_type": "code",
   "execution_count": 31,
   "metadata": {},
   "outputs": [
    {
     "name": "stdout",
     "output_type": "stream",
     "text": [
      "Atleta localizado ['Victor Santos', ' 08/11/1993', ' 2.34', '3.21', '2.34', '2.45', '3.01', '2.01', '2.01', '3.10', '2.22']\n",
      "\n",
      "Atleta localizado ['Suelen Simões', ' 06/02/1996', ' 2.58', '2.58', '2.39', '2.25', '2.55', '2.54', '2.18', '2.55', '2.55']\n",
      "\n",
      "Nome não informado\n",
      "Nome não informado\n"
     ]
    }
   ],
   "source": [
    "victor = gera_dicionario3('victor.txt')\n",
    "suelen = gera_dicionario3('suelen.txt')\n",
    "\n",
    "print(victor.nome_atleta)\n",
    "print(suelen.nome_atleta)"
   ]
  },
  {
   "cell_type": "code",
   "execution_count": 11,
   "metadata": {},
   "outputs": [
    {
     "name": "stdout",
     "output_type": "stream",
     "text": [
      "Victor Santos\n",
      "Suelen Simões\n"
     ]
    }
   ],
   "source": [
    "victor.add_nome('Victor Santos')\n",
    "suelen.add_nome('Suelen Simões')\n",
    "\n",
    "print(victor.nome_atleta)\n",
    "print(suelen.nome_atleta)"
   ]
  },
  {
   "cell_type": "code",
   "execution_count": 3,
   "metadata": {},
   "outputs": [
    {
     "name": "stdout",
     "output_type": "stream",
     "text": [
      "Atleta localizado ['Suelen Simões', ' 06/02/1996', ' 2.58', '2.58', '2.39', '2.25', '2.55', '2.54', '2.18', '2.55', '2.55']\n",
      "\n"
     ]
    }
   ],
   "source": [
    "suelen = gera_dicionario3('suelen.txt')"
   ]
  },
  {
   "cell_type": "markdown",
   "metadata": {},
   "source": [
    "## ------------------------------#----------------------------------------\n"
   ]
  },
  {
   "cell_type": "code",
   "execution_count": null,
   "metadata": {},
   "outputs": [],
   "source": [
    "del victor\n",
    "del suelen"
   ]
  },
  {
   "cell_type": "code",
   "execution_count": 16,
   "metadata": {},
   "outputs": [
    {
     "ename": "NameError",
     "evalue": "name 'victor' is not defined",
     "output_type": "error",
     "traceback": [
      "\u001b[0;31m---------------------------------------------------------------------------\u001b[0m",
      "\u001b[0;31mNameError\u001b[0m                                 Traceback (most recent call last)",
      "\u001b[0;32m<ipython-input-16-f05c252c8f16>\u001b[0m in \u001b[0;36m<module>\u001b[0;34m()\u001b[0m\n\u001b[0;32m----> 1\u001b[0;31m \u001b[0mprint\u001b[0m\u001b[0;34m(\u001b[0m\u001b[0mvictor\u001b[0m\u001b[0;34m.\u001b[0m\u001b[0mnome_atleta\u001b[0m\u001b[0;34m)\u001b[0m\u001b[0;34m\u001b[0m\u001b[0m\n\u001b[0m",
      "\u001b[0;31mNameError\u001b[0m: name 'victor' is not defined"
     ]
    }
   ],
   "source": [
    "print(victor.nome_atleta)"
   ]
  },
  {
   "cell_type": "code",
   "execution_count": 17,
   "metadata": {},
   "outputs": [
    {
     "ename": "NameError",
     "evalue": "name 'suelen' is not defined",
     "output_type": "error",
     "traceback": [
      "\u001b[0;31m---------------------------------------------------------------------------\u001b[0m",
      "\u001b[0;31mNameError\u001b[0m                                 Traceback (most recent call last)",
      "\u001b[0;32m<ipython-input-17-68a079dab318>\u001b[0m in \u001b[0;36m<module>\u001b[0;34m()\u001b[0m\n\u001b[0;32m----> 1\u001b[0;31m \u001b[0mprint\u001b[0m\u001b[0;34m(\u001b[0m\u001b[0msuelen\u001b[0m\u001b[0;34m.\u001b[0m\u001b[0mnome_atleta\u001b[0m\u001b[0;34m)\u001b[0m\u001b[0;34m\u001b[0m\u001b[0m\n\u001b[0m",
      "\u001b[0;31mNameError\u001b[0m: name 'suelen' is not defined"
     ]
    }
   ],
   "source": [
    "print(suelen.nome_atleta)"
   ]
  },
  {
   "cell_type": "markdown",
   "metadata": {},
   "source": [
    "### Bom, vamos agora finalizar, reconstruindo a class de modo a ter as mesmas funções que criamos anteriormente, isto é: catalogar cada atleta com seu respectivo nome e tempos de corrida. Assim podemos criar métodos para tratar com estes dados:"
   ]
  },
  {
   "cell_type": "code",
   "execution_count": 1,
   "metadata": {},
   "outputs": [
    {
     "name": "stdout",
     "output_type": "stream",
     "text": [
      "Atleta localizado ['2.34', '3.21', '2.34', '2.45', '3.01', '2.01', '2.01', '3.10', '2.22']\n",
      "\n",
      "Retornando o menor tempo:\n",
      "2.01\n",
      "\n",
      "Retornando os tempos:\n",
      "[2.34, 3.21, 2.34, 2.45, 3.01, 2.01, 2.01, 3.1, 2.22]\n",
      "\n"
     ]
    }
   ],
   "source": [
    "class Categoriza:\n",
    "    def __init__(self, name, nome_atleta='Nome não informado'):\n",
    "        self.name = name\n",
    "        self.nome_atleta = nome_atleta\n",
    "        name = 'dados/' + name\n",
    "        with open(name) as nome:\n",
    "            dados = nome.readline()\n",
    "        self.padronizado = dados.replace('-', '.')\n",
    "        self.padronizado = self.padronizado.replace(':', '.')\n",
    "        self.padronizado = self.padronizado.strip().split(',')\n",
    "        print('Atleta localizado ' + str(self.padronizado[0:]) + '\\n')\n",
    "        \n",
    "        \n",
    "    def retorna_tempos(self):\n",
    "        tempos = []\n",
    "        print('Retornando os tempos:')\n",
    "        for valor in self.padronizado[0:]:\n",
    "            valor2 = float(valor)\n",
    "            tempos.append(valor2)\n",
    "        print(str(tempos) + '\\n')\n",
    "        \n",
    "    def menor_tempo(self):\n",
    "        tempos = []\n",
    "        print('Retornando o menor tempo:')\n",
    "        for valor in self.padronizado[0:]:\n",
    "            valor2 = float(valor)\n",
    "            tempos.append(valor2)\n",
    "        menor = min(tempos)\n",
    "        print(str(menor) + '\\n')\n",
    "\n",
    "    def add_nome(self, nome_atleta='Nome não informado'):\n",
    "        self.nome_atleta = nome_atleta\n",
    "        \n",
    "    def add_tempo(self, novo_tempo):\n",
    "        self.novo_tempo = novo_tempo\n",
    "        self.padronizado.append(novo_tempo)\n",
    "        print(str(self.padronizado) + '\\n')\n",
    "\n",
    "victor = Categoriza('victor.txt', 'Victor Santos')\n",
    "victor.menor_tempo()\n",
    "victor.retorna_tempos()\n"
   ]
  },
  {
   "cell_type": "code",
   "execution_count": 30,
   "metadata": {},
   "outputs": [
    {
     "name": "stdout",
     "output_type": "stream",
     "text": [
      "Victor Santos\n",
      "Retornando os tempos:\n",
      "[2.34, 3.21, 2.34, 2.45, 3.01, 2.01, 2.01, 3.1, 2.22]\n",
      "\n",
      "None\n"
     ]
    }
   ],
   "source": [
    "print(victor.nome_atleta)\n",
    "print(victor.retorna_tempos())"
   ]
  },
  {
   "cell_type": "code",
   "execution_count": 31,
   "metadata": {},
   "outputs": [
    {
     "name": "stdout",
     "output_type": "stream",
     "text": [
      "['2.34', '3.21', '2.34', '2.45', '3.01', '2.01', '2.01', '3.10', '2.22', 2.44]\n",
      "\n"
     ]
    }
   ],
   "source": [
    "victor.add_tempo(2.44)"
   ]
  },
  {
   "cell_type": "code",
   "execution_count": 32,
   "metadata": {},
   "outputs": [
    {
     "name": "stdout",
     "output_type": "stream",
     "text": [
      "Retornando os tempos:\n",
      "[2.34, 3.21, 2.34, 2.45, 3.01, 2.01, 2.01, 3.1, 2.22, 2.44]\n",
      "\n",
      "None\n"
     ]
    }
   ],
   "source": [
    "print(victor.retorna_tempos())"
   ]
  },
  {
   "cell_type": "code",
   "execution_count": 33,
   "metadata": {},
   "outputs": [
    {
     "name": "stdout",
     "output_type": "stream",
     "text": [
      "Atleta localizado ['2.58', '2.58', '2.39', '2.25', '2.55', '2.54', '2.18', '2.55', '2.55']\n",
      "\n",
      "Atleta localizado ['2.22', '3.01', '3.01', '3.02', '3.02', '3.02', '3.22', '2.49', '2.38']\n",
      "\n",
      "Atleta localizado ['2.59', '2.11', '2.11', '2.23', '3.10', '2.23', '3.10', '3.21', '3.21']\n",
      "\n"
     ]
    }
   ],
   "source": [
    "\"\"\"E fazendo isso para os demais atletas:\"\"\"\n",
    "suelen = Categoriza('suelen.txt', 'Suelen Simões')\n",
    "claudia = Categoriza('claudia.txt', 'Claudia Simões')\n",
    "marcio = Categoriza('marcio.txt', 'Márcio Roberto')\n"
   ]
  },
  {
   "cell_type": "markdown",
   "metadata": {},
   "source": [
    "### Para cada nova funcionalidade que queremos adicionar, devemos adicionar mais um método. Métodos na verdade são funções próprias dos objetos da classe. No python podemos ter também alguns métodos especiais:"
   ]
  },
  {
   "cell_type": "code",
   "execution_count": 1,
   "metadata": {},
   "outputs": [
    {
     "data": {
      "text/plain": [
       "'Os métodos especiais devem ser inicializados com o duplo underscore(lê-se dunder)'"
      ]
     },
     "execution_count": 1,
     "metadata": {},
     "output_type": "execute_result"
    }
   ],
   "source": [
    "\"\"\"Vamos criar uma nova classe: Cataloga_Livro, onde os 'atributos' são:\n",
    "título, assunto, autor\"\"\"\n",
    "class Cataloga_Livro:\n",
    "    def __init__(self, titulo, assunto='Assunto não informado', autor='Autor não informado'):\n",
    "        self.titulo = titulo\n",
    "        self.assunto = assunto\n",
    "        self.autor = autor\n",
    "        print('Um novo registro inserido!')\n",
    "        \n",
    "        \n",
    "\"\"\"Os métodos especiais devem ser inicializados com o duplo underscore(lê-se dunder)\"\"\""
   ]
  },
  {
   "cell_type": "code",
   "execution_count": 5,
   "metadata": {},
   "outputs": [
    {
     "name": "stdout",
     "output_type": "stream",
     "text": [
      "Um novo registro inserido!\n"
     ]
    }
   ],
   "source": [
    "\"\"\"Vamos criar um livro, e depois aplicar os métodos comuns que utilizamos em strings e\n",
    "em listas: print, len...\"\"\"\n",
    "livro1 = Cataloga_Livro('Use a Cabeça Python', 'Python')"
   ]
  },
  {
   "cell_type": "code",
   "execution_count": 8,
   "metadata": {},
   "outputs": [
    {
     "ename": "NameError",
     "evalue": "name 'titulo' is not defined",
     "output_type": "error",
     "traceback": [
      "\u001b[0;31m---------------------------------------------------------------------------\u001b[0m",
      "\u001b[0;31mNameError\u001b[0m                                 Traceback (most recent call last)",
      "\u001b[0;32m<ipython-input-8-d731941c1fe2>\u001b[0m in \u001b[0;36m<module>\u001b[0;34m()\u001b[0m\n\u001b[0;32m----> 1\u001b[0;31m \u001b[0mprint\u001b[0m\u001b[0;34m(\u001b[0m\u001b[0mlivro1\u001b[0m\u001b[0;34m)\u001b[0m\u001b[0;31m#erro!\u001b[0m\u001b[0;34m\u001b[0m\u001b[0m\n\u001b[0m",
      "\u001b[0;32m<ipython-input-1-323d751fe7b9>\u001b[0m in \u001b[0;36m__str__\u001b[0;34m(self)\u001b[0m\n\u001b[1;32m      9\u001b[0m \u001b[0;34m\u001b[0m\u001b[0m\n\u001b[1;32m     10\u001b[0m     \u001b[0;32mdef\u001b[0m \u001b[0m__str__\u001b[0m\u001b[0;34m(\u001b[0m\u001b[0mself\u001b[0m\u001b[0;34m)\u001b[0m\u001b[0;34m:\u001b[0m\u001b[0;34m\u001b[0m\u001b[0m\n\u001b[0;32m---> 11\u001b[0;31m         \u001b[0;32mreturn\u001b[0m\u001b[0;34m(\u001b[0m\u001b[0mtitulo\u001b[0m \u001b[0;34m+\u001b[0m \u001b[0massunto\u001b[0m \u001b[0;34m+\u001b[0m \u001b[0mautor\u001b[0m\u001b[0;34m)\u001b[0m\u001b[0;34m\u001b[0m\u001b[0m\n\u001b[0m\u001b[1;32m     12\u001b[0m \u001b[0;34m\u001b[0m\u001b[0m\n\u001b[1;32m     13\u001b[0m \u001b[0;34m\"\"\"Os métodos especiais devem ser inicializados com o duplo underscore(lê-se dunder)\"\"\"\u001b[0m\u001b[0;34m\u001b[0m\u001b[0m\n",
      "\u001b[0;31mNameError\u001b[0m: name 'titulo' is not defined"
     ]
    }
   ],
   "source": [
    "print(livro1)#erro!"
   ]
  },
  {
   "cell_type": "code",
   "execution_count": 4,
   "metadata": {},
   "outputs": [
    {
     "ename": "TypeError",
     "evalue": "object of type 'Cataloga_Livro' has no len()",
     "output_type": "error",
     "traceback": [
      "\u001b[0;31m---------------------------------------------------------------------------\u001b[0m",
      "\u001b[0;31mTypeError\u001b[0m                                 Traceback (most recent call last)",
      "\u001b[0;32m<ipython-input-4-a9371b2f435f>\u001b[0m in \u001b[0;36m<module>\u001b[0;34m()\u001b[0m\n\u001b[0;32m----> 1\u001b[0;31m \u001b[0mlen\u001b[0m\u001b[0;34m(\u001b[0m\u001b[0mlivro1\u001b[0m\u001b[0;34m)\u001b[0m\u001b[0;34m\u001b[0m\u001b[0m\n\u001b[0m",
      "\u001b[0;31mTypeError\u001b[0m: object of type 'Cataloga_Livro' has no len()"
     ]
    }
   ],
   "source": [
    "len(livro1)#erro"
   ]
  },
  {
   "cell_type": "code",
   "execution_count": 21,
   "metadata": {},
   "outputs": [],
   "source": [
    "\"\"\"Então inserindo os métodos especiais:\"\"\"\n",
    "class Cataloga_Livro:\n",
    "    def __init__(self, titulo, assunto='Assunto não informado', autor='Autor não informado'):\n",
    "        self.titulo = titulo\n",
    "        self.assunto = assunto\n",
    "        self.autor = autor\n",
    "        print('Um novo registro inserido!')\n",
    "        \n",
    "    def __str__(self):#função print OK\n",
    "        return('Título: ' + self.titulo + '  Assunto: ' + self.assunto + '  Autor: ' + self.autor)"
   ]
  },
  {
   "cell_type": "code",
   "execution_count": 22,
   "metadata": {},
   "outputs": [
    {
     "name": "stdout",
     "output_type": "stream",
     "text": [
      "Um novo registro inserido!\n"
     ]
    }
   ],
   "source": [
    "livro1 = Cataloga_Livro('Use a Cabeça Python', 'Python')"
   ]
  },
  {
   "cell_type": "code",
   "execution_count": 4,
   "metadata": {},
   "outputs": [
    {
     "name": "stdout",
     "output_type": "stream",
     "text": [
      "Python\n",
      "Use a Cabeça Python\n"
     ]
    }
   ],
   "source": [
    "print(livro1.assunto)\n",
    "print(livro1.titulo)"
   ]
  },
  {
   "cell_type": "code",
   "execution_count": 23,
   "metadata": {},
   "outputs": [
    {
     "name": "stdout",
     "output_type": "stream",
     "text": [
      "Título: Use a Cabeça Python  Assunto: Python  Autor: Autor não informado\n"
     ]
    }
   ],
   "source": [
    "print(livro1)\n",
    "\"Agora o método print funciona. Mas e o len?\""
   ]
  },
  {
   "cell_type": "code",
   "execution_count": 24,
   "metadata": {},
   "outputs": [
    {
     "ename": "TypeError",
     "evalue": "object of type 'Cataloga_Livro' has no len()",
     "output_type": "error",
     "traceback": [
      "\u001b[0;31m---------------------------------------------------------------------------\u001b[0m",
      "\u001b[0;31mTypeError\u001b[0m                                 Traceback (most recent call last)",
      "\u001b[0;32m<ipython-input-24-a9371b2f435f>\u001b[0m in \u001b[0;36m<module>\u001b[0;34m()\u001b[0m\n\u001b[0;32m----> 1\u001b[0;31m \u001b[0mlen\u001b[0m\u001b[0;34m(\u001b[0m\u001b[0mlivro1\u001b[0m\u001b[0;34m)\u001b[0m\u001b[0;34m\u001b[0m\u001b[0m\n\u001b[0m",
      "\u001b[0;31mTypeError\u001b[0m: object of type 'Cataloga_Livro' has no len()"
     ]
    }
   ],
   "source": [
    "len(livro1)"
   ]
  },
  {
   "cell_type": "code",
   "execution_count": 19,
   "metadata": {},
   "outputs": [],
   "source": [
    "\"\"\"Mais uma função = mais um método na class:\"\"\"\n",
    "class Cataloga_Livro:\n",
    "    def __init__(self, \n",
    "                 titulo, \n",
    "                 assunto='Assunto não informado', \n",
    "                 autor='Autor não informado',\n",
    "                 paginas=100):\n",
    "        self.titulo = titulo\n",
    "        self.assunto = assunto\n",
    "        self.autor = autor\n",
    "        self.paginas = paginas\n",
    "        print('Um novo registro inserido!')\n",
    "        \n",
    "    def __str__(self):#função print OK\n",
    "        return('Título: ' + self.titulo + '  Assunto: ' + self.assunto + '  Autor: ' + self.autor)\n",
    "    \n",
    "    def __len__(self):\n",
    "        return(self.paginas)#função len ok"
   ]
  },
  {
   "cell_type": "code",
   "execution_count": 20,
   "metadata": {},
   "outputs": [
    {
     "name": "stdout",
     "output_type": "stream",
     "text": [
      "Um novo registro inserido!\n"
     ]
    }
   ],
   "source": [
    "livro1 = Cataloga_Livro('Use a Cabeça Python', 'Python')"
   ]
  },
  {
   "cell_type": "code",
   "execution_count": 18,
   "metadata": {},
   "outputs": [
    {
     "data": {
      "text/plain": [
       "100"
      ]
     },
     "execution_count": 18,
     "metadata": {},
     "output_type": "execute_result"
    }
   ],
   "source": [
    "livro1.paginas"
   ]
  },
  {
   "cell_type": "code",
   "execution_count": 21,
   "metadata": {},
   "outputs": [
    {
     "data": {
      "text/plain": [
       "100"
      ]
     },
     "execution_count": 21,
     "metadata": {},
     "output_type": "execute_result"
    }
   ],
   "source": [
    "len(livro1)"
   ]
  },
  {
   "cell_type": "code",
   "execution_count": 35,
   "metadata": {},
   "outputs": [],
   "source": [
    "\"\"\"E podemos customizar nosso método del\"\"\"\n",
    "class Cataloga_Livro:\n",
    "    def __init__(self, \n",
    "                 titulo, \n",
    "                 assunto='Assunto não informado', \n",
    "                 autor='Autor não informado',\n",
    "                 paginas=100):\n",
    "        self.titulo = titulo\n",
    "        self.assunto = assunto\n",
    "        self.autor = autor\n",
    "        self.paginas = paginas\n",
    "        print('Um novo registro inserido!')\n",
    "        \n",
    "    def __str__(self):#função print OK\n",
    "        return('Título: ' + self.titulo + \n",
    "               '  Assunto: ' + self.assunto + \n",
    "               '  Autor: ' + self.autor)\n",
    "    \n",
    "    def __len__(self):\n",
    "        return(self.paginas)#função len ok\n",
    "    \n",
    "    def __del__(self):\n",
    "        print('Livro destruído com sucesso!')"
   ]
  },
  {
   "cell_type": "code",
   "execution_count": 36,
   "metadata": {},
   "outputs": [
    {
     "name": "stdout",
     "output_type": "stream",
     "text": [
      "Um novo registro inserido!\n"
     ]
    }
   ],
   "source": [
    "livro1 = Cataloga_Livro('Use a Cabeça Python', 'Python')"
   ]
  },
  {
   "cell_type": "code",
   "execution_count": 37,
   "metadata": {},
   "outputs": [
    {
     "name": "stdout",
     "output_type": "stream",
     "text": [
      "Livro destruído com sucesso!\n"
     ]
    }
   ],
   "source": [
    "\"E agora destruíremos o livro com classe:\"\n",
    "del(livro1)"
   ]
  },
  {
   "cell_type": "markdown",
   "metadata": {},
   "source": [
    "### Com certeza, essa foi uma demonstração ruim dos métodos especiais. Mas é importante fazermos analogia com os métodos que usamos normalmente com strings e principalmente listas. Entender que em python, tudo é objeto.                               Importante ler mais sobre métodos especiais na documentação do python."
   ]
  },
  {
   "cell_type": "code",
   "execution_count": null,
   "metadata": {},
   "outputs": [],
   "source": []
  }
 ],
 "metadata": {
  "kernelspec": {
   "display_name": "Python 3",
   "language": "python",
   "name": "python3"
  },
  "language_info": {
   "codemirror_mode": {
    "name": "ipython",
    "version": 3
   },
   "file_extension": ".py",
   "mimetype": "text/x-python",
   "name": "python",
   "nbconvert_exporter": "python",
   "pygments_lexer": "ipython3",
   "version": "3.6.5"
  }
 },
 "nbformat": 4,
 "nbformat_minor": 2
}
