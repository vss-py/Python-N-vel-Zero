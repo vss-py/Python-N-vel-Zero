{
 "cells": [
  {
   "cell_type": "markdown",
   "metadata": {},
   "source": [
    "## Vários tipos diferentes de Dados"
   ]
  },
  {
   "cell_type": "code",
   "execution_count": null,
   "metadata": {},
   "outputs": [],
   "source": [
    "\"\"\"Imagina agora que você queira adicionar informações nesta lista, e estas informações\n",
    "são diferentes, apesar de possivelmente também ser números.\"\"\"\n",
    "\n",
    "\"\"\"victor.txt\n",
    "Victor Santos, 08/11/1993, 2-34,3:21,2.34,2.45,3.01,2:01,2:01,3:10,2-22\n",
    "                \n",
    "suelen.txt\n",
    "Suelen Simões, 06/02/1996, 2:58,2.58,2:39,2-25,2-55,2:54,2.18,2:55,2:55\"\"\""
   ]
  },
  {
   "cell_type": "code",
   "execution_count": 1,
   "metadata": {},
   "outputs": [
    {
     "name": "stdout",
     "output_type": "stream",
     "text": [
      "Informe o caminho do arquivo: dados/victor.txt\n"
     ]
    },
    {
     "data": {
      "text/plain": [
       "['Victor Santos',\n",
       " ' 08/11/1993',\n",
       " ' 2-34',\n",
       " '3:21',\n",
       " '2:34',\n",
       " '2:45',\n",
       " '3:01',\n",
       " '2:01',\n",
       " '2:01']"
      ]
     },
     "execution_count": 1,
     "metadata": {},
     "output_type": "execute_result"
    }
   ],
   "source": [
    "\"\"\"A antiga função padroniza2 ainda continua funcionando:\"\"\"\n",
    "def padroniza2(a=1, b=9):\n",
    "    lista = []\n",
    "    nome = input('Informe o caminho do arquivo: ')\n",
    "    with open(nome) as nome:\n",
    "        dados = nome.readline()\n",
    "    nome_padronizado = dados.strip().split(',')\n",
    "    for cada_valor in nome_padronizado:\n",
    "        if cada_valor[1] == '-':\n",
    "            #print(cada_valor.replace('-', ':'))\n",
    "            lista.append(cada_valor.replace('-', ':'))\n",
    "        elif cada_valor[1] == '.':\n",
    "            #print(cada_valor.replace('.', ':'))\n",
    "            lista.append(cada_valor.replace('.', ':'))\n",
    "        else:\n",
    "            #print(cada_valor)\n",
    "            lista.append(cada_valor)\n",
    "    a = a - 1\n",
    "    return(lista[a:b])\n",
    "padroniza2()"
   ]
  },
  {
   "cell_type": "code",
   "execution_count": null,
   "metadata": {},
   "outputs": [],
   "source": [
    "\"\"\"Mas perceba que estamos exibindo tudo da mesma maneira. Por Deus, são grandezas\n",
    "totalmente diferentes(apesar de ambos serem dados): \n",
    "nome, data de nascimento, tempo de corrida.\"\"\""
   ]
  },
  {
   "cell_type": "code",
   "execution_count": null,
   "metadata": {},
   "outputs": [],
   "source": [
    "\"\"\"As listas são ótimas! Mas nem sempre são a melhor opção para dados complexos!\"\"\""
   ]
  },
  {
   "cell_type": "code",
   "execution_count": 6,
   "metadata": {},
   "outputs": [
    {
     "name": "stdout",
     "output_type": "stream",
     "text": [
      "<class 'dict'>\n",
      "<class 'dict'>\n"
     ]
    }
   ],
   "source": [
    "#Criando dicionários!\n",
    "dicionario1 = {}\n",
    "dicionario2 = dict()\n",
    "#2 maneiras de criar dicionarios\n",
    "print(type(dicionario1))\n",
    "print(type(dicionario2))"
   ]
  },
  {
   "cell_type": "code",
   "execution_count": 7,
   "metadata": {},
   "outputs": [],
   "source": [
    "#Também existem 2 maneiras de se adicionar valores aos dicionários\n",
    "dicionario1['Nome'] = 'Victor Santos'\n",
    "dicionario1['Profissão'] = ['Estudante', 'Desenvolvedor', 'Físico']\n",
    "\n",
    "dicionario2 = {'Nome': 'Suelen Simões', 'Profissão': ['Estudante', 'Designer', 'Física']}\n",
    "\"\"\"Os dados são sempre associados às chaves, em dicionários. Sempre associando, por exemplo,\n",
    "uma grandeza ao seu valor.\"\"\""
   ]
  },
  {
   "cell_type": "code",
   "execution_count": 16,
   "metadata": {},
   "outputs": [
    {
     "name": "stdout",
     "output_type": "stream",
     "text": [
      "{'Nome': 'Victor Santos', 'Profissão': ['Estudante', 'Desenvolvedor', 'Físico']}\n",
      "{'Nome': 'Suelen Simões', 'Profissão': ['Estudante', 'Designer', 'Física']}\n"
     ]
    }
   ],
   "source": [
    "#E para chamar:\n",
    "print(dicionario1)\n",
    "print(dicionario2)"
   ]
  },
  {
   "cell_type": "code",
   "execution_count": 18,
   "metadata": {},
   "outputs": [
    {
     "name": "stdout",
     "output_type": "stream",
     "text": [
      "Suelen Simões\n",
      "['Estudante', 'Desenvolvedor', 'Físico']\n"
     ]
    }
   ],
   "source": [
    "\"\"\"Ou de forma individual, associando a 'grandeza' a seu respectivo 'valor':\"\"\"\n",
    "print(dicionario2['Nome'])\n",
    "print(dicionario1['Profissão'])#aqui podemos brincar como listas"
   ]
  },
  {
   "cell_type": "code",
   "execution_count": 20,
   "metadata": {},
   "outputs": [
    {
     "name": "stdout",
     "output_type": "stream",
     "text": [
      "Físico\n",
      "Estudante\n"
     ]
    }
   ],
   "source": [
    "print(dicionario1['Profissão'][-1])#último valor\n",
    "print(dicionario2['Profissão'][0])#primeiro valor"
   ]
  },
  {
   "cell_type": "code",
   "execution_count": null,
   "metadata": {},
   "outputs": [],
   "source": [
    "\"\"\"Vamos então transformar as listas com os tempos, em dicionários, com nome, data \n",
    "de nascimento e o tempo de cada pessoa.\"\"\""
   ]
  },
  {
   "cell_type": "code",
   "execution_count": 5,
   "metadata": {},
   "outputs": [
    {
     "name": "stdout",
     "output_type": "stream",
     "text": [
      "Victor Santos\n",
      " 08/11/1993\n",
      " 2-34\n",
      "3:21\n",
      "2.34\n",
      "2.45\n",
      "3.01\n",
      "2:01\n",
      "2:01\n",
      "3:10\n",
      "2-22\n"
     ]
    }
   ],
   "source": [
    "#por partes\n",
    "with open('dados/victor.txt') as victor:\n",
    "    dados = victor.readline()\n",
    "padronizado = dados.strip().split(',')\n",
    "for cada_valor in padronizado:\n",
    "        print(cada_valor)\n",
    "\"\"\"Veja que os dois primeiros valores fogem à regra\"\"\"   "
   ]
  },
  {
   "cell_type": "code",
   "execution_count": 12,
   "metadata": {},
   "outputs": [
    {
     "name": "stdout",
     "output_type": "stream",
     "text": [
      "<class 'str'>\n",
      "<class 'str'>\n",
      "<class 'str'>\n",
      "<class 'str'>\n",
      "<class 'str'>\n",
      "<class 'str'>\n",
      "<class 'str'>\n",
      "<class 'str'>\n",
      "<class 'str'>\n",
      "<class 'str'>\n",
      "<class 'str'>\n"
     ]
    }
   ],
   "source": [
    "with open('dados/victor.txt') as victor:\n",
    "    dados = victor.readline()\n",
    "padronizado = dados.strip().split(',')\n",
    "for cada_valor in padronizado:\n",
    "        print(type(cada_valor))\n",
    "        \n",
    "\"\"\"Todos os valores dentro desta lista são strings.\"\"\""
   ]
  },
  {
   "cell_type": "code",
   "execution_count": 16,
   "metadata": {},
   "outputs": [
    {
     "name": "stdout",
     "output_type": "stream",
     "text": [
      "<class 'int'>\n",
      "0\n",
      "<class 'int'>\n",
      "1\n",
      "<class 'int'>\n",
      "2\n",
      "<class 'int'>\n",
      "3\n",
      "<class 'int'>\n",
      "4\n",
      "<class 'int'>\n",
      "5\n",
      "<class 'int'>\n",
      "6\n",
      "<class 'int'>\n",
      "7\n",
      "<class 'int'>\n",
      "8\n",
      "<class 'int'>\n",
      "9\n",
      "<class 'int'>\n",
      "10\n"
     ]
    }
   ],
   "source": [
    "with open('dados/victor.txt') as victor:\n",
    "    dados = victor.readline()\n",
    "padronizado = dados.strip().split(',')\n",
    "for cada_valor in range(len(padronizado)):\n",
    "        print(type(cada_valor))\n",
    "        print(cada_valor)\n",
    "        \n",
    "\"\"\"Agora todos os valores são números inteiros\"\"\""
   ]
  },
  {
   "cell_type": "code",
   "execution_count": 21,
   "metadata": {},
   "outputs": [
    {
     "name": "stdout",
     "output_type": "stream",
     "text": [
      " 2-34\n",
      "3:21\n",
      "2.34\n",
      "2.45\n",
      "3.01\n",
      "2:01\n",
      "2:01\n",
      "3:10\n",
      "2-22\n"
     ]
    }
   ],
   "source": [
    "\"\"\"Então a melhor maneira de fazermos isso é pelo o fato de sabermos que os dois primeiros\n",
    "valores não são tempos.\"\"\"\n",
    "with open('dados/victor.txt') as victor:\n",
    "    dados = victor.readline()\n",
    "padronizado = dados.strip().split(',')\n",
    "for cada_valor in padronizado[2:]:\n",
    "        print(cada_valor)"
   ]
  },
  {
   "cell_type": "code",
   "execution_count": 2,
   "metadata": {},
   "outputs": [
    {
     "name": "stdout",
     "output_type": "stream",
     "text": [
      "{'Nome': 'Victor Santos', 'Nascimento': ' 08/11/1993', 'Tempos': '2-22'}\n"
     ]
    },
    {
     "data": {
      "text/plain": [
       "'Vemos que ele adicionou apenas um tempo, o último, apesar de haver vários no \\ndado intervalo.'"
      ]
     },
     "execution_count": 2,
     "metadata": {},
     "output_type": "execute_result"
    }
   ],
   "source": [
    "dicionario_victor = {}\n",
    "with open('dados/victor.txt') as victor:\n",
    "    dados = victor.readline()\n",
    "padronizado = dados.strip().split(',')\n",
    "for cada_valor in padronizado[0:1]:\n",
    "    dicionario_victor['Nome'] = cada_valor\n",
    "for cada_valor in padronizado[1:2]:\n",
    "    dicionario_victor['Nascimento'] = cada_valor\n",
    "for cada_valor in padronizado[2:]:\n",
    "    dicionario_victor['Tempos'] = cada_valor\n",
    "print(dicionario_victor)\n",
    "\"\"\"Vemos que ele adicionou apenas um tempo, o último, apesar de haver vários no \n",
    "dado intervalo.\"\"\""
   ]
  },
  {
   "cell_type": "code",
   "execution_count": 3,
   "metadata": {},
   "outputs": [
    {
     "name": "stdout",
     "output_type": "stream",
     "text": [
      "{'Nome': 'Victor Santos', 'Nascimento': ' 08/11/1993', 'Tempos': '2-22Victor Santos 08/11/1993 2-343:212.342.453.012:012:013:102-22'}\n"
     ]
    },
    {
     "data": {
      "text/plain": [
       "'E diferente das listas, dicionários são'"
      ]
     },
     "execution_count": 3,
     "metadata": {},
     "output_type": "execute_result"
    }
   ],
   "source": [
    "with open('dados/victor.txt') as victor:\n",
    "    dados = victor.readline()\n",
    "padronizado = dados.strip().split(',')\n",
    "for cada_valor in padronizado[0:1]:\n",
    "    dicionario_victor['Nome'] = cada_valor\n",
    "for cada_valor in padronizado[1:2]:\n",
    "    dicionario_victor['Nascimento'] = cada_valor\n",
    "for cada_valor in padronizado:\n",
    "    dicionario_victor['Tempos'] += cada_valor\n",
    "print(dicionario_victor)\n",
    "\"\"\"E diferente das listas, dicionários são\"\"\""
   ]
  },
  {
   "cell_type": "code",
   "execution_count": 4,
   "metadata": {},
   "outputs": [
    {
     "data": {
      "text/plain": [
       "{'Nome': 'Victor Santos',\n",
       " 'Nascimento': ' 08/11/1993',\n",
       " 'Tempos': '2-22Victor Santos 08/11/1993 2-343:212.342.453.012:012:013:102-22'}"
      ]
     },
     "execution_count": 4,
     "metadata": {},
     "output_type": "execute_result"
    }
   ],
   "source": [
    "dicionario_victor"
   ]
  },
  {
   "cell_type": "code",
   "execution_count": 6,
   "metadata": {},
   "outputs": [
    {
     "data": {
      "text/plain": [
       "{'Nomes': 'João', 'Idade': 25, 'Peso': 65.4}"
      ]
     },
     "execution_count": 6,
     "metadata": {},
     "output_type": "execute_result"
    }
   ],
   "source": [
    "\"\"\"dicionários não armazenam somente strings, mas apenas um tipo para cada chave.\n",
    "Imaginando que vamos adicionar um tempo mas como int ou float, não como string:\"\"\"\n",
    "dicionario_varios = {'Nomes': 'João', 'Idade': 25, 'Peso': 65.4}\n",
    "dicionario_varios"
   ]
  },
  {
   "cell_type": "code",
   "execution_count": 11,
   "metadata": {},
   "outputs": [
    {
     "ename": "TypeError",
     "evalue": "must be str, not int",
     "output_type": "error",
     "traceback": [
      "\u001b[0;31m---------------------------------------------------------------------------\u001b[0m",
      "\u001b[0;31mTypeError\u001b[0m                                 Traceback (most recent call last)",
      "\u001b[0;32m<ipython-input-11-dd1bae88ea61>\u001b[0m in \u001b[0;36m<module>\u001b[0;34m()\u001b[0m\n\u001b[0;32m----> 1\u001b[0;31m \u001b[0mdicionario_varios\u001b[0m\u001b[0;34m[\u001b[0m\u001b[0;34m'Nomes'\u001b[0m\u001b[0;34m]\u001b[0m \u001b[0;34m+=\u001b[0m \u001b[0;36m2\u001b[0m\u001b[0;34m\u001b[0m\u001b[0m\n\u001b[0m",
      "\u001b[0;31mTypeError\u001b[0m: must be str, not int"
     ]
    }
   ],
   "source": [
    "dicionario_varios['Nomes'] += 2#não posso fazer isso"
   ]
  },
  {
   "cell_type": "code",
   "execution_count": 7,
   "metadata": {},
   "outputs": [
    {
     "data": {
      "text/plain": [
       "{'Nomes': 'JoãoPaulo', 'Idade': 40, 'Peso': 65.4}"
      ]
     },
     "execution_count": 7,
     "metadata": {},
     "output_type": "execute_result"
    }
   ],
   "source": [
    "\"\"\"mas posso isso, pois dicionários são mutáveis, ou seja, eu não estou\n",
    "acrescentando novos valores as chaves:\"\"\"\n",
    "dicionario_varios['Nomes'] += 'Paulo'#concatena strings\n",
    "dicionario_varios['Idade'] += 15#operação matemática, pois não é string\n",
    "dicionario_varios"
   ]
  },
  {
   "cell_type": "code",
   "execution_count": 20,
   "metadata": {},
   "outputs": [
    {
     "data": {
      "text/plain": [
       "'J'"
      ]
     },
     "execution_count": 20,
     "metadata": {},
     "output_type": "execute_result"
    }
   ],
   "source": [
    "\"\"\"Acessando os valores como uma lista, ou como uma string mesmo\"\"\"\n",
    "dicionario_varios['Nomes'][0]"
   ]
  },
  {
   "cell_type": "code",
   "execution_count": 21,
   "metadata": {},
   "outputs": [
    {
     "data": {
      "text/plain": [
       "str"
      ]
     },
     "execution_count": 21,
     "metadata": {},
     "output_type": "execute_result"
    }
   ],
   "source": [
    "type(dicionario_varios['Nomes'][0])"
   ]
  },
  {
   "cell_type": "code",
   "execution_count": 22,
   "metadata": {},
   "outputs": [
    {
     "data": {
      "text/plain": [
       "dict_keys(['Nomes', 'Idade', 'Peso'])"
      ]
     },
     "execution_count": 22,
     "metadata": {},
     "output_type": "execute_result"
    }
   ],
   "source": [
    "dicionario_varios.keys()#me retorna as chaves"
   ]
  },
  {
   "cell_type": "code",
   "execution_count": 23,
   "metadata": {},
   "outputs": [
    {
     "data": {
      "text/plain": [
       "dict_values(['JoãoPaulo', 40, 65.4])"
      ]
     },
     "execution_count": 23,
     "metadata": {},
     "output_type": "execute_result"
    }
   ],
   "source": [
    "dicionario_varios.values()#me retorna os valores"
   ]
  },
  {
   "cell_type": "code",
   "execution_count": 4,
   "metadata": {},
   "outputs": [
    {
     "ename": "NameError",
     "evalue": "name 'dicionario_values' is not defined",
     "output_type": "error",
     "traceback": [
      "\u001b[0;31m---------------------------------------------------------------------------\u001b[0m",
      "\u001b[0;31mNameError\u001b[0m                                 Traceback (most recent call last)",
      "\u001b[0;32m<ipython-input-4-4a580a302209>\u001b[0m in \u001b[0;36m<module>\u001b[0;34m()\u001b[0m\n\u001b[0;32m----> 1\u001b[0;31m \u001b[0mdicionario_values\u001b[0m\u001b[0;34m\u001b[0m\u001b[0m\n\u001b[0m",
      "\u001b[0;31mNameError\u001b[0m: name 'dicionario_values' is not defined"
     ]
    }
   ],
   "source": [
    "dicionario_values"
   ]
  },
  {
   "cell_type": "code",
   "execution_count": 18,
   "metadata": {},
   "outputs": [
    {
     "data": {
      "text/plain": [
       "{'Nome': 'Victor', 'Somatória dos tempos': 22.689999999999998}"
      ]
     },
     "execution_count": 18,
     "metadata": {},
     "output_type": "execute_result"
    }
   ],
   "source": [
    "\"\"\"Então vamos criar um dicionário para cada atleta, e nele \n",
    "colocaremos um tempo qualquer:\"\"\"\n",
    "#abrir\n",
    "with open('dados/victor.txt') as victor:\n",
    "    dados = victor.readline()\n",
    "#processar\n",
    "padronizado = dados.replace('-', '.')\n",
    "padronizado2 = padronizado.replace(':', '.')\n",
    "finalizado = padronizado2.strip().split(',')\n",
    "victor_dict = {}#criar o dicionário\n",
    "lista = []\n",
    "for valor in finalizado[2:]:#imprimir\n",
    "    valor2 = float(valor)\n",
    "    lista.append(valor2)\n",
    "#print(sum(lista))\n",
    "victor_dict = {}\n",
    "victor_dict['Nome'] = 'Victor'\n",
    "victor_dict['Somatória dos tempos'] = sum(lista)\n",
    "victor_dict\n",
    "\"\"\"Neste caso, conseguimos dar a chave de somatória dos tempos. Mas e se \n",
    "quiséssemos um tempo aleatório?\"\"\" "
   ]
  },
  {
   "cell_type": "code",
   "execution_count": 37,
   "metadata": {
    "scrolled": true
   },
   "outputs": [
    {
     "data": {
      "text/plain": [
       "{'Nome': 'Victor',\n",
       " 'Somatória dos tempos': 22.689999999999998,\n",
       " 'Tempo aleatório': 3.21}"
      ]
     },
     "execution_count": 37,
     "metadata": {},
     "output_type": "execute_result"
    }
   ],
   "source": [
    "\"\"\"Usando o módulo random, a função randint, pegamos um valor aleatório na nossa \n",
    "lista de tempos\"\"\"\n",
    "from random import randint\n",
    "n = randint(0, len(lista))\n",
    "victor_dict['Tempo aleatório'] = lista[n]\n",
    "victor_dict"
   ]
  },
  {
   "cell_type": "code",
   "execution_count": 47,
   "metadata": {},
   "outputs": [
    {
     "name": "stdout",
     "output_type": "stream",
     "text": [
      "2.01\n"
     ]
    },
    {
     "data": {
      "text/plain": [
       "float"
      ]
     },
     "execution_count": 47,
     "metadata": {},
     "output_type": "execute_result"
    }
   ],
   "source": [
    "\"\"\"Podemos pegar o menor valor desta lista. Ou seja, o menor tempo:\"\"\"\n",
    "print(min(lista))#função pronta no python\n",
    "type(min(lista))#retorna float"
   ]
  },
  {
   "cell_type": "code",
   "execution_count": 48,
   "metadata": {},
   "outputs": [
    {
     "data": {
      "text/plain": [
       "{'Nome': 'Victor',\n",
       " 'Somatória dos tempos': 22.689999999999998,\n",
       " 'Tempo aleatório': 3.21,\n",
       " 'Menor tempo': 2.01}"
      ]
     },
     "execution_count": 48,
     "metadata": {},
     "output_type": "execute_result"
    }
   ],
   "source": [
    "\"\"\"Então para adicionarmos o menor tempo ao nosso dicionário:\"\"\"\n",
    "victor_dict['Menor tempo'] = min(lista)\n",
    "victor_dict"
   ]
  },
  {
   "cell_type": "code",
   "execution_count": 4,
   "metadata": {},
   "outputs": [
    {
     "name": "stdout",
     "output_type": "stream",
     "text": [
      "Entre com o nome do arquivo:victor.txt\n",
      "{'Nome': 'Qualquer', 'Somatória dos tempos': 22.689999999999998, 'Menor tempo': 2.01}\n"
     ]
    }
   ],
   "source": [
    "\"\"\"Agora então, podemos transformar isto numa função:\"\"\"\n",
    "\n",
    "def gera_dicionario(name):\n",
    "    with open(name) as nome:\n",
    "        dados = nome.readline()\n",
    "    padronizado = dados.replace('-', '.')\n",
    "    padronizado2 = padronizado.replace(':', '.')\n",
    "    finalizado = padronizado2.strip().split(',')\n",
    "    dicionario = {}\n",
    "    lista = []\n",
    "    for valor in finalizado[2:]:\n",
    "        valor2 = float(valor)\n",
    "        lista.append(valor2)\n",
    "    dicionario['Nome'] = 'Qualquer'#vamos melhorar esse cara aqui!\n",
    "    dicionario['Somatória dos tempos'] = sum(lista)\n",
    "    dicionario['Menor tempo'] = min(lista)\n",
    "    print(dicionario)\n",
    "\n",
    "x = str(input('Entre com o nome do arquivo:'))\n",
    "y = 'dados/' + x\n",
    "\n",
    "gera_dicionario(y)"
   ]
  },
  {
   "cell_type": "code",
   "execution_count": 5,
   "metadata": {},
   "outputs": [
    {
     "name": "stdout",
     "output_type": "stream",
     "text": [
      "Entre com o nome do arquivo:victor.txt\n",
      "victor\n"
     ]
    }
   ],
   "source": [
    "\"\"\"Podemos substituir a string qualquer, por uma variável. Veja que o caminho informado é \n",
    "a string 'dados/' somado ao nome do atleta.txt. Vamos brincar com isso:\"\"\"\n",
    "x = str(input('Entre com o nome do arquivo:'))\n",
    "y = 'dados/' + x\n",
    "#print(y[6:-4])#retirando dados e .txt da string\n",
    "z = y[6:-4]\n",
    "print(z)"
   ]
  },
  {
   "cell_type": "code",
   "execution_count": 6,
   "metadata": {},
   "outputs": [
    {
     "name": "stdout",
     "output_type": "stream",
     "text": [
      "Entre com o nome do arquivo:suelen.txt\n",
      "{'Nome': 'suelen', 'Somatória dos tempos': 22.17, 'Menor tempo': 2.18}\n"
     ]
    }
   ],
   "source": [
    "\"\"\"Então agora melhorando o nome:\"\"\"\n",
    "def gera_dicionario(name):\n",
    "    name2 = 'dados/' + name\n",
    "    with open(name2) as nome:\n",
    "        dados = nome.readline()\n",
    "    padronizado = dados.replace('-', '.')\n",
    "    padronizado2 = padronizado.replace(':', '.')\n",
    "    finalizado = padronizado2.strip().split(',')\n",
    "    dicionario = {}\n",
    "    lista = []\n",
    "    for valor in finalizado[2:]:\n",
    "        valor2 = float(valor)\n",
    "        lista.append(valor2)\n",
    "    atleta = name2[6:-4]\n",
    "    dicionario['Nome'] = atleta#atribuimos a chave nome, a variável atleta\n",
    "    dicionario['Somatória dos tempos'] = sum(lista)\n",
    "    dicionario['Menor tempo'] = min(lista)\n",
    "    print(dicionario)\n",
    "\n",
    "x = str(input('Entre com o nome do arquivo:'))\n",
    "#y = 'dados/' + x\n",
    "\n",
    "gera_dicionario(x)"
   ]
  },
  {
   "cell_type": "code",
   "execution_count": null,
   "metadata": {},
   "outputs": [],
   "source": [
    "\"\"\"Olha como a nossa gambiarra funcionou:\n",
    "    - o arquivo está em dados, logo acrescentamos a string 'dados/' ao caminho do arquivo;\n",
    "    - tinhamos que pegar somente os valores que são tempos, então começamos a iterar a \n",
    "    partir de 2, pois os os índices 0 e 1 representavam nome e data, respectivamente.\n",
    "    -os valores eram strings, e não números. Então padronizamos todos os valores e criamos\n",
    "    uma variável float que recebia os valores transformando-os em números de ponto flutuante;\n",
    "    -definimos a nossa função. Sim, o python é foda!\n",
    "    -este é o único caminho para se realizar isso? NÃO, porém foi o que EU achei mais fácil;\n",
    "    \"\"\""
   ]
  },
  {
   "cell_type": "code",
   "execution_count": 14,
   "metadata": {},
   "outputs": [
    {
     "name": "stdout",
     "output_type": "stream",
     "text": [
      "Entre com o nome do arquivo:victor.txt\n",
      "{'Nome': 'victor', 'Somatória dos tempos': 22.689999999999998, 'Menor tempo': 2.01}\n",
      "Entre com o nome do arquivo:suelen.txt\n",
      "{'Nome': 'suelen', 'Somatória dos tempos': 22.17, 'Menor tempo': 2.18}\n",
      "Entre com o nome do arquivo:claudia.txt\n",
      "{'Nome': 'claudia', 'Somatória dos tempos': 20.16, 'Menor tempo': 2.38}\n",
      "Entre com o nome do arquivo:marcio.txt\n",
      "{'Nome': 'marcio', 'Somatória dos tempos': 19.19, 'Menor tempo': 2.11}\n"
     ]
    }
   ],
   "source": [
    "\"\"\"Agora vamos fazer isso para todos os 4 atletas:\"\"\"\n",
    "def gera_dicionario(name):\n",
    "    name2 = 'dados/' + name\n",
    "    with open(name2) as nome:\n",
    "        dados = nome.readline()\n",
    "    padronizado = dados.replace('-', '.')\n",
    "    padronizado2 = padronizado.replace(':', '.')\n",
    "    finalizado = padronizado2.strip().split(',')\n",
    "    dicionario = {}\n",
    "    lista = []\n",
    "    for valor in finalizado[2:]:\n",
    "        valor2 = float(valor)\n",
    "        lista.append(valor2)\n",
    "    atleta = name2[6:-4]\n",
    "    dicionario['Nome'] = atleta\n",
    "    dicionario['Somatória dos tempos'] = sum(lista)\n",
    "    dicionario['Menor tempo'] = min(lista)\n",
    "    print(dicionario)\n",
    "a = 0\n",
    "while a < 4:\n",
    "    x = str(input('Entre com o nome do arquivo:'))\n",
    "    gera_dicionario(x)\n",
    "    a += 1"
   ]
  },
  {
   "cell_type": "code",
   "execution_count": 6,
   "metadata": {},
   "outputs": [
    {
     "data": {
      "text/plain": [
       "'Desta maneira, ficou fácil comparar informações entre os atletas.'"
      ]
     },
     "execution_count": 6,
     "metadata": {},
     "output_type": "execute_result"
    }
   ],
   "source": [
    "\"\"\"Desta maneira, ficou fácil comparar informações entre os atletas.\"\"\""
   ]
  },
  {
   "cell_type": "code",
   "execution_count": 13,
   "metadata": {},
   "outputs": [
    {
     "ename": "NameError",
     "evalue": "name 'dicionario' is not defined",
     "output_type": "error",
     "traceback": [
      "\u001b[0;31m---------------------------------------------------------------------------\u001b[0m",
      "\u001b[0;31mNameError\u001b[0m                                 Traceback (most recent call last)",
      "\u001b[0;32m<ipython-input-13-725fdb35af51>\u001b[0m in \u001b[0;36m<module>\u001b[0;34m()\u001b[0m\n\u001b[0;32m----> 1\u001b[0;31m \u001b[0mprint\u001b[0m\u001b[0;34m(\u001b[0m\u001b[0mdicionario\u001b[0m\u001b[0;34m)\u001b[0m\u001b[0;31m#diferente de listas, eu não posso chamar em outro momento\u001b[0m\u001b[0;34m\u001b[0m\u001b[0m\n\u001b[0m",
      "\u001b[0;31mNameError\u001b[0m: name 'dicionario' is not defined"
     ]
    }
   ],
   "source": [
    "print(dicionario)#diferente de listas, eu não posso chamar em outro momento"
   ]
  },
  {
   "cell_type": "code",
   "execution_count": 15,
   "metadata": {
    "scrolled": true
   },
   "outputs": [
    {
     "name": "stdout",
     "output_type": "stream",
     "text": [
      "{'Nome': 'victor', 'Menor tempo': 2.01}\n",
      "Usando dicionario.values: victor\n",
      "--#--\n",
      "Usando dicionario.values: 2.01\n",
      "--#--\n",
      "Usando dicionario.items:('Nome', 'victor')\n",
      "--#--\n",
      "Usando dicionario.items:('Menor tempo', 2.01)\n",
      "--#--\n",
      "Usando dicionario.keys:Nome\n",
      "--#--\n",
      "Usando dicionario.keys:Menor tempo\n",
      "--#--\n"
     ]
    },
    {
     "data": {
      "text/plain": [
       "'Assim nós entendemos como podemos manipular(imprimir) os dicionários.'"
      ]
     },
     "execution_count": 15,
     "metadata": {},
     "output_type": "execute_result"
    }
   ],
   "source": [
    "\"\"\"Corrigir este laço com dicionários\"\"\"\n",
    "def gera_dicionario2(name):\n",
    "    name2 = 'dados/' + name\n",
    "    with open(name2) as nome:\n",
    "        dados = nome.readline()\n",
    "    padronizado = dados.replace('-', '.')\n",
    "    padronizado2 = padronizado.replace(':', '.')\n",
    "    finalizado = padronizado2.strip().split(',')\n",
    "    dicionario = {}\n",
    "    lista = []\n",
    "    for valor in finalizado[2:]:\n",
    "        valor2 = float(valor)\n",
    "        lista.append(valor2)\n",
    "    atleta = name2[6:-4]\n",
    "    dicionario['Nome'] = atleta\n",
    "    #dicionario['Somatória dos tempos'] = sum(lista)\n",
    "    dicionario['Menor tempo'] = min(lista)\n",
    "    print(dicionario)\n",
    "    for valor in dicionario.values():\n",
    "        print('Usando dicionario.values: '+ str(valor))\n",
    "        print('--#--')\n",
    "    for item in dicionario.items():\n",
    "        print('Usando dicionario.items:' + str(item))\n",
    "        print('--#--')\n",
    "    for chave in dicionario.keys():\n",
    "        print('Usando dicionario.keys:' + str(chave))\n",
    "        print('--#--')\n",
    "\n",
    "nome = 'victor.txt'\n",
    "gera_dicionario2(nome)\n",
    "\"\"\"Assim nós entendemos como podemos manipular(imprimir) os dicionários.\"\"\""
   ]
  },
  {
   "cell_type": "code",
   "execution_count": 31,
   "metadata": {},
   "outputs": [
    {
     "name": "stdout",
     "output_type": "stream",
     "text": [
      "victor\n",
      "22.689999999999998\n",
      "2.01\n"
     ]
    }
   ],
   "source": [
    "def gera_dicionario2(name):\n",
    "    name2 = 'dados/' + name\n",
    "    with open(name2) as nome:\n",
    "        dados = nome.readline()\n",
    "    padronizado = dados.replace('-', '.')\n",
    "    padronizado2 = padronizado.replace(':', '.')\n",
    "    finalizado = padronizado2.strip().split(',')\n",
    "    dicionario = {}\n",
    "    lista = []\n",
    "    for valor in finalizado[2:]:\n",
    "        valor2 = float(valor)\n",
    "        lista.append(valor2)\n",
    "    atleta = name2[6:-4]\n",
    "    dicionario['Nome:'] = atleta\n",
    "    dicionario['Somatória dos tempos'] = sum(lista)\n",
    "    dicionario['Menor tempo:'] = min(lista)\n",
    "    #print(dicionario)\n",
    "    for valor in dicionario.values():\n",
    "        print(valor)\n",
    "\n",
    "\n",
    "nome = 'victor.txt'\n",
    "gera_dicionario2(nome)\n"
   ]
  },
  {
   "cell_type": "code",
   "execution_count": 21,
   "metadata": {},
   "outputs": [
    {
     "name": "stdout",
     "output_type": "stream",
     "text": [
      "Nome: victor\n",
      "Somatória dos tempos 22.689999999999998\n",
      "Menor tempo: 2.01\n"
     ]
    }
   ],
   "source": [
    "def gera_dicionario2(name):\n",
    "    name2 = 'dados/' + name\n",
    "    with open(name2) as nome:\n",
    "        dados = nome.readline()\n",
    "    padronizado = dados.replace('-', '.')\n",
    "    padronizado2 = padronizado.replace(':', '.')\n",
    "    finalizado = padronizado2.strip().split(',')\n",
    "    dicionario = {}\n",
    "    lista = []\n",
    "    for valor in finalizado[2:]:\n",
    "        valor2 = float(valor)\n",
    "        lista.append(valor2)\n",
    "    atleta = name2[6:-4]\n",
    "    dicionario['Nome:'] = atleta\n",
    "    dicionario['Somatória dos tempos'] = sum(lista)\n",
    "    dicionario['Menor tempo:'] = min(lista)\n",
    "    \"\"\"Imprime como tuplas:\"\"\"\n",
    "    for item in dicionario.items():\n",
    "        print(item[0], item[1])\n",
    "            \n",
    "nome = 'victor.txt'\n",
    "gera_dicionario2(nome)\n"
   ]
  },
  {
   "cell_type": "code",
   "execution_count": 36,
   "metadata": {},
   "outputs": [
    {
     "name": "stdout",
     "output_type": "stream",
     "text": [
      "Nome: victor\n",
      "Somatória dos tempos:  22.689999999999998\n",
      "Menor tempo: 2.01\n"
     ]
    }
   ],
   "source": [
    "def gera_dicionario2(name):\n",
    "    name2 = 'dados/' + name\n",
    "    with open(name2) as nome:\n",
    "        dados = nome.readline()\n",
    "    padronizado = dados.replace('-', '.')\n",
    "    padronizado2 = padronizado.replace(':', '.')\n",
    "    finalizado = padronizado2.strip().split(',')\n",
    "    dicionario = {}\n",
    "    lista = []\n",
    "    for valor in finalizado[2:]:\n",
    "        valor2 = float(valor)\n",
    "        lista.append(valor2)\n",
    "    atleta = name2[6:-4]\n",
    "    dicionario['Nome:'] = atleta\n",
    "    dicionario['Somatória dos tempos: '] = sum(lista)\n",
    "    dicionario['Menor tempo:'] = min(lista)\n",
    "    \"\"\"Ou fazendo um laço for composto:\"\"\"\n",
    "    for chave, valor  in dicionario.items():\n",
    "        print(chave, valor)\n",
    "            \n",
    "nome = 'victor.txt'\n",
    "gera_dicionario2(nome)\n"
   ]
  },
  {
   "cell_type": "code",
   "execution_count": null,
   "metadata": {},
   "outputs": [],
   "source": []
  }
 ],
 "metadata": {
  "kernelspec": {
   "display_name": "Python 3",
   "language": "python",
   "name": "python3"
  },
  "language_info": {
   "codemirror_mode": {
    "name": "ipython",
    "version": 3
   },
   "file_extension": ".py",
   "mimetype": "text/x-python",
   "name": "python",
   "nbconvert_exporter": "python",
   "pygments_lexer": "ipython3",
   "version": "3.6.5"
  }
 },
 "nbformat": 4,
 "nbformat_minor": 2
}
