{
 "cells": [
  {
   "cell_type": "markdown",
   "metadata": {},
   "source": [
    "# Apresentando Python"
   ]
  },
  {
   "cell_type": "markdown",
   "metadata": {},
   "source": [
    "* ### Python é uma linguagem de programação de alto nível interpretada. De maneira sucinta, isto quer dizer que você não necessita compilar o arquivo para depois rodá-lo. No processo compilação, reúne-se todo o código fonte transformando em algo compreendível pelo computador(a linguagem da máquina, a linguagem de baixo nível). Enquanto que no processo da interpretação, a máquina virtual quando há a execução do programa.\n",
    "* ### Linguagens como C e C++ são linguagens ditas compiladas, pois depois de criado o programa, necessita-se compilá-lo para depois executá-lo. Isso trás a vantagem de execução ser mais rápido, exigindo menos processamento.\n",
    "* ### Linguagens mais modernas, como por exemplo Python, Java e C#, tem seu código fonte transformados em uma linguagem intermediária, que é diretamente interpretada. O que trás certa desvantagem, já que a exigência de processamento pelo computador é maior. Mas hoje, com a evolução do hardware e a criação de técnicas de execução, tornaram isso um problema bem menor.  "
   ]
  },
  {
   "cell_type": "markdown",
   "metadata": {},
   "source": [
    "# Primeiros passos Python"
   ]
  },
  {
   "cell_type": "markdown",
   "metadata": {},
   "source": [
    "* ### **Métodos**: São funções atreladas aos objetos, que, quando se fala em classe, refere-se a objetos em específico. Por exemplo, o método print, serve para printar a maior parte dos tipos de objetos naturais do python(lista, string, inteiro, float, dicionário...) enquanto que o método len não pode ser usado para inteiro e float, por exemplo.\n",
    "\n",
    "* ### **Funções**: "
   ]
  },
  {
   "cell_type": "markdown",
   "metadata": {},
   "source": [
    "* # Laços:"
   ]
  },
  {
   "cell_type": "markdown",
   "metadata": {},
   "source": [
    " Os laços são as formas como o nosso código vai exigir uma repetição. Se por exemplo, no caso das listas, eu quiser adicionar uma sequência numérica a uma lista existente: "
   ]
  },
  {
   "cell_type": "code",
   "execution_count": 25,
   "metadata": {},
   "outputs": [
    {
     "name": "stdout",
     "output_type": "stream",
     "text": [
      "[0, 2, 4, 6, 8, 10, 12, 14, 16, 18, 20, 22, 24, 26, 28, 30, 32, 34, 36, 38, 40, 42, 44, 46, 48]\n"
     ]
    }
   ],
   "source": [
    "lista = []\n",
    "for i in range(0, 50, 2):\n",
    "    lista.append(i)\n",
    "print(lista)"
   ]
  },
  {
   "cell_type": "markdown",
   "metadata": {},
   "source": [
    "* ### O range é um método, que junto com o len (outro método), são usualmente utilizados no python na criação de laços de repetição(loops). Quando usamos um for em conjunto com o range, a ideia é que o objeto que criamos (i, mas poderia ser qualquer letra ou palavra) faz uma contagem. E no range(a, b, c), os  argumentos significam, respectivamente: valor inicial, valor final, passo. Ou seja, num range(0, 50, 2), quer dizer que a começar de 0(intervalo fechado em zero), até 50(intervalo aberto em 50) de 2 em 2. Como é intervalo aberto em 50, para exibirmos 50 devemos fazer:"
   ]
  },
  {
   "cell_type": "code",
   "execution_count": 1,
   "metadata": {},
   "outputs": [
    {
     "name": "stdout",
     "output_type": "stream",
     "text": [
      "[0, 2, 4, 6, 8, 10, 12, 14, 16, 18, 20, 22, 24, 26, 28, 30, 32, 34, 36, 38, 40, 42, 44, 46, 48, 50]\n"
     ]
    }
   ],
   "source": [
    "lista = []\n",
    "for i in range(0, 51, 2):\n",
    "    lista.append(i)\n",
    "print(lista)"
   ]
  },
  {
   "cell_type": "markdown",
   "metadata": {},
   "source": [
    "### Da mesma forma como temos também o len(nome_do_objeto), que retorna o tamanho do objeto, o que é equivalente ao índice de sua última posição. Por exemplo, se quisermos criar um laço que conte até o último elemento de uma lista ou tupla, ou mesmo o último caracter de uma string, usamos o len: "
   ]
  },
  {
   "cell_type": "code",
   "execution_count": 2,
   "metadata": {},
   "outputs": [
    {
     "name": "stdout",
     "output_type": "stream",
     "text": [
      "26\n"
     ]
    }
   ],
   "source": [
    "print(len(lista))"
   ]
  },
  {
   "cell_type": "code",
   "execution_count": 10,
   "metadata": {},
   "outputs": [
    {
     "name": "stdout",
     "output_type": "stream",
     "text": [
      "0\n",
      "4\n",
      "8\n",
      "12\n",
      "16\n",
      "20\n",
      "24\n",
      "28\n",
      "32\n",
      "36\n",
      "40\n",
      "44\n",
      "48\n"
     ]
    }
   ],
   "source": [
    "for i in range(len(lista)):\n",
    "    if i % 2 == 0:\n",
    "        print(lista[i])\n",
    "\"\"\"Retornando só os elementos de índice par da lista. Vis que o mod(%), retorna o resto\n",
    "da divisão. Se o resto é 0, quer dizer que é divisível por 2, logo par.\"\"\""
   ]
  },
  {
   "cell_type": "code",
   "execution_count": 11,
   "metadata": {},
   "outputs": [
    {
     "name": "stdout",
     "output_type": "stream",
     "text": [
      "2\n",
      "6\n",
      "10\n",
      "14\n",
      "18\n",
      "22\n",
      "26\n",
      "30\n",
      "34\n",
      "38\n",
      "42\n",
      "46\n",
      "50\n"
     ]
    }
   ],
   "source": [
    "for i in range(len(lista)):\n",
    "    if i % 2 != 0:\n",
    "        print(lista[i])\n",
    "\"\"\"Logo, o contrário também é verdadeiro.\"\"\""
   ]
  },
  {
   "cell_type": "code",
   "execution_count": 15,
   "metadata": {},
   "outputs": [
    {
     "name": "stdout",
     "output_type": "stream",
     "text": [
      "0\n",
      "4\n",
      "8\n",
      "12\n",
      "16\n",
      "20\n",
      "24\n",
      "28\n",
      "32\n",
      "36\n",
      "40\n",
      "44\n",
      "48\n"
     ]
    }
   ],
   "source": [
    "\"\"\"Como a lista é composta por inteiros apenas, poderiamos retornar, por exemplo, apenas\n",
    "os elementos divisíveis por 4, já que todos são pares:\"\"\"\n",
    "for i in range(len(lista)):\n",
    "    if lista[i] % 4 == 0:\n",
    "        print(lista[i])"
   ]
  },
  {
   "cell_type": "markdown",
   "metadata": {},
   "source": [
    "* # Objetos:  "
   ]
  },
  {
   "cell_type": "code",
   "execution_count": 16,
   "metadata": {},
   "outputs": [],
   "source": [
    "t = ('sou uma tupla',)\n",
    "w = {'um dicionário': 'com texto'}\n",
    "x = 2\n",
    "y = 'Eu sou um texto!'\n",
    "z = ['uma lista com texto']\n"
   ]
  },
  {
   "cell_type": "code",
   "execution_count": 17,
   "metadata": {},
   "outputs": [
    {
     "name": "stdout",
     "output_type": "stream",
     "text": [
      "<class 'tuple'>\n",
      "<class 'dict'>\n",
      "<class 'int'>\n",
      "<class 'str'>\n",
      "<class 'list'>\n"
     ]
    }
   ],
   "source": [
    "'Estes são os tipos de objetos(ao menos por enquanto):'\n",
    "print(type(w))\n",
    "print(type(x))\n",
    "print(type(y))\n",
    "print(type(z))\n",
    "print(type(t))"
   ]
  },
  {
   "cell_type": "markdown",
   "metadata": {},
   "source": [
    "* # Métodos "
   ]
  },
  {
   "cell_type": "markdown",
   "metadata": {},
   "source": [
    "### Métodos podem ser entendidos como as funções próprias de cada objeto, por enquanto."
   ]
  },
  {
   "cell_type": "code",
   "execution_count": 23,
   "metadata": {},
   "outputs": [
    {
     "data": {
      "text/plain": [
       "'O método append adciona um elemento no final da lista'"
      ]
     },
     "execution_count": 23,
     "metadata": {},
     "output_type": "execute_result"
    }
   ],
   "source": [
    "#exemplo com a lista:\n",
    "z.append('a')\n",
    "z.append(1)\n",
    "\"\"\"O método append adciona um elemento no final da lista\"\"\""
   ]
  },
  {
   "cell_type": "code",
   "execution_count": 24,
   "metadata": {},
   "outputs": [
    {
     "name": "stdout",
     "output_type": "stream",
     "text": [
      "['uma lista com texto', 'a', 1]\n"
     ]
    }
   ],
   "source": [
    "print(z)"
   ]
  },
  {
   "cell_type": "code",
   "execution_count": 25,
   "metadata": {},
   "outputs": [],
   "source": [
    "z.remove('uma lista com texto')\n",
    "\n",
    "\"\"\"O método 'remove', remove da lista o conteúdo informado no parêntese. \n",
    "Toda string é declarada entre ''.\"\"\""
   ]
  },
  {
   "cell_type": "code",
   "execution_count": 26,
   "metadata": {},
   "outputs": [
    {
     "name": "stdout",
     "output_type": "stream",
     "text": [
      "['a', 1]\n"
     ]
    }
   ],
   "source": [
    "print(z)"
   ]
  },
  {
   "cell_type": "code",
   "execution_count": 27,
   "metadata": {},
   "outputs": [],
   "source": [
    "\"\"\"Vamos criar uma lista que já contenha bastante informação.\"\"\"\n",
    "lista = [1, 2, 3, 'a', 'b', 'c']"
   ]
  },
  {
   "cell_type": "code",
   "execution_count": 31,
   "metadata": {},
   "outputs": [
    {
     "name": "stdout",
     "output_type": "stream",
     "text": [
      "1 c\n"
     ]
    }
   ],
   "source": [
    "'Para selecionarmos os objetos dentro da lista, usamos seu índice:'\n",
    "print(lista[0], lista[5])"
   ]
  },
  {
   "cell_type": "code",
   "execution_count": 37,
   "metadata": {},
   "outputs": [
    {
     "name": "stdout",
     "output_type": "stream",
     "text": [
      "[1, 2, 3]\n"
     ]
    }
   ],
   "source": [
    "'Então vamos remover todas as strings desta lista:'\n",
    "lista.remove('a')\n",
    "lista.remove('b')\n",
    "lista.remove('c')\n",
    "print(lista)"
   ]
  },
  {
   "cell_type": "code",
   "execution_count": 41,
   "metadata": {},
   "outputs": [
    {
     "name": "stdout",
     "output_type": "stream",
     "text": [
      "[1, 2, 3]\n"
     ]
    }
   ],
   "source": [
    "'E aqui há um outro método para lista:'\n",
    "lista.sort()\n",
    "print(lista)\n",
    "#Não aconteceu nada, pois a lista já está em ordem crescente"
   ]
  },
  {
   "cell_type": "code",
   "execution_count": 46,
   "metadata": {},
   "outputs": [
    {
     "name": "stdout",
     "output_type": "stream",
     "text": [
      "None\n"
     ]
    }
   ],
   "source": [
    "print(lista.reverse())"
   ]
  },
  {
   "cell_type": "code",
   "execution_count": 8,
   "metadata": {},
   "outputs": [
    {
     "name": "stdout",
     "output_type": "stream",
     "text": [
      "[]\n"
     ]
    }
   ],
   "source": [
    "lista = []#zerando a lista\n",
    "print(lista)"
   ]
  },
  {
   "cell_type": "code",
   "execution_count": null,
   "metadata": {},
   "outputs": [],
   "source": []
  },
  {
   "cell_type": "code",
   "execution_count": 10,
   "metadata": {},
   "outputs": [
    {
     "name": "stdout",
     "output_type": "stream",
     "text": [
      "item0\n"
     ]
    }
   ],
   "source": []
  },
  {
   "cell_type": "code",
   "execution_count": 11,
   "metadata": {},
   "outputs": [
    {
     "name": "stdout",
     "output_type": "stream",
     "text": [
      "item3\n"
     ]
    }
   ],
   "source": [
    "print(lista[1])"
   ]
  },
  {
   "cell_type": "code",
   "execution_count": 13,
   "metadata": {},
   "outputs": [
    {
     "ename": "IndexError",
     "evalue": "list index out of range",
     "output_type": "error",
     "traceback": [
      "\u001b[0;31m---------------------------------------------------------------------------\u001b[0m",
      "\u001b[0;31mIndexError\u001b[0m                                Traceback (most recent call last)",
      "\u001b[0;32m<ipython-input-13-4805d969b07d>\u001b[0m in \u001b[0;36m<module>\u001b[0;34m()\u001b[0m\n\u001b[0;32m----> 1\u001b[0;31m \u001b[0mprint\u001b[0m\u001b[0;34m(\u001b[0m\u001b[0mlista\u001b[0m\u001b[0;34m[\u001b[0m\u001b[0;36m2\u001b[0m\u001b[0;34m]\u001b[0m\u001b[0;34m)\u001b[0m\u001b[0;34m\u001b[0m\u001b[0m\n\u001b[0m",
      "\u001b[0;31mIndexError\u001b[0m: list index out of range"
     ]
    }
   ],
   "source": [
    "print(lista[2"
   ]
  },
  {
   "cell_type": "code",
   "execution_count": null,
   "metadata": {},
   "outputs": [],
   "source": []
  }
 ],
 "metadata": {
  "kernelspec": {
   "display_name": "Python 3",
   "language": "python",
   "name": "python3"
  },
  "language_info": {
   "codemirror_mode": {
    "name": "ipython",
    "version": 3
   },
   "file_extension": ".py",
   "mimetype": "text/x-python",
   "name": "python",
   "nbconvert_exporter": "python",
   "pygments_lexer": "ipython3",
   "version": "3.6.5"
  }
 },
 "nbformat": 4,
 "nbformat_minor": 2
}
