{
 "cells": [
  {
   "cell_type": "markdown",
   "metadata": {},
   "source": [
    "# Apresentando Python"
   ]
  },
  {
   "cell_type": "markdown",
   "metadata": {},
   "source": [
    "* ### Python é uma linguagem de programação de alto nível interpretada. De maneira sucinta, isto quer dizer que você não necessita compilar o arquivo para depois rodá-lo. No processo compilação, reúne-se todo o código fonte transformando em algo compreendível pelo computador(a linguagem da máquina, a linguagem de baixo nível). Enquanto que no processo da interpretação, a máquina virtual quando há a execução do programa.\n",
    "* ### Linguagens como C e C++ são linguagens ditas compiladas, pois depois de criado o programa, necessita-se compilá-lo para depois executá-lo. Isso trás a vantagem de execução ser mais rápido, exigindo menos processamento.\n",
    "* ### Linguagens mais modernas, como por exemplo Python, Java e C#, tem seu código fonte transformados em uma linguagem intermediária, que é diretamente interpretada. O que trás certa desvantagem, já que a exigência de processamento pelo computador é maior. Mas hoje, com a evolução do hardware e a criação de técnicas de execução, tornaram isso um problema bem menor.  "
   ]
  },
  {
   "cell_type": "markdown",
   "metadata": {},
   "source": [
    ">__Importante__: Todo conteúdo desse arquivo teve como fonte a própria documentação do python\n",
    ">Pode ser encontrada __aqui__ https://docs.python.org/3/library/stdtypes.html"
   ]
  },
  {
   "cell_type": "markdown",
   "metadata": {},
   "source": [
    "# Primeiros passos Python"
   ]
  },
  {
   "cell_type": "markdown",
   "metadata": {},
   "source": [
    "* ### **Métodos**: São funções atreladas aos objetos, que, quando se fala em classe, refere-se a objetos em específico. Por exemplo, o método print, serve para printar a maior parte dos tipos de objetos naturais do python(lista, string, inteiro, float, dicionário...) enquanto que o método len não pode ser usado para inteiro e float, por exemplo.\n",
    "\n",
    "* ### **Funções**: "
   ]
  },
  {
   "cell_type": "markdown",
   "metadata": {},
   "source": [
    "* ## Condições:"
   ]
  },
  {
   "cell_type": "code",
   "execution_count": 44,
   "metadata": {},
   "outputs": [
    {
     "name": "stdout",
     "output_type": "stream",
     "text": [
      "False\n"
     ]
    }
   ],
   "source": [
    "x = 3\n",
    "if x < 2:\n",
    "    print(True)\n",
    "else:\n",
    "    print(False)"
   ]
  },
  {
   "cell_type": "code",
   "execution_count": 45,
   "metadata": {},
   "outputs": [
    {
     "name": "stdout",
     "output_type": "stream",
     "text": [
      "ele não está na lista!\n"
     ]
    }
   ],
   "source": [
    "l = [1, 2, 3, 4, 5, 6]\n",
    "if 7 in l:\n",
    "    print('O número 7 está na lista!')\n",
    "else:\n",
    "    print('ele não está na lista!')\n",
    "\"\"\"Como também podemos fazer o contrário\"\"\""
   ]
  },
  {
   "cell_type": "code",
   "execution_count": 46,
   "metadata": {},
   "outputs": [
    {
     "name": "stdout",
     "output_type": "stream",
     "text": [
      "ele não está na lista!\n"
     ]
    }
   ],
   "source": [
    "if 7 not in l:\n",
    "    print('ele não está na lista!')\n",
    "else:\n",
    "    print('ele está na lista!')"
   ]
  },
  {
   "cell_type": "code",
   "execution_count": 49,
   "metadata": {},
   "outputs": [
    {
     "name": "stdout",
     "output_type": "stream",
     "text": [
      "Digite um número: 1\n",
      "informe outro número!\n",
      "Digite um número: 2\n",
      "informe outro número!\n",
      "Digite um número: 4\n",
      "informe outro número!\n",
      "Digite um número: 3\n",
      "informe outro número!\n",
      "Digite um número: 7\n",
      "informe outro número!\n",
      "O número digitado finalmente foi 7.\n"
     ]
    }
   ],
   "source": [
    "\"\"\"Usando um laço e uma condição(o que ocorre na maioria das vezes):\"\"\"\n",
    "lista_vazia = []\n",
    "while 7 not in lista_vazia:\n",
    "    pergunta = int(input('Digite um número: '))\n",
    "    lista_vazia.append(pergunta)\n",
    "    print('informe outro número!')\n",
    "print('O número digitado finalmente foi 7.')\n"
   ]
  },
  {
   "cell_type": "markdown",
   "metadata": {},
   "source": [
    "* # Laços:"
   ]
  },
  {
   "cell_type": "markdown",
   "metadata": {},
   "source": [
    " Os laços são as formas como o nosso código vai exigir uma repetição. Se por exemplo, no caso das listas, eu quiser adicionar uma sequência numérica a uma lista existente: "
   ]
  },
  {
   "cell_type": "code",
   "execution_count": 25,
   "metadata": {},
   "outputs": [
    {
     "name": "stdout",
     "output_type": "stream",
     "text": [
      "[0, 2, 4, 6, 8, 10, 12, 14, 16, 18, 20, 22, 24, 26, 28, 30, 32, 34, 36, 38, 40, 42, 44, 46, 48]\n"
     ]
    }
   ],
   "source": [
    "lista = []\n",
    "for i in range(0, 50, 2):\n",
    "    lista.append(i)\n",
    "print(lista)"
   ]
  },
  {
   "cell_type": "markdown",
   "metadata": {},
   "source": [
    "* ### O range é um método, que junto com o len (outro método), são usualmente utilizados no python na criação de laços de repetição(loops). Quando usamos um for em conjunto com o range, a ideia é que o objeto que criamos (i, mas poderia ser qualquer letra ou palavra) faz uma contagem. E no range(a, b, c), os  argumentos significam, respectivamente: valor inicial, valor final, passo. Ou seja, num range(0, 50, 2), quer dizer que a começar de 0(intervalo fechado em zero), até 50(intervalo aberto em 50) de 2 em 2. Como é intervalo aberto em 50, para exibirmos 50 devemos fazer:"
   ]
  },
  {
   "cell_type": "code",
   "execution_count": 1,
   "metadata": {},
   "outputs": [
    {
     "name": "stdout",
     "output_type": "stream",
     "text": [
      "[0, 2, 4, 6, 8, 10, 12, 14, 16, 18, 20, 22, 24, 26, 28, 30, 32, 34, 36, 38, 40, 42, 44, 46, 48, 50]\n"
     ]
    }
   ],
   "source": [
    "lista = []\n",
    "for i in range(0, 51, 2):\n",
    "    lista.append(i)\n",
    "print(lista)"
   ]
  },
  {
   "cell_type": "markdown",
   "metadata": {},
   "source": [
    "### Da mesma forma como temos também o len(nome_do_objeto), que retorna o tamanho do objeto, o que é equivalente ao índice de sua última posição. Por exemplo, se quisermos criar um laço que conte até o último elemento de uma lista ou tupla, ou mesmo o último caracter de uma string, usamos o len: "
   ]
  },
  {
   "cell_type": "code",
   "execution_count": 2,
   "metadata": {},
   "outputs": [
    {
     "name": "stdout",
     "output_type": "stream",
     "text": [
      "26\n"
     ]
    }
   ],
   "source": [
    "print(len(lista))"
   ]
  },
  {
   "cell_type": "code",
   "execution_count": 10,
   "metadata": {},
   "outputs": [
    {
     "name": "stdout",
     "output_type": "stream",
     "text": [
      "0\n",
      "4\n",
      "8\n",
      "12\n",
      "16\n",
      "20\n",
      "24\n",
      "28\n",
      "32\n",
      "36\n",
      "40\n",
      "44\n",
      "48\n"
     ]
    }
   ],
   "source": [
    "for i in range(len(lista)):\n",
    "    if i % 2 == 0:\n",
    "        print(lista[i])\n",
    "\"\"\"Retornando só os elementos de índice par da lista. Vis que o mod(%), retorna o resto\n",
    "da divisão. Se o resto é 0, quer dizer que é divisível por 2, logo par.\"\"\""
   ]
  },
  {
   "cell_type": "code",
   "execution_count": 11,
   "metadata": {},
   "outputs": [
    {
     "name": "stdout",
     "output_type": "stream",
     "text": [
      "2\n",
      "6\n",
      "10\n",
      "14\n",
      "18\n",
      "22\n",
      "26\n",
      "30\n",
      "34\n",
      "38\n",
      "42\n",
      "46\n",
      "50\n"
     ]
    }
   ],
   "source": [
    "for i in range(len(lista)):\n",
    "    if i % 2 != 0:\n",
    "        print(lista[i])\n",
    "\"\"\"Logo, o contrário também é verdadeiro.\"\"\""
   ]
  },
  {
   "cell_type": "code",
   "execution_count": 15,
   "metadata": {},
   "outputs": [
    {
     "name": "stdout",
     "output_type": "stream",
     "text": [
      "0\n",
      "4\n",
      "8\n",
      "12\n",
      "16\n",
      "20\n",
      "24\n",
      "28\n",
      "32\n",
      "36\n",
      "40\n",
      "44\n",
      "48\n"
     ]
    }
   ],
   "source": [
    "\"\"\"Como a lista é composta por inteiros apenas, poderiamos retornar, por exemplo, apenas\n",
    "os elementos divisíveis por 4, já que todos são pares:\"\"\"\n",
    "for i in range(len(lista)):\n",
    "    if lista[i] % 4 == 0:\n",
    "        print(lista[i])"
   ]
  },
  {
   "cell_type": "code",
   "execution_count": 1,
   "metadata": {},
   "outputs": [
    {
     "name": "stdout",
     "output_type": "stream",
     "text": [
      "Dragoon Ball\n",
      "Naruto\n",
      "One Piece\n",
      "Cavaleiros do Zodiaco\n"
     ]
    }
   ],
   "source": [
    "\"\"\"O for. Olha que bacana como o for funciona:\"\"\"\n",
    "lista_animes = ['Dragoon Ball', 'Naruto', 'One Piece',  'Cavaleiros do Zodiaco']\n",
    "for cada_anime in lista_animes:\n",
    "    print(cada_anime)"
   ]
  },
  {
   "cell_type": "code",
   "execution_count": 28,
   "metadata": {},
   "outputs": [
    {
     "name": "stdout",
     "output_type": "stream",
     "text": [
      "D\n",
      "r\n",
      "a\n",
      "g\n",
      "o\n",
      "o\n",
      "n\n",
      " \n",
      "B\n",
      "a\n",
      "l\n",
      "l\n",
      "Dragoon Ball\n",
      "['Dragoon Ball', 'Naruto', 'One Piece', 'Cavaleiros do Zodiaco']\n"
     ]
    }
   ],
   "source": [
    "\"\"\"E podemos ainda criar um for dentro de um for, vai retornar as letras:\"\"\"\n",
    "for cada_anime in lista_animes[0]:\n",
    "    for cada_letra in cada_anime:\n",
    "        print(cada_letra)\n",
    "print(lista_animes[0]) \n",
    "print(lista_animes[0: len(lista_animes)])"
   ]
  },
  {
   "cell_type": "code",
   "execution_count": 30,
   "metadata": {},
   "outputs": [
    {
     "name": "stdout",
     "output_type": "stream",
     "text": [
      "Dragoon Ball\n",
      "Naruto\n",
      "One Piece\n",
      "Cavaleiros do Zodiaco\n"
     ]
    }
   ],
   "source": [
    "\"\"\"E um outro laço que também pode ser usado, mas que exige certa cautela,\n",
    "é o while(enquanto).\"\"\"\n",
    "\n",
    "\n",
    "i = 0\n",
    "while i <= len(lista_animes)-1:\n",
    "    print(lista_animes[i])\n",
    "    i = i + 1#ou i+= 1\n",
    "\"\"\"\n",
    "Quando começar a brincar, vai entender que a subtração de 1 no tamanho da lista, \n",
    "é necessária porque o índice 0 representa uma posição. Enquanto i for menor ou igual\n",
    "ao tamanho da lista menos 1, ele vai printar o elemento da lista na posição i.\n",
    "i representa a posição do item. É extremamente necessário indicar que está aumentando de\n",
    "1 o valor do i a cada passagem, senão o programa, computador, fiação elétrica,\n",
    "trava!!\n",
    "\"\"\""
   ]
  },
  {
   "cell_type": "code",
   "execution_count": 38,
   "metadata": {},
   "outputs": [
    {
     "name": "stdout",
     "output_type": "stream",
     "text": [
      "Dragoon Ball 0\n",
      "Naruto 1\n",
      "One Piece 2\n",
      "Cavaleiros do Zodiaco 3\n"
     ]
    },
    {
     "ename": "IndexError",
     "evalue": "list index out of range",
     "output_type": "error",
     "traceback": [
      "\u001b[0;31m---------------------------------------------------------------------------\u001b[0m",
      "\u001b[0;31mIndexError\u001b[0m                                Traceback (most recent call last)",
      "\u001b[0;32m<ipython-input-38-c4e1a70c8105>\u001b[0m in \u001b[0;36m<module>\u001b[0;34m()\u001b[0m\n\u001b[1;32m      3\u001b[0m     \u001b[0mprint\u001b[0m\u001b[0;34m(\u001b[0m\u001b[0mlista_animes\u001b[0m\u001b[0;34m[\u001b[0m\u001b[0mi\u001b[0m\u001b[0;34m]\u001b[0m\u001b[0;34m,\u001b[0m \u001b[0mi\u001b[0m\u001b[0;34m)\u001b[0m\u001b[0;34m\u001b[0m\u001b[0m\n\u001b[1;32m      4\u001b[0m     \u001b[0mi\u001b[0m \u001b[0;34m+=\u001b[0m \u001b[0;36m1\u001b[0m\u001b[0;31m#e aqui\u001b[0m\u001b[0;34m\u001b[0m\u001b[0m\n\u001b[0;32m----> 5\u001b[0;31m \u001b[0mprint\u001b[0m\u001b[0;34m(\u001b[0m\u001b[0mlista_animes\u001b[0m\u001b[0;34m[\u001b[0m\u001b[0mi\u001b[0m\u001b[0;34m]\u001b[0m\u001b[0;34m)\u001b[0m\u001b[0;34m\u001b[0m\u001b[0m\n\u001b[0m",
      "\u001b[0;31mIndexError\u001b[0m: list index out of range"
     ]
    }
   ],
   "source": [
    "i = 0#o i começa com 0\n",
    "while i < len(lista_animes):#repare na diferença aqui\n",
    "    print(lista_animes[i], i)#ó o índice sendo printado\n",
    "    i += 1#e aqui\n",
    "print(i)#aqui ele está extrapolando o índice, e dá pra se entender o porquê.\n",
    "\n",
    "\"\"\"IndexError: list index out of range\"\"\""
   ]
  },
  {
   "cell_type": "markdown",
   "metadata": {},
   "source": [
    "* # Objetos:  "
   ]
  },
  {
   "cell_type": "code",
   "execution_count": 16,
   "metadata": {},
   "outputs": [],
   "source": [
    "t = ('sou uma tupla',)\n",
    "w = {'um dicionário': 'com texto'}\n",
    "x = 2\n",
    "y = 'Eu sou um texto!'\n",
    "z = ['uma lista com texto']\n"
   ]
  },
  {
   "cell_type": "code",
   "execution_count": 17,
   "metadata": {},
   "outputs": [
    {
     "name": "stdout",
     "output_type": "stream",
     "text": [
      "<class 'tuple'>\n",
      "<class 'dict'>\n",
      "<class 'int'>\n",
      "<class 'str'>\n",
      "<class 'list'>\n"
     ]
    }
   ],
   "source": [
    "'Estes são uns tipos de objetos(ao menos por enquanto):'\n",
    "print(type(w))\n",
    "print(type(x))\n",
    "print(type(y))\n",
    "print(type(z))\n",
    "print(type(t))"
   ]
  },
  {
   "cell_type": "markdown",
   "metadata": {},
   "source": [
    "* # Métodos "
   ]
  },
  {
   "cell_type": "markdown",
   "metadata": {},
   "source": [
    "### Métodos podem ser entendidos como as funções próprias de cada objeto, por enquanto."
   ]
  },
  {
   "cell_type": "code",
   "execution_count": 23,
   "metadata": {},
   "outputs": [
    {
     "data": {
      "text/plain": [
       "'O método append adciona um elemento no final da lista'"
      ]
     },
     "execution_count": 23,
     "metadata": {},
     "output_type": "execute_result"
    }
   ],
   "source": [
    "#exemplo com a lista:\n",
    "z.append('a')\n",
    "z.append(1)\n",
    "\"\"\"O método append adciona um elemento no final da lista\"\"\""
   ]
  },
  {
   "cell_type": "code",
   "execution_count": 24,
   "metadata": {},
   "outputs": [
    {
     "name": "stdout",
     "output_type": "stream",
     "text": [
      "['uma lista com texto', 'a', 1]\n"
     ]
    }
   ],
   "source": [
    "print(z)"
   ]
  },
  {
   "cell_type": "code",
   "execution_count": 25,
   "metadata": {},
   "outputs": [],
   "source": [
    "z.remove('uma lista com texto')\n",
    "\n",
    "\"\"\"O método 'remove', remove da lista o conteúdo informado no parêntese. \n",
    "Toda string é declarada entre ''.\"\"\""
   ]
  },
  {
   "cell_type": "code",
   "execution_count": 26,
   "metadata": {},
   "outputs": [
    {
     "name": "stdout",
     "output_type": "stream",
     "text": [
      "['a', 1]\n"
     ]
    }
   ],
   "source": [
    "print(z)"
   ]
  },
  {
   "cell_type": "code",
   "execution_count": 27,
   "metadata": {},
   "outputs": [],
   "source": [
    "\"\"\"Vamos criar uma lista que já contenha bastante informação.\"\"\"\n",
    "lista = [1, 2, 3, 'a', 'b', 'c']"
   ]
  },
  {
   "cell_type": "code",
   "execution_count": 31,
   "metadata": {},
   "outputs": [
    {
     "name": "stdout",
     "output_type": "stream",
     "text": [
      "1 c\n"
     ]
    }
   ],
   "source": [
    "'Para selecionarmos os objetos dentro da lista, usamos seu índice:'\n",
    "print(lista[0], lista[5])"
   ]
  },
  {
   "cell_type": "code",
   "execution_count": 37,
   "metadata": {},
   "outputs": [
    {
     "name": "stdout",
     "output_type": "stream",
     "text": [
      "[1, 2, 3]\n"
     ]
    }
   ],
   "source": [
    "'Então vamos remover todas as strings desta lista:'\n",
    "lista.remove('a')\n",
    "lista.remove('b')\n",
    "lista.remove('c')\n",
    "print(lista)"
   ]
  },
  {
   "cell_type": "markdown",
   "metadata": {},
   "source": [
    "#### As listas e as strings são os objetos com maior número de métodos:\n",
    "* #### list.append(x)\n",
    "Adiciona um item ao fim da lista; equivale a a[len(a):] = [x].\n",
    "\n",
    "* #### list.extend(L)\n",
    "Prolonga a lista, adicionando no fim todos os elementos da lista L passada como argumento; equivalente a a[len(a):] = L.\n",
    "\n",
    "* #### list.insert(i, x)\n",
    "Insere um item em uma posição especificada. O primeiro argumento é o índice do elemento antes do qual será feita a inserção, assim a.insert(0, x) insere no início da lista, e a.insert(len(a), x) equivale a a.append(x).\n",
    "\n",
    "* #### list.remove(x)\n",
    "Remove o primeiro item encontrado na lista cujo valor é igual a x. Se não existir valor igual, uma exceção ValueError é levantada.\n",
    "\n",
    "* #### list.pop([i])\n",
    "Remove o item na posição dada e o devolve. Se nenhum índice for especificado, a.pop() remove e devolve o último item na lista. (Os colchetes ao redor do i indicam que o parâmetro é opcional, não que você deva digitá-los daquela maneira. Você verá essa notação com frequência na Referência da Biblioteca Python.)\n",
    "\n",
    "* #### list.index(x)\n",
    "Devolve o índice do primeiro item cujo valor é igual a x, gerando ValueError se este valor não existe\n",
    "\n",
    "* #### list.count(x)\n",
    "Devolve o número de vezes que o valor x aparece na lista.\n",
    "\n",
    "* #### list.sort()\n",
    "Ordena os itens na própria lista in place.\n",
    "\n",
    "* #### list.reverse()\n",
    "Inverte a ordem dos elementos na lista in place (sem gerar uma nova lista).\n",
    "\n"
   ]
  },
  {
   "cell_type": "code",
   "execution_count": null,
   "metadata": {},
   "outputs": [],
   "source": []
  },
  {
   "cell_type": "code",
   "execution_count": null,
   "metadata": {},
   "outputs": [],
   "source": []
  },
  {
   "cell_type": "code",
   "execution_count": null,
   "metadata": {},
   "outputs": [],
   "source": []
  },
  {
   "cell_type": "code",
   "execution_count": null,
   "metadata": {},
   "outputs": [],
   "source": []
  },
  {
   "cell_type": "code",
   "execution_count": null,
   "metadata": {},
   "outputs": [],
   "source": []
  },
  {
   "cell_type": "code",
   "execution_count": null,
   "metadata": {},
   "outputs": [],
   "source": []
  }
 ],
 "metadata": {
  "kernelspec": {
   "display_name": "Python 3",
   "language": "python",
   "name": "python3"
  },
  "language_info": {
   "codemirror_mode": {
    "name": "ipython",
    "version": 3
   },
   "file_extension": ".py",
   "mimetype": "text/x-python",
   "name": "python",
   "nbconvert_exporter": "python",
   "pygments_lexer": "ipython3",
   "version": "3.6.5"
  }
 },
 "nbformat": 4,
 "nbformat_minor": 2
}
