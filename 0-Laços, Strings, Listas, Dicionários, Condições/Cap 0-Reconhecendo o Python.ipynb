{
 "cells": [
  {
   "cell_type": "markdown",
   "metadata": {},
   "source": [
    "# Apresentando Python"
   ]
  },
  {
   "cell_type": "markdown",
   "metadata": {},
   "source": [
    "* ### Python é uma linguagem de programação de alto nível interpretada. De maneira sucinta, isto quer dizer que você não necessita compilar o arquivo para depois rodá-lo. No processo compilação, reúne-se todo o código fonte transformando em algo compreendível pelo computador(a linguagem da máquina, a linguagem de baixo nível). Enquanto que no processo da interpretação, a máquina virtual quando há a execução do programa.\n",
    "* ### Linguagens como C e C++ são linguagens ditas compiladas, pois depois de criado o programa, necessita-se compilá-lo para depois executá-lo. Isso trás a vantagem de execução ser mais rápido, exigindo menos processamento.\n",
    "* ### Linguagens mais modernas, como por exemplo Python, Java e C#, tem seu código fonte transformados em uma linguagem intermediária, que é diretamente interpretada. O que trás certa desvantagem, já que a exigência de processamento pelo computador é maior. Mas hoje, com a evolução do hardware e a criação de técnicas de execução, tornaram isso um problema bem menor.  "
   ]
  },
  {
   "cell_type": "markdown",
   "metadata": {},
   "source": [
    "# Primeiros passos Python"
   ]
  },
  {
   "cell_type": "markdown",
   "metadata": {},
   "source": [
    "* ### **Métodos**: São funções atreladas aos objetos, que, quando se fala em classe, refere-se a objetos em específico. Por exemplo, o método print, serve para printar a maior parte dos tipos de objetos naturais do python(lista, string, inteiro, float, dicionário...) enquanto que o método len não pode ser usado para inteiro e float, por exemplo.\n",
    "\n",
    "* ### **Funções**: "
   ]
  },
  {
   "cell_type": "code",
   "execution_count": 3,
   "metadata": {},
   "outputs": [
    {
     "data": {
      "text/plain": [
       "5"
      ]
     },
     "execution_count": 3,
     "metadata": {},
     "output_type": "execute_result"
    }
   ],
   "source": []
  },
  {
   "cell_type": "code",
   "execution_count": null,
   "metadata": {},
   "outputs": [],
   "source": []
  }
 ],
 "metadata": {
  "kernelspec": {
   "display_name": "Python 3",
   "language": "python",
   "name": "python3"
  },
  "language_info": {
   "codemirror_mode": {
    "name": "ipython",
    "version": 3
   },
   "file_extension": ".py",
   "mimetype": "text/x-python",
   "name": "python",
   "nbconvert_exporter": "python",
   "pygments_lexer": "ipython3",
   "version": "3.6.5"
  }
 },
 "nbformat": 4,
 "nbformat_minor": 2
}
