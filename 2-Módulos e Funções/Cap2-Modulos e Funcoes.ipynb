{
 "cells": [
  {
   "cell_type": "markdown",
   "metadata": {},
   "source": [
    "# Transformando a Função em um Módulo"
   ]
  },
  {
   "cell_type": "code",
   "execution_count": null,
   "metadata": {},
   "outputs": [],
   "source": [
    "\"\"\"Agora que a função já está criada, e comentada(comentários podem ser adicionados com o \n",
    "uso da aspas tripla, como esse comentário.\"\"\""
   ]
  },
  {
   "cell_type": "markdown",
   "metadata": {},
   "source": [
    "## Para construir o módulo, basta construir o arquivo.py, e para importá-lo basta que esteja no mesmo diretório onde o interpretador está sendo executado."
   ]
  },
  {
   "cell_type": "code",
   "execution_count": 2,
   "metadata": {},
   "outputs": [
    {
     "name": "stdout",
     "output_type": "stream",
     "text": [
      "Noob\n",
      "Smooke\n",
      "Sub-Zero\n",
      "Kung-Lao\n",
      "Liu Kang\n",
      "Scorpion\n"
     ]
    },
    {
     "data": {
      "text/plain": [
       "'fc - nome do arquivo.py(módulo)\\nprint_lol - nome da função'"
      ]
     },
     "execution_count": 2,
     "metadata": {},
     "output_type": "execute_result"
    }
   ],
   "source": [
    "\"\"\"Deu o nome do arquivo de fc.py, então para chamá-lo basta:\"\"\"\n",
    "from fc import print_lol\n",
    "\n",
    "nova_lista = ['Noob', 'Smooke', 'Sub-Zero', ['Kung-Lao', 'Liu Kang'], ['Scorpion']]\n",
    "print_lol(nova_lista)\n",
    "\n",
    "\"\"\"fc - nome do arquivo.py(módulo)\n",
    "print_lol - nome da função\"\"\""
   ]
  },
  {
   "cell_type": "code",
   "execution_count": 3,
   "metadata": {},
   "outputs": [
    {
     "name": "stdout",
     "output_type": "stream",
     "text": [
      "Noob\n",
      "Smooke\n",
      "Sub-Zero\n",
      "Kung-Lao\n",
      "Liu Kang\n",
      "Scorpion\n"
     ]
    },
    {
     "data": {
      "text/plain": [
       "'Outra maneira de chamar nosso módulo, mas talvez menos elegante^^'"
      ]
     },
     "execution_count": 3,
     "metadata": {},
     "output_type": "execute_result"
    }
   ],
   "source": [
    "import fc\n",
    "\n",
    "fc.print_lol(nova_lista)\n",
    "\n",
    "\"\"\"Outra maneira de chamar nosso módulo, mas talvez menos elegante^^\"\"\""
   ]
  },
  {
   "cell_type": "code",
   "execution_count": null,
   "metadata": {},
   "outputs": [],
   "source": [
    "\"\"\"Então fica fácil perceber que se tivermos um módulo com mais de uma função, podemos\n",
    "chamá-las indepentes das demais funções. Exemplo: Agora nós temos a função print_ja(), \n",
    "dentro do módulo fc:\"\"\"\n",
    "\n",
    "\"\"\"...\n",
    "def print_ja(lista):\n",
    "    print(lista)\"\"\""
   ]
  },
  {
   "cell_type": "code",
   "execution_count": 7,
   "metadata": {},
   "outputs": [
    {
     "name": "stdout",
     "output_type": "stream",
     "text": [
      "['Noob', 'Smooke', 'Sub-Zero', ['Kung-Lao', 'Liu Kang'], ['Scorpion']]\n",
      "Noob\n",
      "Smooke\n",
      "Sub-Zero\n",
      "Kung-Lao\n",
      "Liu Kang\n",
      "Scorpion\n"
     ]
    }
   ],
   "source": [
    "from fc import print_lol, print_ja\n",
    "print_ja(nova_lista)\n",
    "print_lol(nova_lista)"
   ]
  },
  {
   "cell_type": "code",
   "execution_count": 6,
   "metadata": {},
   "outputs": [
    {
     "name": "stdout",
     "output_type": "stream",
     "text": [
      "['Noob', 'Smooke', 'Sub-Zero', ['Kung-Lao', 'Liu Kang'], ['Scorpion']]\n",
      "Noob\n",
      "Smooke\n",
      "Sub-Zero\n",
      "Kung-Lao\n",
      "Liu Kang\n",
      "Scorpion\n"
     ]
    }
   ],
   "source": [
    "\"\"\"Logo, podemos importar somente uma função, ou as duas. Como também podemos\n",
    "importar o módulo inteiro\"\"\"\n",
    "import fc\n",
    "print_ja(nova_lista)\n",
    "print_lol(nova_lista)"
   ]
  },
  {
   "cell_type": "code",
   "execution_count": 9,
   "metadata": {},
   "outputs": [
    {
     "name": "stdout",
     "output_type": "stream",
     "text": [
      "['Primeiro item da lista']\n",
      "['Teeexto, mas podia ser um valor numérico, ou qualquer coisa']\n",
      "['Primeiro item da lista']\n"
     ]
    }
   ],
   "source": [
    "\"\"\"Uma função pode ter um ou mais argumentos:\"\"\"\n",
    "def insere_lista(a, lista):\n",
    "    lista = []\n",
    "    lista.append(a)\n",
    "    print(lista)\n",
    "    \n",
    "x = 'Teeexto, mas podia ser um valor numérico, ou qualquer coisa'\n",
    "texto = ['Primeiro item da lista']\n",
    "print(texto)\n",
    "insere_lista(x, texto)\n",
    "print(texto)\n",
    "#entender o que acontece aqui."
   ]
  },
  {
   "cell_type": "markdown",
   "metadata": {},
   "source": [
    "## O pulo do gato: o destemido '__name__'"
   ]
  },
  {
   "cell_type": "code",
   "execution_count": null,
   "metadata": {},
   "outputs": [],
   "source": [
    "#é o __name__ (lê-se dunder name)\n",
    "#o nome do módulo é fc2, portanto tem um arquivo fc2.py no mesmo diretório deste arquivo\n",
    "#do ipython\n",
    "\"\"\"def print_simples():\n",
    "    print('Teste!')\n",
    "\n",
    "print_simples()#esse cara é executado\n",
    "if __name__ == '__main__':\n",
    "    print_simples()#essse cara não\n",
    "    print('Yes')#nem esse, a não ser pelo próprio módulo\"\"\"\n"
   ]
  },
  {
   "cell_type": "code",
   "execution_count": 12,
   "metadata": {},
   "outputs": [
    {
     "name": "stdout",
     "output_type": "stream",
     "text": [
      "Teste!\n"
     ]
    },
    {
     "data": {
      "text/plain": [
       "\"Conforme esperado, a função print_simples foi chamada apenas uma vez, assim como\\na mensagem 'yes' não foi printada\""
      ]
     },
     "execution_count": 12,
     "metadata": {},
     "output_type": "execute_result"
    }
   ],
   "source": [
    "import fc2\n",
    "fc2.print_simples()\n",
    "#fc2 - nome do módulo, print_simples - nome da função\n",
    "\"\"\"Conforme esperado, a função print_simples foi chamada apenas uma vez, assim como\n",
    "a mensagem 'yes' não foi printada\"\"\" "
   ]
  },
  {
   "cell_type": "code",
   "execution_count": null,
   "metadata": {},
   "outputs": [],
   "source": [
    "\"\"\"De forma resumida, vc gera a condição, quando a variável name for igual a main,\n",
    "a linha é executada. Do contrário, não. E esta variável, o __name__ sempre irá\n",
    "retornar __main__ caso o programa esteja sendo rodado no próprio módulo, e não \n",
    "importado. Na prática, é isso que acontece, mas entender mais a fundo o que acontece é\n",
    "muito importante.\"\"\""
   ]
  },
  {
   "cell_type": "code",
   "execution_count": null,
   "metadata": {},
   "outputs": [],
   "source": [
    "\"\"\"Assim como um módulo geralmente possui mais de uma função.\"\"\"\n",
    "#fc4.py\n",
    "\n",
    "\"\"\"def print_simples():\n",
    "    print('Teste!')\n",
    "\n",
    "def print_complexo():\n",
    "    print('Teste complexo!')\n",
    "\n",
    "print_simples()\n",
    "print_complexo()\n",
    "print('função rodando')\n",
    "if __name__ == '__main__':\n",
    "\n",
    "    print('função condicionada')\"\"\"\n",
    "\n"
   ]
  },
  {
   "cell_type": "code",
   "execution_count": 13,
   "metadata": {},
   "outputs": [
    {
     "name": "stdout",
     "output_type": "stream",
     "text": [
      "Teste!\n",
      "Teste complexo!\n",
      "função rodando\n",
      "Teste!\n",
      "segunda função\n",
      "Teste complexo!\n"
     ]
    },
    {
     "data": {
      "text/plain": [
       "\"Não é esperado que apareça o print: 'função condicionada'\""
      ]
     },
     "execution_count": 13,
     "metadata": {},
     "output_type": "execute_result"
    }
   ],
   "source": [
    "import fc4\n",
    "\n",
    "fc4.print_simples()#função sem argumento\n",
    "print('segunda função')\n",
    "fc4.print_complexo()\n",
    "\"\"\"Não é esperado que apareça o print: 'função condicionada'\"\"\""
   ]
  },
  {
   "cell_type": "code",
   "execution_count": null,
   "metadata": {},
   "outputs": [],
   "source": []
  },
  {
   "cell_type": "code",
   "execution_count": null,
   "metadata": {},
   "outputs": [],
   "source": []
  },
  {
   "cell_type": "code",
   "execution_count": null,
   "metadata": {},
   "outputs": [],
   "source": []
  },
  {
   "cell_type": "code",
   "execution_count": null,
   "metadata": {},
   "outputs": [],
   "source": []
  }
 ],
 "metadata": {
  "kernelspec": {
   "display_name": "Python 3",
   "language": "python",
   "name": "python3"
  },
  "language_info": {
   "codemirror_mode": {
    "name": "ipython",
    "version": 3
   },
   "file_extension": ".py",
   "mimetype": "text/x-python",
   "name": "python",
   "nbconvert_exporter": "python",
   "pygments_lexer": "ipython3",
   "version": "3.6.5"
  }
 },
 "nbformat": 4,
 "nbformat_minor": 2
}
