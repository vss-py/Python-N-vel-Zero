{
 "cells": [
  {
   "cell_type": "markdown",
   "metadata": {},
   "source": [
    "## Funções"
   ]
  },
  {
   "cell_type": "code",
   "execution_count": null,
   "metadata": {},
   "outputs": [],
   "source": [
    "\"\"\"Vamos tentar entender melhor como manipular as Funções do python. No sentido de criação\n",
    "de função, não no 'para que o python serve', hahahha.\"\"\""
   ]
  },
  {
   "cell_type": "code",
   "execution_count": 1,
   "metadata": {},
   "outputs": [],
   "source": [
    "\"\"\"Para se criar a função, usa-se def, o nome da função, e o argumento entre (). A linha \n",
    "de baixo deve ser identada(4 espaços) e possuir o código da função.\"\"\"\n",
    "\n",
    "def fc():\n",
    "    print('Executando a função!')"
   ]
  },
  {
   "cell_type": "code",
   "execution_count": null,
   "metadata": {},
   "outputs": [],
   "source": [
    "\"\"\"Agora crie um arquivo.py, e coloque nele uma função simples como essa, e execute. Não se\n",
    "assuste, o python não retornará nada. Isso ocorre pois o python faz a leitura do \n",
    "código de cima para baixo, da esquerda para direita, mas ele não executa a função, apenas\n",
    "a armazena. Para executá-la, é necessário chamá-la. Esta maneira que o python tem de \n",
    "trabalhar é muito boa, pois facilita muitas coisas para nós.\"\"\""
   ]
  },
  {
   "cell_type": "code",
   "execution_count": 3,
   "metadata": {},
   "outputs": [
    {
     "name": "stdout",
     "output_type": "stream",
     "text": [
      "Executando a função!\n"
     ]
    }
   ],
   "source": [
    "def fc():#criando a função\n",
    "    print('Executando a função!')\n",
    "fc()#chamando a função"
   ]
  },
  {
   "cell_type": "code",
   "execution_count": 12,
   "metadata": {},
   "outputs": [
    {
     "name": "stdout",
     "output_type": "stream",
     "text": [
      "Informe um número inteiro:24\n",
      "Informe um outro número inteiro:42\n"
     ]
    },
    {
     "data": {
      "text/plain": [
       "66"
      ]
     },
     "execution_count": 12,
     "metadata": {},
     "output_type": "execute_result"
    }
   ],
   "source": [
    "\"\"\"Argumentos da função.\"\"\"\n",
    "\"\"\"Esta é a forma de passar argumentos chamada posicionais\"\"\"\n",
    "def soma(a, b):\n",
    "    return a + b\n",
    "\n",
    "primeiro = int(input('Informe um número inteiro:'))\n",
    "segundo = int(input('Informe um outro número inteiro:'))\n",
    "soma(primeiro, segundo)"
   ]
  },
  {
   "cell_type": "code",
   "execution_count": 18,
   "metadata": {},
   "outputs": [
    {
     "name": "stdout",
     "output_type": "stream",
     "text": [
      "14\n",
      "16\n"
     ]
    }
   ],
   "source": [
    "\"\"\"Ela é chamada assim pois a ordem dos argumentos deve coincidir entre si.\"\"\"\n",
    "\n",
    "def soma(a, b):\n",
    "    return 2*a + 3*b\n",
    "\n",
    "print(soma(4, 2))\n",
    "print(soma(2, 4))"
   ]
  },
  {
   "cell_type": "code",
   "execution_count": 20,
   "metadata": {},
   "outputs": [
    {
     "name": "stdout",
     "output_type": "stream",
     "text": [
      "14\n",
      "14\n"
     ]
    }
   ],
   "source": [
    "\"\"\"Há forma de passar argumentos nomeados.\"\"\"\n",
    "\n",
    "print(soma(a=4, b=2))\n",
    "\"\"\"Onde não há nenhuma relação com a ordem dos argumentos.\"\"\"\n",
    "print(soma(b=2, a=4))"
   ]
  },
  {
   "cell_type": "code",
   "execution_count": 24,
   "metadata": {},
   "outputs": [
    {
     "name": "stdout",
     "output_type": "stream",
     "text": [
      "4\n"
     ]
    }
   ],
   "source": [
    "\"\"\"Usar o default (padrão) do python\"\"\"\n",
    "\n",
    "def soma(a, b=0):#por padrão, b vale 0 \n",
    "    return 2*a + 3*b\n",
    "\n",
    "\"\"\"Desta forma, eu posso omitir argumentos, que eles receberão o valor padrão.\"\"\"\n",
    "print(soma(2))"
   ]
  },
  {
   "cell_type": "code",
   "execution_count": 27,
   "metadata": {},
   "outputs": [
    {
     "name": "stdout",
     "output_type": "stream",
     "text": [
      "Primeiro valor:4\n",
      "Segundo valor:3\n",
      "17\n"
     ]
    }
   ],
   "source": [
    "\"\"\"Lembrando que estou usando python3, logo caso ainda esteja numa versão menor,\n",
    "haverá de corrigir à versão que está usando.\"\"\"\n",
    "input1 = int(input('Primeiro valor:'))\n",
    "input2 = int(input('Segundo valor:'))\n",
    "\n",
    "print(soma(input1, input2))"
   ]
  },
  {
   "cell_type": "code",
   "execution_count": 5,
   "metadata": {},
   "outputs": [
    {
     "name": "stdout",
     "output_type": "stream",
     "text": [
      "10\n",
      "2\n",
      "3\n",
      "4\n",
      "5\n",
      "(13, 7)\n"
     ]
    }
   ],
   "source": [
    "\"\"\"O python também pensou que você poderia não saber com exatidão o número de argumentos\n",
    "que suas funções devem possuir. Há uma forma de criar funções com número indefinido\n",
    "de argumentos.\"\"\"\n",
    "\n",
    "def soma_indefinida(a, b, *args):\n",
    "    return(a+args[0], b+args[2])\n",
    "\n",
    "input1 = int(input())\n",
    "input2 = int(input())\n",
    "input3 = int(input())\n",
    "input4 = int(input())\n",
    "input5 = int(input())\n",
    "\"\"\"os argumentos indefinidos são retornados como uma tupla\"\"\"\n",
    "print(soma_indefinida(input1, input2, input3, input4, input5))"
   ]
  },
  {
   "cell_type": "markdown",
   "metadata": {},
   "source": [
    "### Entenda a soma a+args[0], e b+args[2], dendro do colchete"
   ]
  },
  {
   "cell_type": "code",
   "execution_count": 6,
   "metadata": {
    "scrolled": false
   },
   "outputs": [
    {
     "name": "stdout",
     "output_type": "stream",
     "text": [
      "1\n",
      "2\n",
      "3\n",
      "4\n",
      "5\n",
      "(1, 4, {'h': 2, 'g': 3, 'i': 5})\n"
     ]
    }
   ],
   "source": [
    "\"\"\"Esta é uma maneira de passar argumentos posicionais de número indefinido. Para o \n",
    "caso dos argumentos nomeados, ao invés de *args, usa-se **kwargs:\"\"\"\n",
    "def leitura_indefinida(a, b, **kwargs):\n",
    "    return(a, b, kwargs)\n",
    "\n",
    "input1 = int(input())\n",
    "input2 = int(input())\n",
    "input3 = int(input())\n",
    "input4 = int(input())\n",
    "input5 = int(input())\n",
    "\"\"\"Agora, os que não possuem as variáveis inclusas em kwards aparecem num dicionário\"\"\"\n",
    "print(leitura_indefinida(a = input1, h = input2, g = input3, b = input4, i = input5))\n",
    "\"\"\"Apesar desta função apenas retornar os valores, veja quais valores entraram no\n",
    "dicionário.\"\"\""
   ]
  },
  {
   "cell_type": "code",
   "execution_count": null,
   "metadata": {},
   "outputs": [],
   "source": [
    "\"\"\"É importante tentar mesclar as opções, chamar argumentos nomeados e posicionais ao mesmo\n",
    "tempo, e explorar os TypeErrors que podem ser retornados.\"\"\""
   ]
  },
  {
   "cell_type": "code",
   "execution_count": 10,
   "metadata": {},
   "outputs": [
    {
     "name": "stdout",
     "output_type": "stream",
     "text": [
      "1\n",
      "2\n",
      "3\n",
      "4\n",
      "5\n",
      "6\n",
      "7\n",
      "(1, 2, (3, 4, 5), {'f': 6, 'g': 7})\n"
     ]
    }
   ],
   "source": [
    "\"\"\"Os nomes: args e kwargs, são arbitrários.\"\"\"\n",
    "def leitura_indefinida(a, b, *posicionais, **nomeados):\n",
    "    return(a, b, posicionais, nomeados)\n",
    "\n",
    "input1 = int(input())\n",
    "input2 = int(input())\n",
    "input3 = int(input())\n",
    "input4 = int(input())\n",
    "input5 = int(input())\n",
    "primeiro = int(input())\n",
    "segundo = int(input())\n",
    "print(leitura_indefinida(input1, input2, input3, input4, input5, f = primeiro, g = segundo))"
   ]
  },
  {
   "cell_type": "code",
   "execution_count": null,
   "metadata": {},
   "outputs": [],
   "source": [
    "\"\"\"Agora é só brincar pra entender melhor, na prática.\"\"\""
   ]
  }
 ],
 "metadata": {
  "kernelspec": {
   "display_name": "Python 3",
   "language": "python",
   "name": "python3"
  },
  "language_info": {
   "codemirror_mode": {
    "name": "ipython",
    "version": 3
   },
   "file_extension": ".py",
   "mimetype": "text/x-python",
   "name": "python",
   "nbconvert_exporter": "python",
   "pygments_lexer": "ipython3",
   "version": "3.6.5"
  }
 },
 "nbformat": 4,
 "nbformat_minor": 2
}
