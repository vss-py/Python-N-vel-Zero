{
 "cells": [
  {
   "cell_type": "code",
   "execution_count": null,
   "metadata": {},
   "outputs": [],
   "source": [
    "\"\"\"Não existe nada de completamente errado no mundo, \n",
    "mesmo um relógio parado, consegue \n",
    "estar certo duas vezes por dia.\n",
    "Paulo Coelho\"\"\"\n",
    "#Na programação, isso não é bem assim."
   ]
  },
  {
   "cell_type": "markdown",
   "metadata": {},
   "source": [
    "## Ler arquivos pelo python:"
   ]
  },
  {
   "cell_type": "code",
   "execution_count": 3,
   "metadata": {
    "collapsed": true
   },
   "outputs": [
    {
     "data": {
      "text/plain": [
       "\"nome_arbitrario = open('caminho_do_arquivo.txt')#abre\\ncodigo_de_processamento#executa comandos\\nnome_arbitrario.close()#fecha o arquivo - O exemplo é ruim, mas a ideia é essa.\""
      ]
     },
     "execution_count": 3,
     "metadata": {},
     "output_type": "execute_result"
    }
   ],
   "source": [
    "\"\"\"Por padrão, o python tem em mente: abrir-processar-fechar, e nós respeitamos isso.\"\"\"\n",
    "\n",
    "\"\"\"nome_arbitrario = open('caminho_do_arquivo.txt')#abre\n",
    "codigo_de_processamento#executa comandos\n",
    "nome_arbitrario.close()#fecha o arquivo - O exemplo é ruim, mas a ideia é essa.\"\"\""
   ]
  },
  {
   "cell_type": "code",
   "execution_count": null,
   "metadata": {},
   "outputs": [],
   "source": [
    "arquivo.txt\n",
    "\"\"\"O Zen do Python, por Tim Peters\n",
    "Bonito é melhor que feio.\n",
    "Explícito é melhor que implícito.\n",
    "Simples é melhor que complexo.\n",
    "Complexo é melhor que complicado.\n",
    "Linear é melhor do que aninhado.\n",
    "Esparso é melhor que denso.\n",
    "Legibilidade conta.\n",
    "Casos especiais não são especiais o bastante para quebrar as regras.\n",
    "Ainda que praticidade vença a pureza.\n",
    "Erros nunca devem passar silenciosamente.\n",
    "A menos que sejam explicitamente silenciados.\n",
    "Diante da ambigüidade, recuse a tentação de adivinhar.\n",
    "Deveria haver um — e preferencialmente só um — modo óbvio para fazer algo.\n",
    "Embora esse modo possa não ser óbvio a princípio a menos que você seja holandês.\n",
    "Agora é melhor que nunca.\n",
    "Embora nunca freqüentemente seja melhor que já.\n",
    "Se a implementação é difícil de explicar, é uma má idéia.\n",
    "Se a implementação é fácil de explicar, pode ser uma boa idéia.\n",
    "Namespaces são uma grande idéia — vamos ter mais dessas!\"\"\" "
   ]
  },
  {
   "cell_type": "code",
   "execution_count": 36,
   "metadata": {},
   "outputs": [
    {
     "name": "stdout",
     "output_type": "stream",
     "text": [
      "O Zen do Python, por Tim Peters\n",
      "\n"
     ]
    }
   ],
   "source": [
    "arquivo = open('arquivo.txt')\n",
    "print(arquivo.readline())#lê a primeira linha\n",
    "arquivo.close()"
   ]
  },
  {
   "cell_type": "code",
   "execution_count": 37,
   "metadata": {
    "scrolled": false
   },
   "outputs": [
    {
     "name": "stdout",
     "output_type": "stream",
     "text": [
      "['O Zen do Python, por Tim Peters\\n', 'Bonito é melhor que feio.\\n', 'Explícito é melhor que implícito.\\n', 'Simples é melhor que complexo.\\n', 'Complexo é melhor que complicado.\\n', 'Linear é melhor do que aninhado.\\n', 'Esparso é melhor que denso.\\n', 'Legibilidade conta.\\n', 'Casos especiais não são especiais o bastante para quebrar as regras.\\n', 'Ainda que praticidade vença a pureza.\\n', 'Erros nunca devem passar silenciosamente.\\n', 'A menos que sejam explicitamente silenciados.\\n', 'Diante da ambigüidade, recuse a tentação de adivinhar.\\n', 'Deveria haver um — e preferencialmente só um — modo óbvio para fazer algo.\\n', 'Embora esse modo possa não ser óbvio a princípio a menos que você seja holandês.\\n', 'Agora é melhor que nunca.\\n', 'Embora nunca freqüentemente seja melhor que já.\\n', 'Se a implementação é difícil de explicar, é uma má idéia.\\n', 'Se a implementação é fácil de explicar, pode ser uma boa idéia.\\n', 'Namespaces são uma grande idéia — vamos ter mais dessas!']\n"
     ]
    }
   ],
   "source": [
    "arquivo2 = open('arquivo.txt')\n",
    "print(arquivo2.readlines())#Lê o arquivo inteiro\n",
    "arquivo2.close()"
   ]
  },
  {
   "cell_type": "code",
   "execution_count": 39,
   "metadata": {},
   "outputs": [
    {
     "name": "stdout",
     "output_type": "stream",
     "text": [
      "O Zen do Python, por Tim Peters\n",
      "\n",
      "Bonito é melhor que feio.\n",
      "\n",
      "Explícito é melhor que implícito.\n",
      "\n",
      "Simples é melhor que complexo.\n",
      "\n",
      "Complexo é melhor que complicado.\n",
      "\n",
      "Linear é melhor do que aninhado.\n",
      "\n",
      "Esparso é melhor que denso.\n",
      "\n",
      "Legibilidade conta.\n",
      "\n",
      "Casos especiais não são especiais o bastante para quebrar as regras.\n",
      "\n",
      "Ainda que praticidade vença a pureza.\n",
      "\n",
      "Erros nunca devem passar silenciosamente.\n",
      "\n",
      "A menos que sejam explicitamente silenciados.\n",
      "\n",
      "Diante da ambigüidade, recuse a tentação de adivinhar.\n",
      "\n",
      "Deveria haver um — e preferencialmente só um — modo óbvio para fazer algo.\n",
      "\n",
      "Embora esse modo possa não ser óbvio a princípio a menos que você seja holandês.\n",
      "\n",
      "Agora é melhor que nunca.\n",
      "\n",
      "Embora nunca freqüentemente seja melhor que já.\n",
      "\n",
      "Se a implementação é difícil de explicar, é uma má idéia.\n",
      "\n",
      "Se a implementação é fácil de explicar, pode ser uma boa idéia.\n",
      "\n",
      "Namespaces são uma grande idéia — vamos ter mais dessas!\n"
     ]
    }
   ],
   "source": [
    "arquivo3 = open('arquivo.txt')#abre\n",
    "\n",
    "for cada_linha in arquivo3:#processa\n",
    "    print(cada_linha)#processa\n",
    "arquivo3.close()#fecha"
   ]
  },
  {
   "cell_type": "code",
   "execution_count": 4,
   "metadata": {},
   "outputs": [
    {
     "name": "stdout",
     "output_type": "stream",
     "text": [
      "O Zen do Python, por Tim Peters\n",
      "\n",
      "Bonito é mais bom que feio.\n",
      "\n",
      "Explícito é mais bom que implícito.\n",
      "\n",
      "Simples é mais bom que complexo.\n",
      "\n",
      "Complexo é mais bom que complicado.\n",
      "\n",
      "Linear é mais bom do que aninhado.\n",
      "\n",
      "Esparso é mais bom que denso.\n",
      "\n",
      "Legibilidade conta.\n",
      "\n",
      "Casos especiais não são especiais o bastante para quebrar as regras.\n",
      "\n",
      "Ainda que praticidade vença a pureza.\n",
      "\n",
      "Erros nunca devem passar silenciosamente.\n",
      "\n",
      "A menos que sejam explicitamente silenciados.\n",
      "\n",
      "Diante da ambigüidade, recuse a tentação de adivinhar.\n",
      "\n",
      "Deveria haver um — e preferencialmente só um — modo óbvio para fazer algo.\n",
      "\n",
      "Embora esse modo possa não ser óbvio a princípio a menos que você seja holandês.\n",
      "\n",
      "Agora é mais bom que nunca.\n",
      "\n",
      "Embora nunca freqüentemente seja mais bom que já.\n",
      "\n",
      "Se a implementação é difícil de explicar, é uma má idéia.\n",
      "\n",
      "Se a implementação é fácil de explicar, pode ser uma boa idéia.\n",
      "\n",
      "Namespaces são uma grande idéia — vamos ter mais dessas!\n"
     ]
    }
   ],
   "source": [
    "\"\"\"Como o python lê linha por linha, podemos usar isto a nosso favor:\"\"\"\n",
    "arquivo4 = open('arquivo.txt')\n",
    "for cada_linha in arquivo4:\n",
    "    print(cada_linha.replace('melhor', 'mais bom', 2))#('original', 'nova', n.de vezes)\n",
    "arquivo4.close()"
   ]
  },
  {
   "cell_type": "code",
   "execution_count": 6,
   "metadata": {},
   "outputs": [
    {
     "name": "stdout",
     "output_type": "stream",
     "text": [
      "O Zen do Python, por Tim Peters\n",
      "\n",
      "Bonito é melhor que feio.\n",
      "\n",
      "Explícito é melhor que implícito.\n",
      "\n",
      "Simples é melhor que complexo.\n",
      "\n",
      "Complexo é melhor que complicado.\n",
      "\n",
      "Linear é melhor do que aninhado.\n",
      "\n",
      "Esparso é melhor que denso.\n",
      "\n",
      "Legibilidade conta.\n",
      "\n",
      "Casos especiais não são especiais o bastante para quebrar as regras.\n",
      "\n",
      "Ainda que praticidade vença a pureza.\n",
      "\n",
      "Erros nunca devem passar silenciosamente.\n",
      "\n",
      "A menos que sejam explicitamente silenciados.\n",
      "\n",
      "Diante da ambigüidade, recuse a tentação de adivinhar.\n",
      "\n",
      "Deveria haver um — e preferencialmente só um — modo óbvio para fazer algo.\n",
      "\n",
      "Embora esse modo possa não ser óbvio a princípio a menos que você seja holandês.\n",
      "\n",
      "Agora é melhor que nunca.\n",
      "\n",
      "Embora nunca freqüentemente seja melhor que já.\n",
      "\n",
      "Se a implementação é difícil de explicar, é uma má idéia.\n",
      "\n",
      "Se a implementação é fácil de explicar, pode ser uma boa idéia.\n",
      "\n",
      "Namespaces são uma grande idéia — vamos ter mais dessas!\n"
     ]
    }
   ],
   "source": [
    "\"\"\"O método replace é mais um método, existem vários outros, para cada função especifíca,\n",
    "vale a pena saber mais sobre eles.\"\"\"\n",
    "arquivo5 = open('arquivo.txt')\n",
    "for cada_linha in arquivo5:\n",
    "    print(cada_linha.replace('carne', 'vegetal', 2))\n",
    "\"\"\"O python não acusa erro, mesmo que estas strings não existam no texto.\"\"\"\n",
    "arquivo5.close()\n"
   ]
  },
  {
   "cell_type": "code",
   "execution_count": 10,
   "metadata": {},
   "outputs": [
    {
     "name": "stdout",
     "output_type": "stream",
     "text": [
      "1\n",
      "2\n",
      "O Zen do Python, por Tim Peters\n",
      "\n",
      "Bonito é melhor que feio.\n",
      "\n",
      "Explícito é melhor que implícito.\n",
      "\n",
      "Simples é melhor que complexo.\n",
      "\n",
      "Complexo é melhor que complicado.\n",
      "\n",
      "Linear é melhor do que aninhado.\n",
      "\n",
      "Esparso é melhor que denso.\n",
      "\n",
      "Legibilidade conta.\n",
      "\n",
      "Casos especiais não são especiais o bastante para quebrar as regras.\n",
      "\n",
      "Ainda que praticidade vença a pureza.\n",
      "\n",
      "Erros nunca devem passar silenciosamente.\n",
      "\n",
      "A menos que sejam explicitamente silenciados.\n",
      "\n",
      "Diante da ambigüidade, recuse a tentação de adivinhar.\n",
      "\n",
      "Deveria haver um — e preferencialmente só um — modo óbvio para fazer algo.\n",
      "\n",
      "Embora esse modo possa não ser óbvio a princípio a menos que você seja holandês.\n",
      "\n",
      "Agora é melhor que nunca.\n",
      "\n",
      "Embora nunca freqüentemente seja melhor que já.\n",
      "\n",
      "Se a implementação é difícil de explicar, é uma má idéia.\n",
      "\n",
      "Se a implementação é fácil de explicar, pode ser uma boa idéia.\n",
      "\n",
      "Namespaces são uma grande idéia — vamos ter mais dessas!\n"
     ]
    }
   ],
   "source": [
    "\"\"\"Legal, então vamos criar uma função onde devemos fornecer(input) as mudanças\n",
    "que queremos fazer, as palavras a serem trocadas.\"\"\"\n",
    "\n",
    "def troca(primeiro, segundo):\n",
    "    arquivo5 = open('arquivo.txt')\n",
    "    for cada_linha in arquivo5:\n",
    "        print(cada_linha.replace(primeiro, segundo, 2))\n",
    "    arquivo5.close()\n",
    "\n",
    "input1 = input()\n",
    "input2 = input()\n",
    "troca(input1, input2)\n",
    "\n",
    "\"\"\"Caso de função onde a possibilidade de erros não parece evidente, já que o \n",
    "método substitui as palavras apenas se elas existirem.\"\"\""
   ]
  },
  {
   "cell_type": "code",
   "execution_count": 15,
   "metadata": {},
   "outputs": [
    {
     "name": "stdout",
     "output_type": "stream",
     "text": [
      "arquivo.txt\n",
      "Python\n",
      "Django\n",
      "O Zen do Django, por Tim Peters\n",
      "\n",
      "Bonito é melhor que feio.\n",
      "\n",
      "Explícito é melhor que implícito.\n",
      "\n",
      "Simples é melhor que complexo.\n",
      "\n",
      "Complexo é melhor que complicado.\n",
      "\n",
      "Linear é melhor do que aninhado.\n",
      "\n",
      "Esparso é melhor que denso.\n",
      "\n",
      "Legibilidade conta.\n",
      "\n",
      "Casos especiais não são especiais o bastante para quebrar as regras.\n",
      "\n",
      "Ainda que praticidade vença a pureza.\n",
      "\n",
      "Erros nunca devem passar silenciosamente.\n",
      "\n",
      "A menos que sejam explicitamente silenciados.\n",
      "\n",
      "Diante da ambigüidade, recuse a tentação de adivinhar.\n",
      "\n",
      "Deveria haver um — e preferencialmente só um — modo óbvio para fazer algo.\n",
      "\n",
      "Embora esse modo possa não ser óbvio a princípio a menos que você seja holandês.\n",
      "\n",
      "Agora é melhor que nunca.\n",
      "\n",
      "Embora nunca freqüentemente seja melhor que já.\n",
      "\n",
      "Se a implementação é difícil de explicar, é uma má idéia.\n",
      "\n",
      "Se a implementação é fácil de explicar, pode ser uma boa idéia.\n",
      "\n",
      "Namespaces são uma grande idéia — vamos ter mais dessas!\n"
     ]
    }
   ],
   "source": [
    "\"\"\"Agora queremos passar como variável, também o nome do arquivo.\"\"\"\n",
    "def troca2(nome, primeiro, segundo):\n",
    "    arquivo6 = open(nome)\n",
    "    for cada_linha in arquivo6:\n",
    "        print(cada_linha.replace(primeiro, segundo, 2))\n",
    "    arquivo5.close()\n",
    "\n",
    "input0 = input()    \n",
    "input1 = input()\n",
    "input2 = input()\n",
    "troca2(input0, input1, input2)#repara que estou obdecendo a ordem dos argumentos"
   ]
  },
  {
   "cell_type": "code",
   "execution_count": null,
   "metadata": {},
   "outputs": [],
   "source": [
    "\"\"\"Perceba que esta nossa nova função é passível de pelo menos um erro evidente: não\n",
    "encontrar o arquivo\"\"\""
   ]
  },
  {
   "cell_type": "code",
   "execution_count": 9,
   "metadata": {
    "scrolled": true
   },
   "outputs": [
    {
     "name": "stdout",
     "output_type": "stream",
     "text": [
      "arquivo\n",
      "Python\n",
      "Django\n"
     ]
    },
    {
     "ename": "FileNotFoundError",
     "evalue": "[Errno 2] No such file or directory: 'arquivo'",
     "output_type": "error",
     "traceback": [
      "\u001b[0;31m---------------------------------------------------------------------------\u001b[0m",
      "\u001b[0;31mFileNotFoundError\u001b[0m                         Traceback (most recent call last)",
      "\u001b[0;32m<ipython-input-9-f8996a40c570>\u001b[0m in \u001b[0;36m<module>\u001b[0;34m()\u001b[0m\n\u001b[1;32m      8\u001b[0m \u001b[0minput1\u001b[0m \u001b[0;34m=\u001b[0m \u001b[0minput\u001b[0m\u001b[0;34m(\u001b[0m\u001b[0;34m)\u001b[0m\u001b[0;34m\u001b[0m\u001b[0m\n\u001b[1;32m      9\u001b[0m \u001b[0minput2\u001b[0m \u001b[0;34m=\u001b[0m \u001b[0minput\u001b[0m\u001b[0;34m(\u001b[0m\u001b[0;34m)\u001b[0m\u001b[0;34m\u001b[0m\u001b[0m\n\u001b[0;32m---> 10\u001b[0;31m \u001b[0mtroca2\u001b[0m\u001b[0;34m(\u001b[0m\u001b[0minput0\u001b[0m\u001b[0;34m,\u001b[0m \u001b[0minput1\u001b[0m\u001b[0;34m,\u001b[0m \u001b[0minput2\u001b[0m\u001b[0;34m)\u001b[0m\u001b[0;34m\u001b[0m\u001b[0m\n\u001b[0m",
      "\u001b[0;32m<ipython-input-9-f8996a40c570>\u001b[0m in \u001b[0;36mtroca2\u001b[0;34m(nome, primeiro, segundo)\u001b[0m\n\u001b[1;32m      1\u001b[0m \u001b[0;32mdef\u001b[0m \u001b[0mtroca2\u001b[0m\u001b[0;34m(\u001b[0m\u001b[0mnome\u001b[0m\u001b[0;34m,\u001b[0m \u001b[0mprimeiro\u001b[0m\u001b[0;34m,\u001b[0m \u001b[0msegundo\u001b[0m\u001b[0;34m)\u001b[0m\u001b[0;34m:\u001b[0m\u001b[0;34m\u001b[0m\u001b[0m\n\u001b[0;32m----> 2\u001b[0;31m     \u001b[0marquivo6\u001b[0m \u001b[0;34m=\u001b[0m \u001b[0mopen\u001b[0m\u001b[0;34m(\u001b[0m\u001b[0mnome\u001b[0m\u001b[0;34m)\u001b[0m\u001b[0;34m\u001b[0m\u001b[0m\n\u001b[0m\u001b[1;32m      3\u001b[0m     \u001b[0;32mfor\u001b[0m \u001b[0mcada_linha\u001b[0m \u001b[0;32min\u001b[0m \u001b[0marquivo6\u001b[0m\u001b[0;34m:\u001b[0m\u001b[0;34m\u001b[0m\u001b[0m\n\u001b[1;32m      4\u001b[0m         \u001b[0mprint\u001b[0m\u001b[0;34m(\u001b[0m\u001b[0mcada_linha\u001b[0m\u001b[0;34m.\u001b[0m\u001b[0mreplace\u001b[0m\u001b[0;34m(\u001b[0m\u001b[0mprimeiro\u001b[0m\u001b[0;34m,\u001b[0m \u001b[0msegundo\u001b[0m\u001b[0;34m,\u001b[0m \u001b[0;36m2\u001b[0m\u001b[0;34m)\u001b[0m\u001b[0;34m)\u001b[0m\u001b[0;34m\u001b[0m\u001b[0m\n\u001b[1;32m      5\u001b[0m     \u001b[0marquivo6\u001b[0m\u001b[0;34m.\u001b[0m\u001b[0mclose\u001b[0m\u001b[0;34m(\u001b[0m\u001b[0;34m)\u001b[0m\u001b[0;34m\u001b[0m\u001b[0m\n",
      "\u001b[0;31mFileNotFoundError\u001b[0m: [Errno 2] No such file or directory: 'arquivo'"
     ]
    }
   ],
   "source": [
    "def troca2(nome, primeiro, segundo):\n",
    "    arquivo6 = open(nome)\n",
    "    for cada_linha in arquivo6:\n",
    "        print(cada_linha.replace(primeiro, segundo, 2))\n",
    "    arquivo6.close()\n",
    "\n",
    "input0 = input()    \n",
    "input1 = input()\n",
    "input2 = input()\n",
    "troca2(input0, input1, input2)"
   ]
  },
  {
   "cell_type": "code",
   "execution_count": 10,
   "metadata": {},
   "outputs": [
    {
     "name": "stdout",
     "output_type": "stream",
     "text": [
      "arquivo\n",
      "Python\n",
      "Django\n",
      "Arquivo não encontrado!\n"
     ]
    }
   ],
   "source": [
    "\"\"\"A maneira mais fácil de resolver este problema.\"\"\"\n",
    "def troca3(nome, primeiro, segundo):\n",
    "    try:\n",
    "        arquivo6 = open(nome)\n",
    "        for cada_linha in arquivo6:\n",
    "            print(cada_linha.replace(primeiro, segundo, 2))\n",
    "        arquivo6.close()\n",
    "    except:\n",
    "        print('Arquivo não encontrado!')\n",
    "\n",
    "input0 = input()    \n",
    "input1 = input()\n",
    "input2 = input()\n",
    "troca3(input0, input1, input2)"
   ]
  },
  {
   "cell_type": "code",
   "execution_count": 8,
   "metadata": {},
   "outputs": [
    {
     "name": "stdout",
     "output_type": "stream",
     "text": [
      "Informe o nome do arquivo:file.txt\n",
      "A palavra a ser substituída:melhor\n",
      "A nova palavra:mais bom\n",
      "Arquivo não encontrado!\n",
      "Informe o nome do arquivo:arquivo\n",
      "A palavra a ser substituída:melhor\n",
      "A nova palavra:mais bom\n",
      "Arquivo não encontrado!\n",
      "Informe o nome do arquivo:arquivo.txt\n",
      "A palavra a ser substituída:melhor\n",
      "A nova palavra:mais bom\n",
      "O Zen do Python, por Tim Peters\n",
      "\n",
      "Bonito é mais bom que feio.\n",
      "\n",
      "Explícito é mais bom que implícito.\n",
      "\n",
      "Simples é mais bom que complexo.\n",
      "\n",
      "Complexo é mais bom que complicado.\n",
      "\n",
      "Linear é mais bom do que aninhado.\n",
      "\n",
      "Esparso é mais bom que denso.\n",
      "\n",
      "Legibilidade conta.\n",
      "\n",
      "Casos especiais não são especiais o bastante para quebrar as regras.\n",
      "\n",
      "Ainda que praticidade vença a pureza.\n",
      "\n",
      "Erros nunca devem passar silenciosamente.\n",
      "\n",
      "A menos que sejam explicitamente silenciados.\n",
      "\n",
      "Diante da ambigüidade, recuse a tentação de adivinhar.\n",
      "\n",
      "Deveria haver um — e preferencialmente só um — modo óbvio para fazer algo.\n",
      "\n",
      "Embora esse modo possa não ser óbvio a princípio a menos que você seja holandês.\n",
      "\n",
      "Agora é mais bom que nunca.\n",
      "\n",
      "Embora nunca freqüentemente seja mais bom que já.\n",
      "\n",
      "Se a implementação é difícil de explicar, é uma má idéia.\n",
      "\n",
      "Se a implementação é fácil de explicar, pode ser uma boa idéia.\n",
      "\n",
      "Namespaces são uma grande idéia — vamos ter mais dessas!\n"
     ]
    }
   ],
   "source": [
    "\"\"\"Veja, no entanto, que este código apenas retorna o aviso de que o arquivo\n",
    "não foi encontrado, fechando o programa em seguida. Mas nós podemos fazê-lo\n",
    "repetir isso.\"\"\"\n",
    "def troca3():\n",
    "    nome = input('Informe o nome do arquivo:')    \n",
    "    primeiro = input('A palavra a ser substituída:')\n",
    "    segundo = input('A nova palavra:')\n",
    "    try:\n",
    "        arquivo6 = open(nome)\n",
    "        for cada_linha in arquivo6:\n",
    "            print(cada_linha.replace(primeiro, segundo, 2))\n",
    "        arquivo6.close()\n",
    "    except:\n",
    "        print('Arquivo não encontrado!')\n",
    "        troca3()\n",
    "        \n",
    "troca3()"
   ]
  },
  {
   "cell_type": "code",
   "execution_count": null,
   "metadata": {},
   "outputs": [],
   "source": [
    "\"\"\"Esta é, no geral, e pelo menos me pareceu, a maneira mais simples de resolver o\n",
    "problema, usando try except. No entanto, a partir deste princípio, pode-se \n",
    "criar condições comuns usando if para se obter o mesmo resultado.\"\"\""
   ]
  },
  {
   "cell_type": "code",
   "execution_count": 2,
   "metadata": {},
   "outputs": [
    {
     "name": "stdout",
     "output_type": "stream",
     "text": [
      "Informe o nome do arquivo:arquivo2.txt\n",
      "A palavra a ser substituída:Bonito\n",
      "A nova palavra:Lindo\n",
      "O Zen do Python, por Tim Peters\n",
      "\n",
      "Lindo é melhor que feio.\n",
      "\n",
      "Explícito é melhor que implícito.\n",
      "\n",
      "Simples é melhor que complexo.\n",
      "\n",
      "Complexo é melhor que complicado.\n",
      "\n",
      "Linear é melhor do que aninhado.\n",
      "\n",
      "Esparso é melhor que denso.\n",
      "Este cara sempre vai ser executado, havendo erros ou não!\n"
     ]
    }
   ],
   "source": [
    "\"\"\"Há ainda outro carinha interessante nesta parada:\"\"\"\n",
    "def troca3():\n",
    "    nome = input('Informe o nome do arquivo:')    \n",
    "    primeiro = input('A palavra a ser substituída:')\n",
    "    segundo = input('A nova palavra:')\n",
    "    try:\n",
    "        arquivo6 = open(nome)\n",
    "        for cada_linha in arquivo6:\n",
    "            print(cada_linha.replace(primeiro, segundo, 2))\n",
    "        arquivo6.close()\n",
    "    except:\n",
    "        print('Arquivo não encontrado!')\n",
    "        troca3()\n",
    "    finally:#quando deseja alguma ação sempre deve ser executada\n",
    "        print('Este cara sempre vai ser executado, havendo erros ou não!')\n",
    "\n",
    "troca3()\n",
    "\"\"\"Abrindo um texto menor agora.\"\"\""
   ]
  },
  {
   "cell_type": "code",
   "execution_count": null,
   "metadata": {},
   "outputs": [],
   "source": [
    "\"\"\"O except lhe permite especificar os erros. Então você pode ter:\n",
    "    except NameError\n",
    "    except ValueError\n",
    "    except IOError\n",
    "    except TypeError\n",
    "Criando assim uma condição específica para cada erro. Havendo apenas o except, trata-se\n",
    "do caso mais genérico, ou seja, ele vai recusar qualquer erro.\"\"\"\n",
    "\"\"\"E outros. Vale a pena entender sobre eles.\n",
    "https://docs.python.org/3/tutorial/errors.html\"\"\""
   ]
  },
  {
   "cell_type": "code",
   "execution_count": 4,
   "metadata": {},
   "outputs": [
    {
     "name": "stdout",
     "output_type": "stream",
     "text": [
      "Informe o nome do arquivo:arquivo2.txr\n",
      "A palavra a ser substituída:Python\n",
      "A nova palavra:linguagem maravilhosa\n",
      "Não foi possível encontrar o arquivo: arquivo2.txr\n",
      "Informe o nome do arquivo:arquivo2.txt\n",
      "A palavra a ser substituída:Python\n",
      "A nova palavra:linguagem maravilhosa\n",
      "O Zen do linguagem maravilhosa, por Tim Peters\n",
      "\n",
      "Bonito é melhor que feio.\n",
      "\n",
      "Explícito é melhor que implícito.\n",
      "\n",
      "Simples é melhor que complexo.\n",
      "\n",
      "Complexo é melhor que complicado.\n",
      "\n",
      "Linear é melhor do que aninhado.\n",
      "\n",
      "Esparso é melhor que denso.\n"
     ]
    },
    {
     "data": {
      "text/plain": [
       "'Assim cobrimo o tipo de erros que podem ocorrer. Caso você perceba um novo erro,\\ndeve acrescentar alguma condição no programa.'"
      ]
     },
     "execution_count": 4,
     "metadata": {},
     "output_type": "execute_result"
    }
   ],
   "source": [
    "def troca3():\n",
    "    nome = input('Informe o nome do arquivo:')    \n",
    "    primeiro = input('A palavra a ser substituída:')\n",
    "    segundo = input('A nova palavra:')\n",
    "    try:\n",
    "        arquivo6 = open(nome)\n",
    "        for cada_linha in arquivo6:\n",
    "            print(cada_linha.replace(primeiro, segundo, 2))\n",
    "        arquivo6.close()\n",
    "    except IOError:\n",
    "        print('Não foi possível encontrar o arquivo:', nome)\n",
    "        troca3()\n",
    "    \"\"\"except ValueError:\n",
    "        print('Texto não possui:', primeiro)\n",
    "        troca3() esta excessão sempre irá ocorrer, pois o python lê linha\n",
    "        por linha do arquivo.\"\"\"\n",
    "        \n",
    "troca3()\n",
    "\"\"\"Assim cobrimos os tipos de erros que podem ocorrer. Caso você perceba um novo erro,\n",
    "deve acrescentar alguma condição no programa.\"\"\""
   ]
  },
  {
   "cell_type": "code",
   "execution_count": null,
   "metadata": {},
   "outputs": [],
   "source": [
    "\"\"\"Acrescentar estas condições de erro só fazem sentido quando os erros que podem \n",
    "ocorrer já são conhecidos. Ou seja, o programa já está terminado!\"\"\""
   ]
  }
 ],
 "metadata": {
  "kernelspec": {
   "display_name": "Python 3",
   "language": "python",
   "name": "python3"
  }
 },
 "nbformat": 4,
 "nbformat_minor": 2
}
