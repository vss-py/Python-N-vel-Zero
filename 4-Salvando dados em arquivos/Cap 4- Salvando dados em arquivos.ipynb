{
 "cells": [
  {
   "cell_type": "markdown",
   "metadata": {},
   "source": [
    "### Seguindo, novamente, o comportamento: abre-processa-fecha, com os dados, geralmente esse processamento deve gerar um arquivo novo, e nós podemos fazer isso facilmente com o Python."
   ]
  },
  {
   "cell_type": "code",
   "execution_count": null,
   "metadata": {},
   "outputs": [],
   "source": [
    "\"\"\"Então o que faremos de diferente é que ao invés de o python exibir somente na \n",
    "tela enquanto o interpretador estiver aberto, ele deve gerar um novo arquivo.\"\"\""
   ]
  },
  {
   "cell_type": "code",
   "execution_count": 5,
   "metadata": {
    "scrolled": true
   },
   "outputs": [
    {
     "name": "stdout",
     "output_type": "stream",
     "text": [
      "Nome do arquivo a ser criado:novo.txt\n",
      "insira o valor: um texto novo aqui\n"
     ]
    },
    {
     "data": {
      "text/plain": [
       "\"O uso do 'a' faz com que abra para escrita, inserindo no final do texto existente. Se o \\narquivo não exister, ele será criado. O uso de w, escreverá em cima do arquivo, caso\\nele exista, criando um novo arquivo caso este não exista.\""
      ]
     },
     "execution_count": 5,
     "metadata": {},
     "output_type": "execute_result"
    }
   ],
   "source": [
    "\"\"\"Em um primeiro momento, vamos criar um arquivo\"\"\"\n",
    "arquivo2 = open(input('Nome do arquivo a ser criado:'), 'a')\n",
    "texto = []\n",
    "texto.append(input('insira o valor: '))\n",
    "arquivo2.writelines(texto)\n",
    "arquivo2.close()\n",
    "\"\"\"Abrir o arquivo gerado para conferir o texto!\"\"\"\n",
    "\"\"\"O uso do 'a' faz com que abra para escrita, inserindo no final do texto existente. Se o \n",
    "arquivo não exister, ele será criado. O uso de w, escreverá em cima do arquivo, caso\n",
    "ele exista, criando um novo arquivo caso este não exista.\"\"\""
   ]
  },
  {
   "cell_type": "code",
   "execution_count": 6,
   "metadata": {},
   "outputs": [
    {
     "data": {
      "text/plain": [
       "['.ipynb_checkpoints', 'Cap 4- Salvando dados em arquivos.ipynb', 'novo.txt']"
      ]
     },
     "execution_count": 6,
     "metadata": {},
     "output_type": "execute_result"
    }
   ],
   "source": [
    "import os#biblioteca padrão do sistema\n",
    "os.listdir()#usando a biblioteca os para listar o conteúdo do diretório, na forma de lista"
   ]
  },
  {
   "cell_type": "code",
   "execution_count": 7,
   "metadata": {},
   "outputs": [
    {
     "name": "stdout",
     "output_type": "stream",
     "text": [
      "Informe o nome do arquivo:showzera\n",
      "Insira uma palavra pra acrescentar ao arquivo:vou curtir muito\n",
      "Outra palavra:mas muito mesmo\n"
     ]
    },
    {
     "data": {
      "text/plain": [
       "\"o uso do a+ nos permite ler e 'atualizar' o arquivo, mas, olha lá\\ncomo o texto ficou... \""
      ]
     },
     "execution_count": 7,
     "metadata": {},
     "output_type": "execute_result"
    }
   ],
   "source": [
    "nome = input('Informe o nome do arquivo:')    \n",
    "primeiro = input('Insira uma palavra pra acrescentar ao arquivo:')\n",
    "segundo = input('Outra palavra:')\n",
    "arquivo6 = open(nome, 'a')\n",
    "new = []\n",
    "new.append(primeiro + segundo)\n",
    "arquivo6.writelines(new)\n",
    "arquivo6.close()        \n",
    "\n"
   ]
  },
  {
   "cell_type": "code",
   "execution_count": 3,
   "metadata": {
    "scrolled": true
   },
   "outputs": [
    {
     "name": "stdout",
     "output_type": "stream",
     "text": [
      "Nome do arquivo a ser editado:showzera\n",
      "insira o valorgol\n"
     ]
    }
   ],
   "source": [
    "\"\"\"Assim eu apenas escrevo no arquivo existente\"\"\"\n",
    "arquivo = open(input('Nome do arquivo a ser editado:'), 'r+')\n",
    "texto = arquivo.readlines()\n",
    "texto.append(input('insira o valor'))\n",
    "arquivo.writelines(texto)\n",
    "arquivo.close()"
   ]
  },
  {
   "cell_type": "code",
   "execution_count": 4,
   "metadata": {},
   "outputs": [
    {
     "name": "stdout",
     "output_type": "stream",
     "text": [
      "Nome do arquivo a ser criado:showzera\n",
      "insira o valornovo\n"
     ]
    }
   ],
   "source": [
    "\"\"\"E assim eu crio um novo arquivo e escrevo nele. Se o arquivo já existir, ele será\n",
    "substituído.\"\"\"\n",
    "arquivo2 = open(input('Nome do arquivo a ser criado:'), 'w+')\n",
    "texto = []\n",
    "texto = arquivo2.readlines()\n",
    "texto.append(input('insira o valor'))\n",
    "arquivo2.writelines(texto)\n",
    "arquivo2.close()"
   ]
  },
  {
   "cell_type": "code",
   "execution_count": null,
   "metadata": {},
   "outputs": [],
   "source": [
    "\"\"\"O sinal de +, nos garante o seguinte, segundo a documentação:\n",
    "    open a disk file for updating (reading and writing)\"\"\""
   ]
  },
  {
   "cell_type": "code",
   "execution_count": 2,
   "metadata": {},
   "outputs": [
    {
     "name": "stdout",
     "output_type": "stream",
     "text": [
      "Nome do arquivo que deseja editar:novo.txt\n",
      "Insira um valor a ser inserido no arquivo:aaah mlk2\n"
     ]
    },
    {
     "data": {
      "text/plain": [
       "'Podemos deixar isso melhor, caso o arquivo a ser editado não exista.'"
      ]
     },
     "execution_count": 2,
     "metadata": {},
     "output_type": "execute_result"
    }
   ],
   "source": [
    "def edita():\n",
    "    try:\n",
    "        arquivo = open(input(\"Nome do arquivo que deseja editar:\"), 'r+')\n",
    "        texto = []\n",
    "        texto = arquivo.readlines()\n",
    "        texto.append(input('Insira um valor a ser inserido no arquivo:'))\n",
    "        arquivo.writelines(texto)\n",
    "        arquivo.close()\n",
    "    except:\n",
    "        print('Arquivo inexistente, por favor informe outro nome')\n",
    "        edita()\n",
    "edita()\n",
    "\"\"\"Podemos deixar isso melhor, caso o arquivo a ser editado não exista.\"\"\""
   ]
  },
  {
   "cell_type": "code",
   "execution_count": 2,
   "metadata": {},
   "outputs": [
    {
     "name": "stdout",
     "output_type": "stream",
     "text": [
      "Nome do arquivo que deseja editar: mozi.txt\n",
      "Arquivo inexistente, ele será criado!\n",
      "Insira um valor a ser inserido no arquivo:mooooozi gay\n"
     ]
    }
   ],
   "source": [
    "def novo_edita():\n",
    "    try:\n",
    "        nome = input('Nome do arquivo que deseja editar: ')\n",
    "        arquivo = open(nome,'r+')\n",
    "        texto = []\n",
    "        texto = arquivo.readlines()\n",
    "        texto.append(input('Insira um valor a ser inserido no arquivo:'))\n",
    "        arquivo.writelines(texto)\n",
    "        arquivo.close()\n",
    "    except FileNotFoundError:\n",
    "        print('Arquivo inexistente, ele será criado!')\n",
    "        arquivo = open(nome,'w+')\n",
    "        texto = []\n",
    "        texto.append(input('Insira um valor a ser inserido no arquivo:'))\n",
    "        arquivo.writelines(texto)\n",
    "        arquivo.close()\n",
    "\n",
    "novo_edita()\n"
   ]
  },
  {
   "cell_type": "code",
   "execution_count": null,
   "metadata": {},
   "outputs": [],
   "source": []
  }
 ],
 "metadata": {
  "kernelspec": {
   "display_name": "Python 3",
   "language": "python",
   "name": "python3"
  },
  "language_info": {
   "codemirror_mode": {
    "name": "ipython",
    "version": 3
   },
   "file_extension": ".py",
   "mimetype": "text/x-python",
   "name": "python",
   "nbconvert_exporter": "python",
   "pygments_lexer": "ipython3",
   "version": "3.6.5"
  }
 },
 "nbformat": 4,
 "nbformat_minor": 2
}
