{
 "cells": [
  {
   "cell_type": "markdown",
   "metadata": {},
   "source": [
    "## Todos Amam Listas"
   ]
  },
  {
   "cell_type": "code",
   "execution_count": null,
   "metadata": {},
   "outputs": [],
   "source": [
    "\"\"\"Crie listas simples no Python\"\"\"\n",
    "filmes = [\"The Hole Grail\", \"The Life of Brian\", \"The Meaning of Life\"]\n",
    "\n",
    "#1:Converta cada um dos nomes em strings, colocando os dados entre aspas;\n",
    "#2:Separe cada um dos itens da lista do próximo, com uma vírgula;\n",
    "#3:Coloque os itens da lista entre colchetes de abertura e fechamento;\n",
    "#4:Atribua a lista um identificador(no caso, filmes), utilizando o operador de \n",
    "#atribuição(=)"
   ]
  },
  {
   "cell_type": "code",
   "execution_count": 7,
   "metadata": {},
   "outputs": [
    {
     "name": "stdout",
     "output_type": "stream",
     "text": [
      "The Hole Grail\n",
      "The Life of Brian\n",
      "The Meaning of Life\n"
     ]
    },
    {
     "ename": "IndexError",
     "evalue": "list index out of range",
     "output_type": "error",
     "traceback": [
      "\u001b[0;31m---------------------------------------------------------------------------\u001b[0m",
      "\u001b[0;31mIndexError\u001b[0m                                Traceback (most recent call last)",
      "\u001b[0;32m<ipython-input-7-0ab29eae0c97>\u001b[0m in \u001b[0;36m<module>\u001b[0;34m()\u001b[0m\n\u001b[1;32m      3\u001b[0m \u001b[0mprint\u001b[0m\u001b[0;34m(\u001b[0m\u001b[0mfilmes\u001b[0m\u001b[0;34m[\u001b[0m\u001b[0;36m1\u001b[0m\u001b[0;34m]\u001b[0m\u001b[0;34m)\u001b[0m\u001b[0;34m\u001b[0m\u001b[0m\n\u001b[1;32m      4\u001b[0m \u001b[0mprint\u001b[0m\u001b[0;34m(\u001b[0m\u001b[0mfilmes\u001b[0m\u001b[0;34m[\u001b[0m\u001b[0;36m2\u001b[0m\u001b[0;34m]\u001b[0m\u001b[0;34m)\u001b[0m\u001b[0;34m\u001b[0m\u001b[0m\n\u001b[0;32m----> 5\u001b[0;31m \u001b[0mprint\u001b[0m\u001b[0;34m(\u001b[0m\u001b[0mfilmes\u001b[0m\u001b[0;34m[\u001b[0m\u001b[0;36m3\u001b[0m\u001b[0;34m]\u001b[0m\u001b[0;34m)\u001b[0m\u001b[0;31m#este cara não existe, o que resulta num IndexError\u001b[0m\u001b[0;34m\u001b[0m\u001b[0m\n\u001b[0m",
      "\u001b[0;31mIndexError\u001b[0m: list index out of range"
     ]
    }
   ],
   "source": [
    "\"\"\"Os dados da lista podem ser acessados utilizando a notação de colchetes\"\"\"\n",
    "print(filmes[0])\n",
    "print(filmes[1])\n",
    "print(filmes[2])\n",
    "print(filmes[3])#este cara não existe, o que resulta num IndexError"
   ]
  },
  {
   "cell_type": "code",
   "execution_count": null,
   "metadata": {},
   "outputs": [],
   "source": [
    "\"\"\"Exercícios\n",
    "1-Desenvolva o código Python solicitado para inserir os dados numéricos do ano na lista\n",
    "anterior, mudando a lista de modo que ela termine assim:\n",
    "['The Holy Grail', 1975, 'The Life of Brian', 1979, 'The Meaning of Life', 1983]\n",
    "2-Agora escreva o código Python necessário para recriar a lista com os dados necessários\n",
    "de uma só vez.\"\"\"\n",
    "\n"
   ]
  },
  {
   "cell_type": "code",
   "execution_count": 12,
   "metadata": {},
   "outputs": [
    {
     "name": "stdout",
     "output_type": "stream",
     "text": [
      "['The Hole Grail', '1975', 'The Life of Brian', '1979', 'The Meaning of Life', '1983']\n"
     ]
    }
   ],
   "source": [
    "#1\n",
    "filmes.insert(1, '1975')\n",
    "filmes.insert(3, '1979')\n",
    "filmes.insert(5, '1983')\n",
    "print(filmes)\n",
    "#uso do comando insert: lista.insert(index, conteudo_a_ser_inserido)"
   ]
  },
  {
   "cell_type": "code",
   "execution_count": 14,
   "metadata": {},
   "outputs": [
    {
     "name": "stdout",
     "output_type": "stream",
     "text": [
      "['The Hole Grail', '1975', 'The Life of Brian', '1979', 'The Meaning of Life', '1983']\n"
     ]
    }
   ],
   "source": [
    "#criei outra lista, simplesmente pra separar os exercícios\n",
    "filmes2 = [\"The Hole Grail\", \"The Life of Brian\", \"The Meaning of Life\"]\n",
    "#2, recriando a lista2\n",
    "filmes2 = ['The Hole Grail', '1975', 'The Life of Brian', '1979', 'The Meaning of Life', '1983']\n",
    "print(filmes2)\n"
   ]
  },
  {
   "cell_type": "code",
   "execution_count": 17,
   "metadata": {},
   "outputs": [
    {
     "name": "stdout",
     "output_type": "stream",
     "text": [
      "The Hole Grail\n",
      "The Life of Brian\n",
      "The Meaning of Life\n"
     ]
    },
    {
     "data": {
      "text/plain": [
       "'o nome do iterador cada_filme é arbitrário, só não pode ter sido usado anteriormente\\npara nomear qualquer coisa'"
      ]
     },
     "execution_count": 17,
     "metadata": {},
     "output_type": "execute_result"
    }
   ],
   "source": [
    "\"\"\"Usar iteração\n",
    "O uso do Loop for funciona com qualquer tamanho de Lista\"\"\"\n",
    "filmes = [\"The Hole Grail\", \"The Life of Brian\", \"The Meaning of Life\"]\n",
    "for cada_filme in filmes:\n",
    "    print(cada_filme)\n",
    "\"\"\"o nome do identificador cada_filme é arbitrário, só não pode ter sido usado anteriormente\n",
    "para nomear qualquer coisa\"\"\""
   ]
  },
  {
   "cell_type": "code",
   "execution_count": null,
   "metadata": {},
   "outputs": [],
   "source": [
    "\"\"\"for identificador in list:\n",
    "    código de função ou loop a ser executado\"\"\"\n",
    "#for- início do loop, e vem antes do identificador\n",
    "#in- separa o identificador da lista\n",
    "#':'- indica o início do código de processamento. Sempre deve ser seguido de identação,\n",
    "#ou seja, a linha de baixo deve ser iniciado com 4 espaços, que pode ser inserido \n",
    "#pela tecla tab"
   ]
  },
  {
   "cell_type": "code",
   "execution_count": 2,
   "metadata": {},
   "outputs": [
    {
     "name": "stdout",
     "output_type": "stream",
     "text": [
      "The Hole Grail\n",
      "The Life of Brian\n",
      "The Meaning of Life\n"
     ]
    }
   ],
   "source": [
    "\"\"\"O mesmo pode ser feito com o uso do laço(loop) while\"\"\"\n",
    "filmes = [\"The Hole Grail\", \"The Life of Brian\", \"The Meaning of Life\"]\n",
    "contador = 0\n",
    "while contador < len(filmes):\n",
    "    print(filmes[contador])\n",
    "    contador += 1#é a mesma coisa de contador = contador + 1"
   ]
  },
  {
   "cell_type": "code",
   "execution_count": 5,
   "metadata": {},
   "outputs": [
    {
     "name": "stdout",
     "output_type": "stream",
     "text": [
      "Eric Idle\n"
     ]
    }
   ],
   "source": [
    "\"\"\"Armazenando listas, dentro de listas\"\"\"\n",
    "filmes = ['The Holy Grail', 1975, 'Terry Jones & Terry Gilliam', 91, \n",
    "         ['Graham Champman',\n",
    "         ['Michael Palin', 'John Clease', 'Terry Gilliam', 'Eric Idle', 'TerryJones']]]\n",
    "print(filmes[4][1][3])\n",
    "\"\"\"selecionei um elemento dentro de uma lista, dentro de outra lista e dentro outra lista\"\"\""
   ]
  },
  {
   "cell_type": "code",
   "execution_count": 10,
   "metadata": {},
   "outputs": [
    {
     "name": "stdout",
     "output_type": "stream",
     "text": [
      "The Holy Grail\n",
      "1975\n",
      "Terry Jones & Terry Gilliam\n",
      "91\n",
      "['Graham Champman', ['Michael Palin', 'John Clease', 'Terry Gilliam', 'Eric Idle', 'TerryJones']]\n",
      "['Graham Champman', ['Michael Palin', 'John Clease', 'Terry Gilliam', 'Eric Idle', 'TerryJones']]\n"
     ]
    }
   ],
   "source": [
    "\"\"\"Mas para fazer o loop funcionar com listas que possuem listas, é necessário demonstrar\n",
    "que há outra lista, senão ele vai imprimir a lista, como um objeto inteiro.\"\"\"\n",
    "\n",
    "for cada_filme in filmes:\n",
    "    print(cada_filme)\n",
    "    \n",
    "print(filmes[4])#a lista inteira, ao invés de um filme"
   ]
  },
  {
   "cell_type": "code",
   "execution_count": 15,
   "metadata": {},
   "outputs": [
    {
     "data": {
      "text/plain": [
       "True"
      ]
     },
     "execution_count": 15,
     "metadata": {},
     "output_type": "execute_result"
    }
   ],
   "source": [
    "\"\"\"Deve-se verificar se o item(cada_filme) é outra lista.\n",
    "No python há a função isinstance(), para fazer isso:\"\"\"\n",
    "nomes = ['Suelen', 'Victor']\n",
    "isinstance(nomes, list)#pergunta se nomes é uma lista"
   ]
  },
  {
   "cell_type": "code",
   "execution_count": 16,
   "metadata": {},
   "outputs": [
    {
     "data": {
      "text/plain": [
       "False"
      ]
     },
     "execution_count": 16,
     "metadata": {},
     "output_type": "execute_result"
    }
   ],
   "source": [
    "tamanho_nomes = len(nomes)#o lem imprime o tamanho da lista, ou seja, a posição do último elemento\n",
    "isinstance(tamanho_nomes, list)#deve retornar falso"
   ]
  },
  {
   "cell_type": "code",
   "execution_count": 17,
   "metadata": {},
   "outputs": [
    {
     "data": {
      "text/plain": [
       "True"
      ]
     },
     "execution_count": 17,
     "metadata": {},
     "output_type": "execute_result"
    }
   ],
   "source": [
    "isinstance(tamanho_nomes, int)#pergunta se ele é um inteiro"
   ]
  },
  {
   "cell_type": "code",
   "execution_count": 19,
   "metadata": {},
   "outputs": [
    {
     "name": "stdout",
     "output_type": "stream",
     "text": [
      "2\n"
     ]
    }
   ],
   "source": [
    "\"\"\"Se a condição retorna verdadeira, imprima a variável, senão, não faça nada\"\"\"\n",
    "if isinstance(tamanho_nomes, int) == True:\n",
    "    print(tamanho_nomes)\n",
    "else:\n",
    "    pass"
   ]
  },
  {
   "cell_type": "code",
   "execution_count": 20,
   "metadata": {},
   "outputs": [
    {
     "name": "stdout",
     "output_type": "stream",
     "text": [
      "The Holy Grail\n",
      "1975\n",
      "Terry Jones & Terry Gilliam\n",
      "91\n",
      "['Graham Champman', ['Michael Palin', 'John Clease', 'Terry Gilliam', 'Eric Idle', 'TerryJones']]\n"
     ]
    }
   ],
   "source": [
    "\"\"\"Então seguindo esta lógica podemos imprimir os elementos dentro de uma lista, \n",
    "como elementos, e não como listas, caso eles estejam dentro de outra lista.\"\"\"\n",
    "#ao invés de\n",
    "for cada_filme in filmes:\n",
    "    print(cada_filme)"
   ]
  },
  {
   "cell_type": "code",
   "execution_count": 21,
   "metadata": {},
   "outputs": [
    {
     "name": "stdout",
     "output_type": "stream",
     "text": [
      "The Holy Grail\n",
      "1975\n",
      "Terry Jones & Terry Gilliam\n",
      "91\n"
     ]
    }
   ],
   "source": [
    "\"\"\"Para imprimir somente os elementos que estão dentro da lista maior e não são listas.\"\"\"\n",
    "for cada_filme in filmes:\n",
    "    if isinstance(cada_filme, list) == False:\n",
    "        print(cada_filme)"
   ]
  },
  {
   "cell_type": "code",
   "execution_count": 24,
   "metadata": {},
   "outputs": [
    {
     "name": "stdout",
     "output_type": "stream",
     "text": [
      "Graham Champman\n",
      "['Michael Palin', 'John Clease', 'Terry Gilliam', 'Eric Idle', 'TerryJones']\n",
      "['Graham Champman', ['Michael Palin', 'John Clease', 'Terry Gilliam', 'Eric Idle', 'TerryJones']]\n"
     ]
    }
   ],
   "source": [
    "for cada_filme in filmes:\n",
    "    if isinstance(cada_filme, list) == True:\n",
    "        for filme_aninhado in cada_filme:\n",
    "            print(filme_aninhado)\n",
    "        else:\n",
    "            print(cada_filme)\n",
    "            \n",
    "\"\"\"Podemos melhorar ainda mais este código.\"\"\""
   ]
  },
  {
   "cell_type": "code",
   "execution_count": 28,
   "metadata": {},
   "outputs": [
    {
     "name": "stdout",
     "output_type": "stream",
     "text": [
      "The Holy Grail\n",
      "1975\n",
      "Terry Jones & Terry Gilliam\n",
      "91\n",
      "Graham Champman\n",
      "Michael Palin\n",
      "John Clease\n",
      "Terry Gilliam\n",
      "Eric Idle\n",
      "TerryJones\n"
     ]
    }
   ],
   "source": [
    "\"\"\"Então nós devemos aplicar a condição para todos os níveis, e não apenas para um como\n",
    "como feito anteriormente.\"\"\"\n",
    "for cada_filme in filmes:\n",
    "    if isinstance(cada_filme, list) == True:\n",
    "        for filme_aninhado in cada_filme:\n",
    "            if isinstance(filme_aninhado, list) == True:\n",
    "                for filme_escondido in filme_aninhado:\n",
    "                    print(filme_escondido)\n",
    "            else:\n",
    "                print(filme_aninhado)\n",
    "    else:\n",
    "        print(cada_filme)"
   ]
  },
  {
   "cell_type": "markdown",
   "metadata": {},
   "source": [
    "## Principal Regra da Programação: NÃO REPITA O CÓDIGO!!\n",
    "### Crie uma função"
   ]
  },
  {
   "cell_type": "code",
   "execution_count": null,
   "metadata": {},
   "outputs": [],
   "source": [
    "\"\"\"Como criar uma função\"\"\"\n",
    "def nome_da_funcao(argumento):\n",
    "    código_da_funcao_com_identacao\n",
    "\n",
    "\"\"\"para chamar a função:\"\"\"\n",
    "nome_da_funcao(argumento)"
   ]
  },
  {
   "cell_type": "code",
   "execution_count": 4,
   "metadata": {},
   "outputs": [
    {
     "name": "stdout",
     "output_type": "stream",
     "text": [
      "The Holy Grail\n",
      "1975\n",
      "Terry Jones & Terry Gilliam\n",
      "91\n",
      "Graham Champman\n",
      "Michael Palin\n",
      "John Clease\n",
      "Terry Gilliam\n",
      "Eric Idle\n",
      "TerryJones\n"
     ]
    }
   ],
   "source": [
    "\"\"\"Então, para criar uma função que faça exatamente o que fizemos anteriormente, mas evitando \n",
    "repetição:\"\"\"\n",
    "#\n",
    "filmes = ['The Holy Grail', 1975, 'Terry Jones & Terry Gilliam', 91, \n",
    "         ['Graham Champman',\n",
    "         ['Michael Palin', 'John Clease', 'Terry Gilliam', 'Eric Idle', 'TerryJones']]]\n",
    "\n",
    "#\n",
    "def print_lol(a_lista):\n",
    "    for cada_filme in a_lista:\n",
    "        if isinstance(cada_filme, list) == True:\n",
    "            print_lol(cada_filme)\n",
    "        else:\n",
    "            print(cada_filme)\n",
    "    \n",
    "\"\"\"Assim chamamos a função\"\"\"\n",
    "print_lol(filmes)"
   ]
  },
  {
   "cell_type": "code",
   "execution_count": null,
   "metadata": {},
   "outputs": [],
   "source": [
    "\"\"\"\n",
    "Explicando a função: O interpretador python faz a leitura de cima para baixo, então não \n",
    "é feita a leitura para que ocorra a inicialização do programa, a leitura vai acontecendo\n",
    "conforme o programa é executado. Desta forma, na primeira linha da função print_lol tem-se \n",
    "um laço for onde o objeto é cada_filme e a lista é a_lista, na linha de baixo há uma \n",
    "condicional: se o elemento for uma lista, a função print_lol(que é ela própria) será chamada\n",
    "do contrário, ele vai printar o elemento. Então o que ele faz é: pega o objeto, ele é lista?\n",
    "sim, então a função é iniciada e o laço se repete;não, então simplesmente printar o elemento\n",
    "\"\"\""
   ]
  },
  {
   "cell_type": "code",
   "execution_count": 3,
   "metadata": {},
   "outputs": [
    {
     "name": "stdout",
     "output_type": "stream",
     "text": [
      "The Hole Grail\n",
      "1975\n",
      "The Life of Brian\n",
      "1979\n",
      "The Meaning of Life\n",
      "1983\n"
     ]
    }
   ],
   "source": [
    "\"\"\"No caso de haver somente uma lista simples, o programa também funciona:\"\"\"\n",
    "filmes2 = ['The Hole Grail', '1975', 'The Life of Brian', '1979', 'The Meaning of Life', '1983']\n",
    "print_lol(filmes2)"
   ]
  },
  {
   "cell_type": "markdown",
   "metadata": {},
   "source": [
    "## Assim podemos reutilizar a nossa função simplesmente chamando-a,  desde que o argumento seja uma lista."
   ]
  }
 ],
 "metadata": {
  "kernelspec": {
   "display_name": "Python 3",
   "language": "python",
   "name": "python3"
  },
  "language_info": {
   "codemirror_mode": {
    "name": "ipython",
    "version": 3
   },
   "file_extension": ".py",
   "mimetype": "text/x-python",
   "name": "python",
   "nbconvert_exporter": "python",
   "pygments_lexer": "ipython3",
   "version": "3.6.5"
  }
 },
 "nbformat": 4,
 "nbformat_minor": 2
}
