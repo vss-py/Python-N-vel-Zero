{
 "cells": [
  {
   "cell_type": "markdown",
   "metadata": {},
   "source": [
    "### Para trabalhar eficientemente com dados, é muitas vezes necessário sua padronização, o que permite que haja um processamento e armazenamento satisfatórios. O que se deve pois os dados têm a péssima mania de possuirem todas as formas, todos os tamanhos e todas as codificações possíveis, hehehe."
   ]
  },
  {
   "cell_type": "code",
   "execution_count": null,
   "metadata": {},
   "outputs": [],
   "source": [
    "\"\"\"Usando a ideia empregada no livro Use a Cabeça Python, temos aqui 4 arquivos de tempo: \n",
    "cada arquivo é de um atleta diferente, tendo registrado os tempos na corrida de 600metros.\n",
    "Mas, há um problema: uma falta de padronização na maneira como foi registrado esses \n",
    "tempos.\"\"\"\n",
    "\"\"\"victor.txt: 2-34,3:21,2.34,2.45,3.01,2:01,2:01,3:10,2-22\n",
    "suelen.txt: 2:58,2.58,2:39,2-25,2-55,2:54,2.18,2:55,2:55\n",
    "claudia.txt: 2:22,3.01,3:01,3.02,3:02,3.02,3:22,2.49,2:38\n",
    "marcio.txt: 2.59,2.11,2:11,2:23,3-10,2-23,3:10,3.21,3-21\n",
    "\"\"\""
   ]
  },
  {
   "cell_type": "code",
   "execution_count": 7,
   "metadata": {},
   "outputs": [
    {
     "name": "stdout",
     "output_type": "stream",
     "text": [
      "['2-34', '3:21', '2.34', '2.45', '3.01', '2:01', '2:01', '3:10', '2-22']\n"
     ]
    }
   ],
   "source": [
    "\"\"\"um truque: se usarmos with, não precisamos nos preocupar em fechar o arquivo: o python\n",
    "faz isso automaticamente^^\"\"\"\n",
    "\n",
    "with open('dados/victor.txt') as victor:#abrir\n",
    "    dados = victor.readline()#ler\n",
    "victor_padronizado = dados.strip().split(',')#padronizar\n",
    "print(victor_padronizado)"
   ]
  },
  {
   "cell_type": "code",
   "execution_count": 12,
   "metadata": {},
   "outputs": [
    {
     "name": "stdout",
     "output_type": "stream",
     "text": [
      "2-34,3:21,2.34,2.45,3.01,2:01,2:01,3:10,2-22\n"
     ]
    },
    {
     "ename": "ValueError",
     "evalue": "I/O operation on closed file.",
     "output_type": "error",
     "traceback": [
      "\u001b[0;31m---------------------------------------------------------------------------\u001b[0m",
      "\u001b[0;31mValueError\u001b[0m                                Traceback (most recent call last)",
      "\u001b[0;32m<ipython-input-12-3737f0cd7435>\u001b[0m in \u001b[0;36m<module>\u001b[0;34m()\u001b[0m\n\u001b[1;32m      3\u001b[0m \u001b[0;32mwith\u001b[0m \u001b[0mopen\u001b[0m\u001b[0;34m(\u001b[0m\u001b[0;34m'dados/victor.txt'\u001b[0m\u001b[0;34m)\u001b[0m \u001b[0;32mas\u001b[0m \u001b[0mvictor\u001b[0m\u001b[0;34m:\u001b[0m\u001b[0;34m\u001b[0m\u001b[0m\n\u001b[1;32m      4\u001b[0m     \u001b[0mprint\u001b[0m\u001b[0;34m(\u001b[0m\u001b[0mvictor\u001b[0m\u001b[0;34m.\u001b[0m\u001b[0mread\u001b[0m\u001b[0;34m(\u001b[0m\u001b[0;34m)\u001b[0m\u001b[0;34m)\u001b[0m\u001b[0;34m\u001b[0m\u001b[0m\n\u001b[0;32m----> 5\u001b[0;31m \u001b[0mprint\u001b[0m\u001b[0;34m(\u001b[0m\u001b[0mvictor\u001b[0m\u001b[0;34m.\u001b[0m\u001b[0mread\u001b[0m\u001b[0;34m(\u001b[0m\u001b[0;34m)\u001b[0m\u001b[0;34m)\u001b[0m\u001b[0;34m\u001b[0m\u001b[0m\n\u001b[0m",
      "\u001b[0;31mValueError\u001b[0m: I/O operation on closed file."
     ]
    }
   ],
   "source": [
    "\"\"\"Ele executa o código dentro do bloco, a identação, tudo que está fora desta identação,\n",
    "retorna erro por conta do arquivo estar fechado.\"\"\"\n",
    "with open('dados/victor.txt') as victor:\n",
    "    print(victor.read())\n",
    "print(victor.read())"
   ]
  },
  {
   "cell_type": "code",
   "execution_count": 25,
   "metadata": {},
   "outputs": [
    {
     "data": {
      "text/plain": [
       "'Criar um exemplo pra mostrar com textos de muitas linhas!'"
      ]
     },
     "execution_count": 25,
     "metadata": {},
     "output_type": "execute_result"
    }
   ],
   "source": [
    "\"\"\"Criar um exemplo pra mostrar com textos de muitas linhas!\"\"\""
   ]
  },
  {
   "cell_type": "code",
   "execution_count": 38,
   "metadata": {},
   "outputs": [
    {
     "name": "stdout",
     "output_type": "stream",
     "text": [
      "['2-34', '3:21', '2.34', '2.45', '3.01', '2:01', '2:01', '3:10', '2-22']\n"
     ]
    }
   ],
   "source": [
    "\"\"\"Se devemos fazer isto para todos os arquivos, não é melhor reduzirmos o código? Isto é,\n",
    "evitarmos a repetição??-> CLARO\"\"\"\n",
    "#mas faremos por parte:\n",
    "def exibe():\n",
    "    with open('dados/victor.txt') as victor:#abrir\n",
    "        dados = victor.readline()#ler\n",
    "    victor_padronizado = dados.strip().split(',')#transforma em lista\n",
    "    print(victor_padronizado)\n",
    "exibe()"
   ]
  },
  {
   "cell_type": "code",
   "execution_count": 14,
   "metadata": {},
   "outputs": [
    {
     "name": "stdout",
     "output_type": "stream",
     "text": [
      "Informe o caminho do arquivo: dados/victor.txt\n",
      "['2-34', '3:21', '2.34', '2.45', '3.01', '2:01', '2:01', '3:10', '2-22']\n"
     ]
    }
   ],
   "source": [
    "def exibe():\n",
    "    nome = input('Informe o caminho do arquivo: ')\n",
    "    with open(nome) as victor:#abrir\n",
    "        dados = victor.readline()#ler\n",
    "    victor_padronizado = dados.strip().split(',')#transforma em lista\n",
    "    print(victor_padronizado)\n",
    "padroniza()"
   ]
  },
  {
   "cell_type": "code",
   "execution_count": 15,
   "metadata": {},
   "outputs": [
    {
     "name": "stdout",
     "output_type": "stream",
     "text": [
      "Informe o caminho do arquivo: dados/victor.txt\n",
      "['2-34', '3:21', '2.34', '2.45', '3.01', '2:01', '2:01', '3:10', '2-22']\n"
     ]
    }
   ],
   "source": [
    "def exibe():\n",
    "    nome = input('Informe o caminho do arquivo: ')\n",
    "    with open(nome) as nome:#abrir\n",
    "        dados = nome.readline()#ler\n",
    "    nome_padronizado = dados.strip().split(',')#padronizar\n",
    "    print(nome_padronizado)\n",
    "\n",
    "padroniza()"
   ]
  },
  {
   "cell_type": "code",
   "execution_count": 26,
   "metadata": {},
   "outputs": [
    {
     "name": "stdout",
     "output_type": "stream",
     "text": [
      "Informe o caminho do arquivo: dados/victor.txt\n",
      "-\n",
      ":\n",
      ".\n",
      ".\n",
      ".\n",
      ":\n",
      ":\n",
      ":\n",
      "-\n"
     ]
    }
   ],
   "source": [
    "\"\"\"Até aqui, conseguimos transformar o arquivo.txt numa lista e printamos. Mas não \n",
    "padronizamos coisa alguma, com relação aos minutos. Faremos isto agora:\"\"\"\n",
    "\n",
    "def padroniza():\n",
    "    nome = input('Informe o caminho do arquivo: ')\n",
    "    with open(nome) as nome:\n",
    "        dados = nome.readline()\n",
    "    nome_padronizado = dados.strip().split(',')#já temos uma lista\n",
    "    for cada_valor in nome_padronizado:#então olhamos pela posição\n",
    "        print(cada_valor[1])#todos deveriam ser ':'\n",
    "    \n",
    "\n",
    "padroniza()\n",
    "#mas temos '.' e '-'"
   ]
  },
  {
   "cell_type": "code",
   "execution_count": 1,
   "metadata": {},
   "outputs": [
    {
     "name": "stdout",
     "output_type": "stream",
     "text": [
      "Informe o caminho do arquivo: dados/suelen.txt\n",
      "2:58\n",
      "2:58\n",
      "2:39\n",
      "2:25\n",
      "2:55\n",
      "2:54\n",
      "2:18\n",
      "2:55\n",
      "2:55\n"
     ]
    }
   ],
   "source": [
    "def padroniza():\n",
    "    nome = input('Informe o caminho do arquivo: ')\n",
    "    with open(nome) as nome:\n",
    "        dados = nome.readline()\n",
    "    nome_padronizado = dados.strip().split(',')#já temos uma lista\n",
    "    for cada_valor in nome_padronizado:#então olhamos pela posição\n",
    "        if cada_valor[1] == '-':#criamos a condição\n",
    "            print(cada_valor.replace('-', ':'))#e substituímos os caractéres\n",
    "        elif cada_valor[1] == '.':\n",
    "            print(cada_valor.replace('.', ':'))\n",
    "        else:\n",
    "            print(cada_valor)       \n",
    "padroniza()"
   ]
  },
  {
   "cell_type": "code",
   "execution_count": 2,
   "metadata": {},
   "outputs": [
    {
     "name": "stdout",
     "output_type": "stream",
     "text": [
      "Informe o caminho do arquivo: dados/victor.txt\n",
      "2:34\n",
      "3:21\n",
      "2:34\n",
      "2:45\n",
      "3:01\n",
      "2:01\n",
      "2:01\n",
      "3:10\n",
      "2:22\n",
      "Informe o caminho do arquivo: dados/suelen.txt\n",
      "2:58\n",
      "2:58\n",
      "2:39\n",
      "2:25\n",
      "2:55\n",
      "2:54\n",
      "2:18\n",
      "2:55\n",
      "2:55\n",
      "Informe o caminho do arquivo: dados/claudia.txt\n",
      "2:22\n",
      "3:01\n",
      "3:01\n",
      "3:02\n",
      "3:02\n",
      "3:02\n",
      "3:22\n",
      "2:49\n",
      "2:38\n",
      "Informe o caminho do arquivo: dados/marcio.txt\n",
      "2:59\n",
      "2:11\n",
      "2:11\n",
      "2:23\n",
      "3:10\n",
      "2:23\n",
      "3:10\n",
      "3:21\n",
      "3:21\n"
     ]
    }
   ],
   "source": [
    "\"\"\"Então agora podemos chamar todos os 4 arquivos de tempo\"\"\"\n",
    "padroniza()\n",
    "padroniza()\n",
    "padroniza()\n",
    "padroniza()"
   ]
  },
  {
   "cell_type": "code",
   "execution_count": 39,
   "metadata": {},
   "outputs": [
    {
     "name": "stdout",
     "output_type": "stream",
     "text": [
      "['2-34', '3:21', '2.34', '2.45', '3.01', '2:01', '2:01', '3:10', '2-22']\n"
     ]
    }
   ],
   "source": [
    "\"\"\"Mas veja, que não editamos o arquivo, apenas o processamos para exibí-lo como \n",
    "gostaríamos, quando o abrimos sem processar, vemos o arquivo ogirinal:\"\"\"\n",
    "#victor.txt\n",
    "exibe()"
   ]
  },
  {
   "cell_type": "code",
   "execution_count": 23,
   "metadata": {},
   "outputs": [
    {
     "name": "stdout",
     "output_type": "stream",
     "text": [
      "Informe o caminho do arquivo: dados/victor.txt\n"
     ]
    },
    {
     "ename": "UnsupportedOperation",
     "evalue": "not readable",
     "output_type": "error",
     "traceback": [
      "\u001b[0;31m---------------------------------------------------------------------------\u001b[0m",
      "\u001b[0;31mUnsupportedOperation\u001b[0m                      Traceback (most recent call last)",
      "\u001b[0;32m<ipython-input-23-8fc59a3d304e>\u001b[0m in \u001b[0;36m<module>\u001b[0;34m()\u001b[0m\n\u001b[1;32m     15\u001b[0m             \u001b[0mprint\u001b[0m\u001b[0;34m(\u001b[0m\u001b[0mcada_valor\u001b[0m\u001b[0;34m)\u001b[0m\u001b[0;34m\u001b[0m\u001b[0m\n\u001b[1;32m     16\u001b[0m             \u001b[0mnome\u001b[0m\u001b[0;34m.\u001b[0m\u001b[0mwritelines\u001b[0m\u001b[0;34m(\u001b[0m\u001b[0mcada_valor\u001b[0m\u001b[0;34m)\u001b[0m\u001b[0;34m\u001b[0m\u001b[0m\n\u001b[0;32m---> 17\u001b[0;31m \u001b[0mpadroniza3\u001b[0m\u001b[0;34m(\u001b[0m\u001b[0;34m)\u001b[0m\u001b[0;34m\u001b[0m\u001b[0m\n\u001b[0m",
      "\u001b[0;32m<ipython-input-23-8fc59a3d304e>\u001b[0m in \u001b[0;36mpadroniza3\u001b[0;34m()\u001b[0m\n\u001b[1;32m      3\u001b[0m     \u001b[0mnome\u001b[0m \u001b[0;34m=\u001b[0m \u001b[0minput\u001b[0m\u001b[0;34m(\u001b[0m\u001b[0;34m'Informe o caminho do arquivo: '\u001b[0m\u001b[0;34m)\u001b[0m\u001b[0;34m\u001b[0m\u001b[0m\n\u001b[1;32m      4\u001b[0m     \u001b[0;32mwith\u001b[0m \u001b[0mopen\u001b[0m\u001b[0;34m(\u001b[0m\u001b[0mnome\u001b[0m\u001b[0;34m,\u001b[0m \u001b[0;34m'w'\u001b[0m\u001b[0;34m)\u001b[0m \u001b[0;32mas\u001b[0m \u001b[0mnome\u001b[0m\u001b[0;34m:\u001b[0m\u001b[0;34m\u001b[0m\u001b[0m\n\u001b[0;32m----> 5\u001b[0;31m         \u001b[0mdados\u001b[0m \u001b[0;34m=\u001b[0m \u001b[0mnome\u001b[0m\u001b[0;34m.\u001b[0m\u001b[0mreadline\u001b[0m\u001b[0;34m(\u001b[0m\u001b[0;34m)\u001b[0m\u001b[0;34m\u001b[0m\u001b[0m\n\u001b[0m\u001b[1;32m      6\u001b[0m     \u001b[0mnome_padronizado\u001b[0m \u001b[0;34m=\u001b[0m \u001b[0mdados\u001b[0m\u001b[0;34m.\u001b[0m\u001b[0mstrip\u001b[0m\u001b[0;34m(\u001b[0m\u001b[0;34m)\u001b[0m\u001b[0;34m.\u001b[0m\u001b[0msplit\u001b[0m\u001b[0;34m(\u001b[0m\u001b[0;34m','\u001b[0m\u001b[0;34m)\u001b[0m\u001b[0;34m\u001b[0m\u001b[0m\n\u001b[1;32m      7\u001b[0m     \u001b[0;32mfor\u001b[0m \u001b[0mcada_valor\u001b[0m \u001b[0;32min\u001b[0m \u001b[0mnome_padronizado\u001b[0m\u001b[0;34m:\u001b[0m\u001b[0;34m\u001b[0m\u001b[0m\n",
      "\u001b[0;31mUnsupportedOperation\u001b[0m: not readable"
     ]
    }
   ],
   "source": [
    "\"\"\"Esta função deveria salvar no arquivo original.\"\"\"\n",
    "def padroniza3():\n",
    "    nome = input('Informe o caminho do arquivo: ')\n",
    "    with open(nome, 'w') as nome:\n",
    "        dados = nome.readline()\n",
    "    nome_padronizado = dados.strip().split(',')\n",
    "    for cada_valor in nome_padronizado:\n",
    "        if cada_valor[1] == '-':\n",
    "            print(cada_valor.replace('-', ':'))\n",
    "            nome.writelines(cada_valor.replace('-', ':'))\n",
    "        elif cada_valor[1] == '.':\n",
    "            print(cada_valor.replace('.', ':'))\n",
    "            nome.writelines(cada_valor.replace('.', ':'))\n",
    "        else:\n",
    "            print(cada_valor)\n",
    "            nome.writelines(cada_valor)\n",
    "padroniza3()"
   ]
  },
  {
   "cell_type": "code",
   "execution_count": null,
   "metadata": {},
   "outputs": [],
   "source": [
    "#gerar uma função, que recebe o nome do arquivo.txt, padroniza este arquivo e gera outro \n",
    "#arquivo padronizado, de nome: nome_padronizado"
   ]
  },
  {
   "cell_type": "code",
   "execution_count": 9,
   "metadata": {},
   "outputs": [
    {
     "name": "stdout",
     "output_type": "stream",
     "text": [
      "Informe o caminho do arquivo: dados/victor.txt\n",
      "2:34\n",
      "3:21\n",
      "2:34\n",
      "2:45\n",
      "3:01\n",
      "2:01\n",
      "2:01\n",
      "3:10\n",
      "2:22\n",
      "['2:34', '3:21', '2:34', '2:45', '3:01', '2:01', '2:01', '3:10', '2:22']\n"
     ]
    }
   ],
   "source": [
    "\"\"\"Vamos usar os intervalos, para pegar os valores pela sua posição\"\"\"\n",
    "def padroniza():\n",
    "    lista = []#criamos uma lista\n",
    "    nome = input('Informe o caminho do arquivo: ')\n",
    "    with open(nome) as nome:\n",
    "        dados = nome.readline()\n",
    "    nome_padronizado = dados.strip().split(',')\n",
    "    for cada_valor in nome_padronizado:\n",
    "        if cada_valor[1] == '-':\n",
    "            print(cada_valor.replace('-', ':'))\n",
    "            lista.append(cada_valor.replace('-', ':'))#jogamos o valor pra dentro\n",
    "        elif cada_valor[1] == '.':\n",
    "            print(cada_valor.replace('.', ':'))\n",
    "            lista.append(cada_valor.replace('.', ':'))#o append deve ser feito\n",
    "        else:\n",
    "            print(cada_valor)\n",
    "            lista.append(cada_valor)#para todas as condições\n",
    "    print(lista)\n",
    "padroniza()"
   ]
  },
  {
   "cell_type": "code",
   "execution_count": null,
   "metadata": {},
   "outputs": [],
   "source": [
    "\"\"\"Então agora podemos usar a posição do iterador para pegar os itens pela sua posição.\n",
    "Lembrando que a primeira posição é 0\"\"\""
   ]
  },
  {
   "cell_type": "code",
   "execution_count": 10,
   "metadata": {},
   "outputs": [
    {
     "name": "stdout",
     "output_type": "stream",
     "text": [
      "Informe o caminho do arquivo: dados/victor.txt\n",
      "2:34\n",
      "3:21\n",
      "2:34\n",
      "2:45\n",
      "3:01\n",
      "2:01\n",
      "2:01\n",
      "3:10\n",
      "2:22\n",
      "['2:34', '3:21', '2:34', '2:45', '3:01', '2:01', '2:01', '3:10', '2:22']\n",
      "Informe o índice do elemento que deseja visualizar:1\n",
      "2:34\n"
     ]
    }
   ],
   "source": [
    "def padroniza():\n",
    "    lista = []#criamos uma lista\n",
    "    nome = input('Informe o caminho do arquivo: ')\n",
    "    with open(nome) as nome:\n",
    "        dados = nome.readline()\n",
    "    nome_padronizado = dados.strip().split(',')\n",
    "    for cada_valor in nome_padronizado:\n",
    "        if cada_valor[1] == '-':\n",
    "            print(cada_valor.replace('-', ':'))\n",
    "            lista.append(cada_valor.replace('-', ':'))\n",
    "        elif cada_valor[1] == '.':\n",
    "            print(cada_valor.replace('.', ':'))\n",
    "            lista.append(cada_valor.replace('.', ':'))\n",
    "        else:\n",
    "            print(cada_valor)\n",
    "            lista.append(cada_valor)\n",
    "    print(lista)\n",
    "    a = int(input('Informe o índice do elemento que deseja visualizar:'))\n",
    "    a = a - 1\n",
    "    print(lista[a])\n",
    "padroniza()"
   ]
  },
  {
   "cell_type": "code",
   "execution_count": 13,
   "metadata": {},
   "outputs": [
    {
     "name": "stdout",
     "output_type": "stream",
     "text": [
      "Informe o caminho do arquivo: dados/victor.txt\n",
      "2:34\n",
      "3:21\n",
      "2:34\n",
      "2:45\n",
      "3:01\n",
      "2:01\n",
      "2:01\n",
      "3:10\n",
      "2:22\n",
      "['2:34', '3:21', '2:34', '2:45', '3:01', '2:01', '2:01', '3:10', '2:22']\n",
      "Informe o intervalo inferior:1\n",
      "Informe o intervalo superior:3\n",
      "['2:34', '3:21']\n"
     ]
    }
   ],
   "source": [
    "\"\"\"Assim como também podemos definir um intervalo:\"\"\"\n",
    "def padroniza():\n",
    "    lista = []#criamos uma lista\n",
    "    nome = input('Informe o caminho do arquivo: ')\n",
    "    with open(nome) as nome:\n",
    "        dados = nome.readline()\n",
    "    nome_padronizado = dados.strip().split(',')\n",
    "    for cada_valor in nome_padronizado:\n",
    "        if cada_valor[1] == '-':\n",
    "            print(cada_valor.replace('-', ':'))\n",
    "            lista.append(cada_valor.replace('-', ':'))\n",
    "        elif cada_valor[1] == '.':\n",
    "            print(cada_valor.replace('.', ':'))\n",
    "            lista.append(cada_valor.replace('.', ':'))\n",
    "        else:\n",
    "            print(cada_valor)\n",
    "            lista.append(cada_valor)\n",
    "    print(lista)\n",
    "    a = int(input('Informe o intervalo inferior:'))\n",
    "    a = a - 1\n",
    "    b = int(input('Informe o intervalo superior:'))\n",
    "    b = b - 1\n",
    "    print(lista[a:b])\n",
    "padroniza()"
   ]
  },
  {
   "cell_type": "code",
   "execution_count": 14,
   "metadata": {},
   "outputs": [
    {
     "name": "stdout",
     "output_type": "stream",
     "text": [
      "Informe o caminho do arquivo: dados/victor.txt\n",
      "2:34\n",
      "3:21\n",
      "2:34\n",
      "2:45\n",
      "3:01\n",
      "2:01\n",
      "2:01\n",
      "3:10\n",
      "2:22\n",
      "['2:34', '3:21', '2:34', '2:45', '3:01', '2:01', '2:01', '3:10', '2:22']\n",
      "Informe o intervalo inferior:1\n",
      "Informe o intervalo superior:3\n",
      "['2:34', '3:21', '2:34']\n"
     ]
    }
   ],
   "source": [
    "\"\"\"Corrigindo!!\"\"\"\n",
    "def padroniza():\n",
    "    lista = []#criamos uma lista\n",
    "    nome = input('Informe o caminho do arquivo: ')\n",
    "    with open(nome) as nome:\n",
    "        dados = nome.readline()\n",
    "    nome_padronizado = dados.strip().split(',')\n",
    "    for cada_valor in nome_padronizado:\n",
    "        if cada_valor[1] == '-':\n",
    "            print(cada_valor.replace('-', ':'))\n",
    "            lista.append(cada_valor.replace('-', ':'))\n",
    "        elif cada_valor[1] == '.':\n",
    "            print(cada_valor.replace('.', ':'))\n",
    "            lista.append(cada_valor.replace('.', ':'))\n",
    "        else:\n",
    "            print(cada_valor)\n",
    "            lista.append(cada_valor)\n",
    "    print(lista)\n",
    "    a = int(input('Informe o intervalo inferior:'))\n",
    "    a = a - 1\n",
    "    b = int(input('Informe o intervalo superior:'))\n",
    "    #b = b - 1, pois inicia no 0, e vai até b.\n",
    "    print(lista[a:b])\n",
    "padroniza()"
   ]
  },
  {
   "cell_type": "code",
   "execution_count": 15,
   "metadata": {},
   "outputs": [
    {
     "name": "stdout",
     "output_type": "stream",
     "text": [
      "Informe o caminho do arquivo: dados/victor.txt\n",
      "2:34\n",
      "3:21\n",
      "2:34\n",
      "2:45\n",
      "3:01\n",
      "2:01\n",
      "2:01\n",
      "3:10\n",
      "2:22\n",
      "['2:34', '3:21', '2:34', '2:45', '3:01', '2:01', '2:01', '3:10', '2:22']\n",
      "['2:34', '3:21', '2:34']\n"
     ]
    }
   ],
   "source": [
    "\"\"\"Ou então nós podemos definir 'a' e 'b' como argumentos da nossa função:\"\"\"\n",
    "def padroniza(a, b):\n",
    "    lista = []#criamos uma lista\n",
    "    nome = input('Informe o caminho do arquivo: ')\n",
    "    with open(nome) as nome:\n",
    "        dados = nome.readline()\n",
    "    nome_padronizado = dados.strip().split(',')\n",
    "    for cada_valor in nome_padronizado:\n",
    "        if cada_valor[1] == '-':\n",
    "            print(cada_valor.replace('-', ':'))\n",
    "            lista.append(cada_valor.replace('-', ':'))\n",
    "        elif cada_valor[1] == '.':\n",
    "            print(cada_valor.replace('.', ':'))\n",
    "            lista.append(cada_valor.replace('.', ':'))\n",
    "        else:\n",
    "            print(cada_valor)\n",
    "            lista.append(cada_valor)\n",
    "    print(lista)\n",
    "    #a = int(input('Informe o intervalo inferior:'))\n",
    "    a = a - 1\n",
    "    #b = int(input('Informe o intervalo superior:'))\n",
    "    #b = b - 1, pois inicia no 0, e vai até b.\n",
    "    print(lista[a:b])\n",
    "padroniza(1, 3)"
   ]
  },
  {
   "cell_type": "code",
   "execution_count": 19,
   "metadata": {},
   "outputs": [
    {
     "name": "stdout",
     "output_type": "stream",
     "text": [
      "Informe o caminho do arquivo: dados/victor.txt\n",
      "2:34\n",
      "3:21\n",
      "2:34\n",
      "2:45\n",
      "3:01\n",
      "2:01\n",
      "2:01\n",
      "3:10\n",
      "2:22\n",
      "['2:34', '3:21', '2:34', '2:45', '3:01', '2:01', '2:01', '3:10', '2:22']\n",
      "['2:34', '3:21', '2:34', '2:45', '3:01', '2:01', '2:01', '3:10', '2:22']\n"
     ]
    }
   ],
   "source": [
    "\"\"\"Mas, quais são as vantagens? \n",
    "Além de uma melhor estruturação na nossa função, podemos agora, como um exemplo simples,\n",
    "obter um valor default:\"\"\"\n",
    "def padroniza(a=1, b=9):\n",
    "    lista = []\n",
    "    nome = input('Informe o caminho do arquivo: ')\n",
    "    with open(nome) as nome:\n",
    "        dados = nome.readline()\n",
    "    nome_padronizado = dados.strip().split(',')\n",
    "    for cada_valor in nome_padronizado:\n",
    "        if cada_valor[1] == '-':\n",
    "            print(cada_valor.replace('-', ':'))\n",
    "            lista.append(cada_valor.replace('-', ':'))\n",
    "        elif cada_valor[1] == '.':\n",
    "            print(cada_valor.replace('.', ':'))\n",
    "            lista.append(cada_valor.replace('.', ':'))\n",
    "        else:\n",
    "            print(cada_valor)\n",
    "            lista.append(cada_valor)\n",
    "    print(lista)\n",
    "    a = a - 1\n",
    "    print(lista[a:b])\n",
    "padroniza()\n",
    "\"\"\"No caso, o meu valor padrão imprimirá a lista inteira.\"\"\""
   ]
  },
  {
   "cell_type": "code",
   "execution_count": 22,
   "metadata": {},
   "outputs": [
    {
     "name": "stdout",
     "output_type": "stream",
     "text": [
      "Informe o caminho do arquivo: dados/victor.txt\n",
      "2:34\n",
      "3:21\n",
      "2:34\n",
      "2:45\n",
      "3:01\n",
      "2:01\n",
      "2:01\n",
      "3:10\n",
      "2:22\n"
     ]
    },
    {
     "data": {
      "text/plain": [
       "['3:21', '2:34']"
      ]
     },
     "execution_count": 22,
     "metadata": {},
     "output_type": "execute_result"
    }
   ],
   "source": [
    "def padroniza(a=1, b=9):\n",
    "    lista = []\n",
    "    nome = input('Informe o caminho do arquivo: ')\n",
    "    with open(nome) as nome:\n",
    "        dados = nome.readline()\n",
    "    nome_padronizado = dados.strip().split(',')\n",
    "    for cada_valor in nome_padronizado:\n",
    "        if cada_valor[1] == '-':\n",
    "            print(cada_valor.replace('-', ':'))\n",
    "            lista.append(cada_valor.replace('-', ':'))\n",
    "        elif cada_valor[1] == '.':\n",
    "            print(cada_valor.replace('.', ':'))\n",
    "            lista.append(cada_valor.replace('.', ':'))\n",
    "        else:\n",
    "            print(cada_valor)\n",
    "            lista.append(cada_valor)\n",
    "    a = a - 1\n",
    "    return(lista[a:b])#só pode haver um return verdadeiro por função\n",
    "padroniza(2,3)\n"
   ]
  },
  {
   "cell_type": "code",
   "execution_count": 23,
   "metadata": {},
   "outputs": [
    {
     "name": "stdout",
     "output_type": "stream",
     "text": [
      "Informe o caminho do arquivo: dados/victor.txt\n",
      "2:34\n",
      "3:21\n",
      "2:34\n",
      "2:45\n",
      "3:01\n",
      "2:01\n",
      "2:01\n",
      "3:10\n",
      "2:22\n"
     ]
    },
    {
     "data": {
      "text/plain": [
       "[]"
      ]
     },
     "execution_count": 23,
     "metadata": {},
     "output_type": "execute_result"
    }
   ],
   "source": [
    "\"\"\"E se eu fizer o intervalo ao contrário?\"\"\"\n",
    "padroniza(3,2)"
   ]
  },
  {
   "cell_type": "code",
   "execution_count": 1,
   "metadata": {},
   "outputs": [
    {
     "name": "stdout",
     "output_type": "stream",
     "text": [
      "Informe o caminho do arquivo: dados/victor.txt\n"
     ]
    },
    {
     "data": {
      "text/plain": [
       "['2:34', '3:21', '2:34', '2:45', '3:01']"
      ]
     },
     "execution_count": 1,
     "metadata": {},
     "output_type": "execute_result"
    }
   ],
   "source": [
    "\"\"\"Vamos melhorar a função padroniza: ela deve retornar agora apenas os valores \n",
    "compreendidos intervalo dado:\"\"\"\n",
    "def padroniza2(a=1, b=9):\n",
    "    lista = []\n",
    "    nome = input('Informe o caminho do arquivo: ')\n",
    "    with open(nome) as nome:\n",
    "        dados = nome.readline()\n",
    "    nome_padronizado = dados.strip().split(',')\n",
    "    for cada_valor in nome_padronizado:\n",
    "        if cada_valor[1] == '-':\n",
    "            #print(cada_valor.replace('-', ':'))\n",
    "            lista.append(cada_valor.replace('-', ':'))\n",
    "        elif cada_valor[1] == '.':\n",
    "            #print(cada_valor.replace('.', ':'))\n",
    "            lista.append(cada_valor.replace('.', ':'))\n",
    "        else:\n",
    "            #print(cada_valor)\n",
    "            lista.append(cada_valor)\n",
    "    a = a - 1\n",
    "    return(lista[a:b])\n",
    "\n",
    "padroniza2(1, 5)"
   ]
  },
  {
   "cell_type": "code",
   "execution_count": null,
   "metadata": {},
   "outputs": [],
   "source": [
    "\"\"\"Criar uma função que lê o arquivo e exporta um outro com um número específico de \n",
    "menores tempos.\"\"\""
   ]
  },
  {
   "cell_type": "code",
   "execution_count": 26,
   "metadata": {},
   "outputs": [
    {
     "data": {
      "text/plain": [
       "'Que tal experimentar Exceções(Try - Except) ou Condições(if - elif - else), \\npensando nos erros que podem ocorrer?'"
      ]
     },
     "execution_count": 26,
     "metadata": {},
     "output_type": "execute_result"
    }
   ],
   "source": [
    "\"\"\"Que tal experimentar Exceções(Try - Except) ou Condições(if - elif - else), \n",
    "pensando nos erros que podem ocorrer?\"\"\"\n"
   ]
  },
  {
   "cell_type": "code",
   "execution_count": null,
   "metadata": {},
   "outputs": [],
   "source": []
  }
 ],
 "metadata": {
  "kernelspec": {
   "display_name": "Python 3",
   "language": "python",
   "name": "python3"
  },
  "language_info": {
   "codemirror_mode": {
    "name": "ipython",
    "version": 3
   },
   "file_extension": ".py",
   "mimetype": "text/x-python",
   "name": "python",
   "nbconvert_exporter": "python",
   "pygments_lexer": "ipython3",
   "version": "3.6.5"
  }
 },
 "nbformat": 4,
 "nbformat_minor": 2
}
