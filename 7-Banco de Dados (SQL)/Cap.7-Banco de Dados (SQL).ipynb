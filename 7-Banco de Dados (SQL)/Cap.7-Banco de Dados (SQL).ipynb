{
 "cells": [
  {
   "cell_type": "markdown",
   "metadata": {},
   "source": [
    "## O Python3 vem com a versão 3 do SQLite, o SQLite3"
   ]
  },
  {
   "cell_type": "markdown",
   "metadata": {},
   "source": [
    "### Geralmente precisamos armazenar informações em uma base de dados, seja ela local ou não. Então para o caso local, usaremos o banco de dados SQL. Não necessitamos de nenhuma configuração prévia, desde que usemos python3, pois a API de banco de dados do python já fez toda a parte difícil e chata para nós.\n"
   ]
  },
  {
   "cell_type": "markdown",
   "metadata": {},
   "source": [
    "### Então quando falamos em banco de dados, o comportamento é o mesmo independente do banco de dados a que nos referimos: \n",
    "* **Conectar:** Estabelecendo uma conexão com o banco de dados escolhido;\n",
    "* **Criar:** Criando um cursor para que haja a comunicação através da conexão com os dados;\n",
    "* **Interagir:** Usando o cursor, podemos manipular os dados utilizando métodos exclusivos do SQL;\n",
    "    * **'Commitar':** Através da conexão, aplicar todas as manipulações nos dados, tornando-as permanente;\n",
    "    * **Reverter:** Dizendo para a conexão cancelar as mudanças nos dados, de certa forma, retornando-os ao estado inicial;\n",
    "* **Fechar:** Destruindo a conexão com o banco de dados, juntamente com o cursor. Esta etapa é de imensa importância."
   ]
  },
  {
   "cell_type": "code",
   "execution_count": 3,
   "metadata": {},
   "outputs": [],
   "source": [
    "\"\"\"Mão na massa!\"\"\"\n",
    "import sqlite3#1\n",
    "conexao = sqlite3.connect('primeiro_teste.sqlite')#2\n",
    "cursor = conexao.cursor()#3\n",
    "cursor.execute(\"\"\"SELECT DATE('NOW')\"\"\")#4\n",
    "conexao.commit()#5\n",
    "conexao.close()#6"
   ]
  },
  {
   "cell_type": "markdown",
   "metadata": {},
   "source": [
    "**Repassando:**\n",
    "* **1:** Importa o módulo sqlite3;\n",
    "* **2:** Estabelece a conexão com o banco de dados, no caso, criando o arquivo primeiro_teste.sqlite;\n",
    "* **3:** Cria o cursor, para que agora possa ser executado alguma ação nos dados;\n",
    "* **4:** Executa alguma ação nos dados com o uso do cursor;\n",
    "* **5:** Commita, salvando todas as ações executadas;\n",
    "* **6:** Encerra a conexão."
   ]
  },
  {
   "cell_type": "code",
   "execution_count": 16,
   "metadata": {},
   "outputs": [],
   "source": [
    "\"\"\"Vamos criar nosso catálogo de livros:(id, titulo, assunto, autor, data de publicação)\"\"\"\n",
    "import sqlite3\n",
    "conexao = sqlite3.connect('primeiro_teste.sqlite')\n",
    "cursor = conexao.cursor()\n",
    "cursor.execute(\"\"\"CREATE TABLE livros (\n",
    "    id INTEGER PRIMARY KEY AUTOINCREMENT UNIQUE NOT NULL,\n",
    "    titulo VARCHAR NOT NULL,\n",
    "    assunto TEXT NOT NULL,\n",
    "    autor TEXT NOT NULL,\n",
    "    publicacao DATE NULL)\"\"\")\n",
    "conexao.commit()\n",
    "conexao.close()"
   ]
  },
  {
   "cell_type": "code",
   "execution_count": 9,
   "metadata": {},
   "outputs": [
    {
     "name": "stdout",
     "output_type": "stream",
     "text": [
      "Informe o título do livro: Use a Cabeça Python\n",
      "Informe o assunto do livro: Programação Python\n",
      "Informe o autor do livro: Paul Barry\n"
     ]
    }
   ],
   "source": [
    "\"\"\"E agora vamos jogar alguns livros lá dentro:\"\"\"\n",
    "\n",
    "def joga_livro():\n",
    "    #\n",
    "    import sqlite3\n",
    "    conexao = sqlite3.connect('primeiro_teste.sqlite')\n",
    "    cursor = conexao.cursor()\n",
    "    #\n",
    "    a = str(input('Informe o título do livro: '))\n",
    "    b = str(input('Informe o assunto do livro: '))\n",
    "    c = str(input('Informe o autor do livro: '))\n",
    "    cursor.execute(\"INSERT INTO livros (titulo, assunto, autor) VALUES (?, ?, ?)\", \n",
    "                   (a, b, c))\n",
    "    conexao.commit()\n",
    "    conexao.close()\n",
    "joga_livro()"
   ]
  },
  {
   "cell_type": "markdown",
   "metadata": {},
   "source": [
    "### Com algum browser de banco de dados para sqlite cheque o banco de dados recem criado"
   ]
  },
  {
   "cell_type": "code",
   "execution_count": 17,
   "metadata": {},
   "outputs": [
    {
     "name": "stdout",
     "output_type": "stream",
     "text": [
      "Entre com o título do livro: Use a Cabeça Python\n"
     ]
    },
    {
     "ename": "ProgrammingError",
     "evalue": "Incorrect number of bindings supplied. The current statement uses 2, and there are 19 supplied.",
     "output_type": "error",
     "traceback": [
      "\u001b[0;31m---------------------------------------------------------------------------\u001b[0m",
      "\u001b[0;31mProgrammingError\u001b[0m                          Traceback (most recent call last)",
      "\u001b[0;32m<ipython-input-17-ac50e1528592>\u001b[0m in \u001b[0;36m<module>\u001b[0;34m()\u001b[0m\n\u001b[1;32m      7\u001b[0m \u001b[0;31m#a = str(input('Entre com o assunto do livro: '))\u001b[0m\u001b[0;34m\u001b[0m\u001b[0;34m\u001b[0m\u001b[0m\n\u001b[1;32m      8\u001b[0m \u001b[0;31m#---\u001b[0m\u001b[0;34m\u001b[0m\u001b[0;34m\u001b[0m\u001b[0m\n\u001b[0;32m----> 9\u001b[0;31m \u001b[0mcursor\u001b[0m\u001b[0;34m.\u001b[0m\u001b[0mexecute\u001b[0m\u001b[0;34m(\u001b[0m\u001b[0;34m\"SELECT id from livros WHERE titulo=? AND assunto=?\"\u001b[0m\u001b[0;34m,\u001b[0m \u001b[0;34m(\u001b[0m\u001b[0mt\u001b[0m\u001b[0;34m)\u001b[0m\u001b[0;34m)\u001b[0m\u001b[0;34m\u001b[0m\u001b[0m\n\u001b[0m\u001b[1;32m     10\u001b[0m \u001b[0mcursor\u001b[0m\u001b[0;34m.\u001b[0m\u001b[0mfetchall\u001b[0m\u001b[0;34m(\u001b[0m\u001b[0;34m)\u001b[0m\u001b[0;34m\u001b[0m\u001b[0m\n\u001b[1;32m     11\u001b[0m \u001b[0;31m#---\u001b[0m\u001b[0;34m\u001b[0m\u001b[0;34m\u001b[0m\u001b[0m\n",
      "\u001b[0;31mProgrammingError\u001b[0m: Incorrect number of bindings supplied. The current statement uses 2, and there are 19 supplied."
     ]
    }
   ],
   "source": [
    "\"\"\"Mas podemos também exibir estes mesmos valores do banco de dados pelo python:\n",
    "Vamos exibir o id\"\"\"\n",
    "import sqlite3\n",
    "conexao = sqlite3.connect('primeiro_teste.sqlite')\n",
    "cursor = conexao.cursor()\n",
    "t = str(input('Entre com o título do livro: '))\n",
    "a = str(input('Entre com o assunto do livro: '))\n",
    "#---\n",
    "cursor.execute(\"SELECT id from livros WHERE titulo=? AND assunto=?\", (t, a))\n",
    "cursor.fetchall()\n",
    "#---\n",
    "conexao.commit()\n",
    "conexao.close()\n",
    "\"\"\"Consertar este módulo, criando um programa que exibe os valores do banco de dados!\"\"\""
   ]
  },
  {
   "cell_type": "code",
   "execution_count": 8,
   "metadata": {},
   "outputs": [
    {
     "name": "stdout",
     "output_type": "stream",
     "text": [
      "(1, 'Use a Cabeça Python', 'Programação Python', 'Paul Barry', None)\n"
     ]
    }
   ],
   "source": [
    "import sqlite3\n",
    "conexao = sqlite3.connect('primeiro_teste.sqlite')\n",
    "cursor = conexao.cursor()\n",
    "cursor.execute(\"\"\"\n",
    "               SELECT * FROM livros;\n",
    "               \"\"\")\n",
    "for linha in cursor.fetchall():\n",
    "    print(linha)\n",
    "conexao.close()\n",
    "\"\"\"O uso do *, indica que são todos os valores\"\"\""
   ]
  },
  {
   "cell_type": "code",
   "execution_count": 1,
   "metadata": {},
   "outputs": [
    {
     "name": "stdout",
     "output_type": "stream",
     "text": [
      "Informe o número de livros que você deseja inserir: 2\n",
      "Informe o título do livro: Use a Cabeça Python\n",
      "Informe o assunto do livro: Python\n",
      "Informe o autor do livro: desconhecido\n",
      "Informe o título do livro: Cripto Moedas melhor que dinheiro\n",
      "Informe o assunto do livro: cripto moedas\n",
      "Informe o autor do livro: Andre Franco\n"
     ]
    }
   ],
   "source": [
    "\"\"\"Vamos então inserir mais valores no nosso banco de dados \n",
    "a fim de podermos fazer uma melhor exibição\"\"\"\n",
    "\n",
    "def joga_livro2(n):\n",
    "    #\n",
    "    import sqlite3\n",
    "    conexao = sqlite3.connect('primeiro_teste.sqlite')\n",
    "    cursor = conexao.cursor()\n",
    "    #\n",
    "    vezes = 0\n",
    "    while vezes < n:\n",
    "        a = str(input('Informe o título do livro: '))\n",
    "        b = str(input('Informe o assunto do livro: '))\n",
    "        c = str(input('Informe o autor do livro: '))\n",
    "        cursor.execute(\"INSERT INTO livros (titulo, assunto, autor) VALUES (?, ?, ?)\", \n",
    "                       (a, b, c))\n",
    "        conexao.commit()\n",
    "        vezes += 1\n",
    "    conexao.close()\n",
    "a = int(input('Informe o número de livros que você deseja inserir: '))\n",
    "joga_livro2(a)"
   ]
  },
  {
   "cell_type": "markdown",
   "metadata": {},
   "source": [
    "### Usando laços, podemos criar listas com nomes, e inserí-los todos no banco de dados de uma só vez através de um range."
   ]
  },
  {
   "cell_type": "code",
   "execution_count": 2,
   "metadata": {},
   "outputs": [
    {
     "name": "stdout",
     "output_type": "stream",
     "text": [
      "(1, 'Use a Cabeça Python', 'Programação Python', 'Paul Barry', None)\n",
      "(2, 'Cálculo 1', 'Cálculo Diferencial e Integral', 'Paulo Mancera', None)\n",
      "(3, 'Cálculo 2', 'Cálculo Diferencial e Integral', 'Paulo Mancera', None)\n",
      "(4, 'Cálculo 3', 'Cálculo Diferencial e Integral', 'Paulo Mancera', None)\n",
      "(5, 'Use a Cabeça Python', 'Python', 'desconhecido', None)\n",
      "(6, 'Cripto Moedas melhor que dinheiro', 'cripto moedas', 'Andre Franco', None)\n"
     ]
    }
   ],
   "source": [
    "\"\"\"E lendo estes dados\"\"\"\n",
    "import sqlite3\n",
    "conexao = sqlite3.connect('primeiro_teste.sqlite')\n",
    "cursor = conexao.cursor()\n",
    "cursor.execute(\"\"\"\n",
    "               SELECT * FROM livros;\n",
    "               \"\"\")\n",
    "for linha in cursor.fetchall():\n",
    "    print(linha)\n",
    "conexao.close()"
   ]
  },
  {
   "cell_type": "code",
   "execution_count": 10,
   "metadata": {},
   "outputs": [
    {
     "name": "stdout",
     "output_type": "stream",
     "text": [
      "Insira o assunto:Python\n",
      "(5, 'Use a Cabeça Python', 'Python', 'desconhecido', None)\n"
     ]
    }
   ],
   "source": [
    "def seleciona(assunto):\n",
    "    import sqlite3\n",
    "    conexao = sqlite3.connect('primeiro_teste.sqlite')\n",
    "    cursor = conexao.cursor()\n",
    "    cursor.execute(\"\"\"\n",
    "                   SELECT * FROM livros WHERE assunto = ?\"\"\", (assunto,))\n",
    "                   \n",
    "    for linha in cursor.fetchall():\n",
    "        print(linha)\n",
    "    conexao.close()\n",
    "a = input('Insira o assunto:')\n",
    "seleciona(a)\n",
    "\"\"\"A necessidade da vírgula depois de 'assunto' na linha onde selecionamos os dados a serem \n",
    "exibidos, vem do fato dos parâmetros esperados serem do \n",
    "tipo tupla, e a vírgula defina uma tupla.\"\"\""
   ]
  },
  {
   "cell_type": "code",
   "execution_count": 17,
   "metadata": {
    "scrolled": true
   },
   "outputs": [
    {
     "name": "stdout",
     "output_type": "stream",
     "text": [
      "Informe o número de livros que você deseja inserir: 5\n",
      "Informe o título do livro: Use a Cabeça Python\n",
      "Informe o assunto do livro: Programação\n",
      "Informe o autor do livro: desconhecido\n",
      "Informe a data de publicação do livro: 2004-10-04\n",
      "Informe o título do livro: Use a Cabeça C\n",
      "Informe o assunto do livro: Programação\n",
      "Informe o autor do livro: desconhecido\n",
      "Informe a data de publicação do livro: 2004-10-04\n",
      "Informe o título do livro: Use a Cabeça HTML\n",
      "Informe o assunto do livro: Web Designer\n",
      "Informe o autor do livro: desconhecido\n",
      "Informe a data de publicação do livro: 2004-10-04\n",
      "Informe o título do livro: Use a Cabeça Física\n",
      "Informe o assunto do livro: Exatas\n",
      "Informe o autor do livro: desconhecido\n",
      "Informe a data de publicação do livro: 2004-10-04\n",
      "Informe o título do livro: Use a Cabeça Cálculo\n",
      "Informe o assunto do livro: Exatas\n",
      "Informe o autor do livro: desconhecido\n",
      "Informe a data de publicação do livro: 2004-10-04\n"
     ]
    },
    {
     "data": {
      "text/plain": [
       "'ano-mês-dia'"
      ]
     },
     "execution_count": 17,
     "metadata": {},
     "output_type": "execute_result"
    }
   ],
   "source": [
    "\"\"\"Vamos então criar uma nova função, inserindo mais livros, \n",
    "mas tornando obrigatória a inserção da data:\"\"\" \n",
    "def joga_livro3(n):\n",
    "    #\n",
    "    import sqlite3\n",
    "    conexao = sqlite3.connect('primeiro_teste.sqlite')\n",
    "    cursor = conexao.cursor()\n",
    "    #\n",
    "    vezes = 0\n",
    "    while vezes < n:\n",
    "        a = str(input('Informe o título do livro: '))\n",
    "        b = str(input('Informe o assunto do livro: '))\n",
    "        c = str(input('Informe o autor do livro: '))\n",
    "        d = str(input('Informe a data de publicação do livro: '))\n",
    "        cursor.execute(\"\"\"INSERT INTO livros (titulo, assunto, autor, publicacao) \n",
    "                       VALUES (?, ?, ?, ?)\"\"\", \n",
    "                       (a, b, c, d))\n",
    "        conexao.commit()\n",
    "        vezes += 1\n",
    "    conexao.close()\n",
    "a = int(input('Informe o número de livros que você deseja inserir: '))\n",
    "joga_livro3(a)\n",
    "\"\"\"ano-mês-dia\"\"\""
   ]
  },
  {
   "cell_type": "code",
   "execution_count": 18,
   "metadata": {},
   "outputs": [
    {
     "name": "stdout",
     "output_type": "stream",
     "text": [
      "(1, 'Use a Cabeça Python', 'Programação', 'desconhecido', '2004-10-04')\n",
      "(2, 'Use a Cabeça C', 'Programação', 'desconhecido', '2004-10-04')\n",
      "(4, 'Use a Cabeça Física', 'Exatas', 'desconhecido', '2004-10-04')\n",
      "(5, 'Use a Cabeça Cálculo', 'Exatas', 'desconhecido', '2004-10-04')\n"
     ]
    }
   ],
   "source": [
    "\"\"\"Então agora criaremos algumas condições para exibir os dados\"\"\"\n",
    "import sqlite3\n",
    "conexao = sqlite3.connect('primeiro_teste.sqlite')\n",
    "cursor = conexao.cursor()\n",
    "cursor.execute(\"\"\"SELECT * FROM livros WHERE assunto = ? OR assunto = ?\"\"\", ('Programação','Exatas'))\n",
    "for linha in cursor.fetchall():\n",
    "    print(linha)\n",
    "conexao.close()\n",
    "\"\"\"Assim como anteriormente, estes valores: Programação e Exatas, \n",
    "poderiam ter sido incluidos dinamicamente sem nenhum problema.\"\"\""
   ]
  },
  {
   "cell_type": "markdown",
   "metadata": {},
   "source": [
    "### O Livro de id 3 não foi printado, pois ele não tinha assunto Programação OU Exatas. O mesmo pode ser feito quando são dados do tipo numéricos, criando-se uma condição numérica."
   ]
  },
  {
   "cell_type": "code",
   "execution_count": 3,
   "metadata": {},
   "outputs": [],
   "source": [
    "import sqlite3\n",
    "class Biblioteca:\n",
    "    def __init__(self, db_nome):\n",
    "        self.conexao = sqlite3.connect(db_nome)\n",
    "        self.cursor = self.conexao.cursor()\n",
    "        #--Conectado ao banco de dados --#\n",
    "        print('Banco de dados conectado:'+ db_nome)\n",
    "        \n",
    "    \n",
    "    def inserir_livro(self):\n",
    "        a = str(input('Informe o título do livro: '))\n",
    "        b = str(input('Informe o assunto do livro: '))\n",
    "        c = str(input('Informe o autor do livro: '))\n",
    "        d = str(input('Informe a data de publicação do livro: '))\n",
    "        self.cursor.execute(\"\"\"INSERT INTO livros(titulo, assunto, autor, publicacao)\n",
    "                           VALUES (?, ?, ?, ?)\"\"\", (a, b, c, d))\n",
    "        self.conexao.commit()\n",
    "        self.conexao.close()\n",
    "\n",
    "        \n",
    "\"\"\"Nossa classe está boa, e a função inserir livro funciona belezinha. Mas se a tabela\n",
    "livros não existir, um erro é retornado. Vamos resolver isso.\"\"\""
   ]
  },
  {
   "cell_type": "code",
   "execution_count": 9,
   "metadata": {},
   "outputs": [
    {
     "name": "stdout",
     "output_type": "stream",
     "text": [
      "Banco de dados conectado:primeiro_teste.sqlite\n",
      "Informe o título do livro: Simple is better than complex\n",
      "Informe o assunto do livro: Python\n",
      "Informe o autor do livro: Tim Peters\n",
      "Informe a data de publicação do livro: 1998-06-15\n"
     ]
    }
   ],
   "source": [
    "livro = Biblioteca('primeiro_teste.sqlite')\n",
    "livro.inserir_livro()\n"
   ]
  },
  {
   "cell_type": "code",
   "execution_count": 5,
   "metadata": {},
   "outputs": [],
   "source": [
    "import sqlite3\n",
    "class Biblioteca2:\n",
    "    def __init__(self, db_nome):\n",
    "        self.conexao = sqlite3.connect(db_nome)\n",
    "        self.cursor = self.conexao.cursor()\n",
    "        #--Conectado ao banco de dados --#\n",
    "        print('Conectado ao banco:' + db_nome)\n",
    "        \n",
    "    \n",
    "    def inserir_livro(self):\n",
    "        a = str(input('Informe o título do livro: '))\n",
    "        b = str(input('Informe o assunto do livro: '))\n",
    "        c = str(input('Informe o autor do livro: '))\n",
    "        d = str(input('Informe a data de publicação do livro: '))\n",
    "        try:\n",
    "            self.cursor.execute(\"\"\"INSERT INTO livros(titulo, assunto, autor, publicacao)\n",
    "                               VALUES (?, ?, ?, ?)\"\"\", (a, b, c, d))\n",
    "            self.conexao.commit()\n",
    "            self.conexao.close()\n",
    "        except:#caso a tabela livros não exista, vamos criá-la\n",
    "            self.cursor.execute(\"\"\"CREATE TABLE livros (\n",
    "            id INTEGER PRIMARY KEY AUTOINCREMENT UNIQUE NOT NULL,\n",
    "            titulo VARCHAR NOT NULL,\n",
    "            assunto TEXT NOT NULL,\n",
    "            autor TEXT NOT NULL,\n",
    "            publicacao DATE NULL)\"\"\")\n",
    "            self.cursor.execute(\"\"\"INSERT INTO livros(titulo, assunto, autor, publicacao)\n",
    "                               VALUES (?, ?, ?, ?)\"\"\", (a, b, c, d))\n",
    "            self.conexao.commit()\n",
    "            self.conexao.close()\n",
    "\n",
    "\"\"\"Agora ficou melhor^^\"\"\""
   ]
  },
  {
   "cell_type": "code",
   "execution_count": 6,
   "metadata": {},
   "outputs": [
    {
     "name": "stdout",
     "output_type": "stream",
     "text": [
      "Conectado ao banco:segundo_teste.sqlite\n",
      "Informe o título do livro: Beautiful is better than ugly\n",
      "Informe o assunto do livro: Python\n",
      "Informe o autor do livro: Tim Petters\n",
      "Informe a data de publicação do livro: 1998-06-15\n"
     ]
    }
   ],
   "source": [
    "livro = Biblioteca2('segundo_teste.sqlite')\n",
    "livro.inserir_livro()\n"
   ]
  },
  {
   "cell_type": "code",
   "execution_count": null,
   "metadata": {},
   "outputs": [],
   "source": []
  }
 ],
 "metadata": {
  "kernelspec": {
   "display_name": "Python 3",
   "language": "python",
   "name": "python3"
  },
  "language_info": {
   "codemirror_mode": {
    "name": "ipython",
    "version": 3
   },
   "file_extension": ".py",
   "mimetype": "text/x-python",
   "name": "python",
   "nbconvert_exporter": "python",
   "pygments_lexer": "ipython3",
   "version": "3.6.5"
  }
 },
 "nbformat": 4,
 "nbformat_minor": 2
}
